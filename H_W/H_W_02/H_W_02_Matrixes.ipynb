{
 "cells": [
  {
   "cell_type": "markdown",
   "id": "bf08666b",
   "metadata": {},
   "source": [
    "### Домашнее задание**\n",
    "\n",
    "● Создайте случайную матрицу А1 размерностью 5 на 5\n",
    "\n",
    "● Транспонируйте матрицу A1\n",
    "\n",
    "● Найдите обратную матрицу для А1\n",
    "\n",
    "● Создайте диагональную матрицу - поэлементно перемножив единичную\n",
    "матрицу I и случайную матрицу A2 размерности 4 на 4\n",
    "\n",
    "● Создайте нулевую матрицу размерности 3 на 3\n",
    "\n",
    "● Для всех полученных матриц найдите: определитель, ранг и собственные\n",
    "значения\n",
    "\n",
    "● Проанализируйте результаты"
   ]
  },
  {
   "cell_type": "markdown",
   "id": "192d2ca6",
   "metadata": {},
   "source": [
    "###### Создайте случайную матрицу А1 размерностью 5 на 5"
   ]
  },
  {
   "cell_type": "code",
   "execution_count": 2,
   "id": "14e3efd6",
   "metadata": {},
   "outputs": [],
   "source": [
    "import numpy as np"
   ]
  },
  {
   "cell_type": "code",
   "execution_count": 34,
   "id": "b772fdfe",
   "metadata": {},
   "outputs": [
    {
     "data": {
      "text/plain": [
       "array([[0.10536894, 0.26764989, 0.12429827, 0.94134178, 0.70140835],\n",
       "       [0.97559605, 0.59617329, 0.44936631, 0.93575725, 0.37152166],\n",
       "       [0.41207945, 0.8855144 , 0.20914217, 0.44362982, 0.80255445],\n",
       "       [0.33794038, 0.07827669, 0.99039062, 0.3425646 , 0.95131018],\n",
       "       [0.55086446, 0.9183059 , 0.05119245, 0.47655594, 0.07571383]])"
      ]
     },
     "execution_count": 34,
     "metadata": {},
     "output_type": "execute_result"
    }
   ],
   "source": [
    "A1 = np.random.random((5,5))\n",
    "A1"
   ]
  },
  {
   "cell_type": "markdown",
   "id": "f8f6def1",
   "metadata": {},
   "source": [
    "###### Транспонируйте матрицу A1"
   ]
  },
  {
   "cell_type": "code",
   "execution_count": 35,
   "id": "d6d60b8a",
   "metadata": {},
   "outputs": [
    {
     "data": {
      "text/plain": [
       "array([[0.10536894, 0.97559605, 0.41207945, 0.33794038, 0.55086446],\n",
       "       [0.26764989, 0.59617329, 0.8855144 , 0.07827669, 0.9183059 ],\n",
       "       [0.12429827, 0.44936631, 0.20914217, 0.99039062, 0.05119245],\n",
       "       [0.94134178, 0.93575725, 0.44362982, 0.3425646 , 0.47655594],\n",
       "       [0.70140835, 0.37152166, 0.80255445, 0.95131018, 0.07571383]])"
      ]
     },
     "execution_count": 35,
     "metadata": {},
     "output_type": "execute_result"
    }
   ],
   "source": [
    "B1 = A1.transpose()\n",
    "B1"
   ]
  },
  {
   "cell_type": "markdown",
   "id": "22359b6a",
   "metadata": {},
   "source": [
    "######   Найдите обратную матрицу для А1"
   ]
  },
  {
   "cell_type": "code",
   "execution_count": 36,
   "id": "17b28641",
   "metadata": {},
   "outputs": [
    {
     "data": {
      "text/plain": [
       "array([[-1.37731813,  2.34136877,  1.68303541, -1.1080644 , -2.64709063],\n",
       "       [ 0.14377283, -1.27457607, -0.36256442,  0.52417331,  2.17946207],\n",
       "       [ 0.23695027, -1.24710057, -2.06378812,  1.84861917,  2.57308446],\n",
       "       [ 1.32895086, -0.21979494, -1.35367937,  0.16469516,  1.04665898],\n",
       "       [-0.24779246,  0.65061558,  2.0679835 , -0.58219147, -2.2946767 ]])"
      ]
     },
     "execution_count": 36,
     "metadata": {},
     "output_type": "execute_result"
    }
   ],
   "source": [
    "A1_inverse = np.linalg.inv(A1)\n",
    "A1_inverse"
   ]
  },
  {
   "cell_type": "markdown",
   "id": "4a2ddf08",
   "metadata": {},
   "source": [
    "###### Создайте диагональную матрицу - поэлементно перемножив единичную матрицу I и случайную матрицу A2 размерности 4 на 4"
   ]
  },
  {
   "cell_type": "code",
   "execution_count": 46,
   "id": "f7073b1d",
   "metadata": {},
   "outputs": [],
   "source": [
    "x1 = np.eye(4)\n",
    "A2 = np.random.random((4,4))"
   ]
  },
  {
   "cell_type": "code",
   "execution_count": 47,
   "id": "617cbcab",
   "metadata": {},
   "outputs": [
    {
     "data": {
      "text/plain": [
       "array([[1., 0., 0., 0.],\n",
       "       [0., 1., 0., 0.],\n",
       "       [0., 0., 1., 0.],\n",
       "       [0., 0., 0., 1.]])"
      ]
     },
     "execution_count": 47,
     "metadata": {},
     "output_type": "execute_result"
    }
   ],
   "source": [
    "x1"
   ]
  },
  {
   "cell_type": "code",
   "execution_count": 48,
   "id": "138f71dc",
   "metadata": {},
   "outputs": [
    {
     "data": {
      "text/plain": [
       "array([[0.4674959 , 0.50427053, 0.30261874, 0.57136213],\n",
       "       [0.74597692, 0.89696134, 0.8493476 , 0.45159518],\n",
       "       [0.06041751, 0.99454098, 0.73708035, 0.14514037],\n",
       "       [0.82387681, 0.38647001, 0.4966595 , 0.34259563]])"
      ]
     },
     "execution_count": 48,
     "metadata": {},
     "output_type": "execute_result"
    }
   ],
   "source": [
    "A2"
   ]
  },
  {
   "cell_type": "code",
   "execution_count": 49,
   "id": "a20441de",
   "metadata": {},
   "outputs": [
    {
     "data": {
      "text/plain": [
       "array([[0.4674959 , 0.50427053, 0.30261874, 0.57136213],\n",
       "       [0.74597692, 0.89696134, 0.8493476 , 0.45159518],\n",
       "       [0.06041751, 0.99454098, 0.73708035, 0.14514037],\n",
       "       [0.82387681, 0.38647001, 0.4966595 , 0.34259563]])"
      ]
     },
     "execution_count": 49,
     "metadata": {},
     "output_type": "execute_result"
    }
   ],
   "source": [
    "A3=x1@A2\n",
    "A3"
   ]
  },
  {
   "cell_type": "markdown",
   "id": "25fd35b2",
   "metadata": {},
   "source": [
    "###### Создайте нулевую матрицу размерности 3 на 3"
   ]
  },
  {
   "cell_type": "code",
   "execution_count": 21,
   "id": "73a19de1",
   "metadata": {},
   "outputs": [
    {
     "data": {
      "text/plain": [
       "array([[0., 0., 0.],\n",
       "       [0., 0., 0.],\n",
       "       [0., 0., 0.]])"
      ]
     },
     "execution_count": 21,
     "metadata": {},
     "output_type": "execute_result"
    }
   ],
   "source": [
    "zero = np.zeros([3,3])\n",
    "zero"
   ]
  },
  {
   "cell_type": "markdown",
   "id": "f194f492",
   "metadata": {},
   "source": [
    "###### Для всех полученных матриц найдите: определитель, ранг и собственные значения"
   ]
  },
  {
   "cell_type": "code",
   "execution_count": 40,
   "id": "2ceef3bf",
   "metadata": {},
   "outputs": [
    {
     "data": {
      "text/plain": [
       "0.18582418551162208"
      ]
     },
     "execution_count": 40,
     "metadata": {},
     "output_type": "execute_result"
    }
   ],
   "source": [
    "# determinant\n",
    "np.linalg.det(A1)"
   ]
  },
  {
   "cell_type": "code",
   "execution_count": 50,
   "id": "89b82e45",
   "metadata": {},
   "outputs": [
    {
     "data": {
      "text/plain": [
       "0.011669723796156783"
      ]
     },
     "execution_count": 50,
     "metadata": {},
     "output_type": "execute_result"
    }
   ],
   "source": [
    "np.linalg.det(A2)"
   ]
  },
  {
   "cell_type": "code",
   "execution_count": 51,
   "id": "9420100b",
   "metadata": {},
   "outputs": [
    {
     "data": {
      "text/plain": [
       "0.011669723796156783"
      ]
     },
     "execution_count": 51,
     "metadata": {},
     "output_type": "execute_result"
    }
   ],
   "source": [
    "np.linalg.det(A3)"
   ]
  },
  {
   "cell_type": "code",
   "execution_count": 52,
   "id": "29742d6e",
   "metadata": {},
   "outputs": [
    {
     "data": {
      "text/plain": [
       "0.185824185511622"
      ]
     },
     "execution_count": 52,
     "metadata": {},
     "output_type": "execute_result"
    }
   ],
   "source": [
    "np.linalg.det(B1)"
   ]
  },
  {
   "cell_type": "code",
   "execution_count": 53,
   "id": "cf137327",
   "metadata": {},
   "outputs": [
    {
     "data": {
      "text/plain": [
       "5.38143082530803"
      ]
     },
     "execution_count": 53,
     "metadata": {},
     "output_type": "execute_result"
    }
   ],
   "source": [
    "np.linalg.det(A1_inverse)"
   ]
  },
  {
   "cell_type": "code",
   "execution_count": 54,
   "id": "20834470",
   "metadata": {},
   "outputs": [
    {
     "data": {
      "text/plain": [
       "5"
      ]
     },
     "execution_count": 54,
     "metadata": {},
     "output_type": "execute_result"
    }
   ],
   "source": [
    "# rank\n",
    "np.linalg.matrix_rank(A1)"
   ]
  },
  {
   "cell_type": "code",
   "execution_count": 55,
   "id": "eb533be5",
   "metadata": {},
   "outputs": [
    {
     "data": {
      "text/plain": [
       "4"
      ]
     },
     "execution_count": 55,
     "metadata": {},
     "output_type": "execute_result"
    }
   ],
   "source": [
    "np.linalg.matrix_rank(A2)"
   ]
  },
  {
   "cell_type": "code",
   "execution_count": 56,
   "id": "008ec21f",
   "metadata": {},
   "outputs": [
    {
     "data": {
      "text/plain": [
       "4"
      ]
     },
     "execution_count": 56,
     "metadata": {},
     "output_type": "execute_result"
    }
   ],
   "source": [
    "np.linalg.matrix_rank(A3)"
   ]
  },
  {
   "cell_type": "code",
   "execution_count": 57,
   "id": "0d4c9070",
   "metadata": {},
   "outputs": [
    {
     "data": {
      "text/plain": [
       "5"
      ]
     },
     "execution_count": 57,
     "metadata": {},
     "output_type": "execute_result"
    }
   ],
   "source": [
    "np.linalg.matrix_rank(B1)"
   ]
  },
  {
   "cell_type": "code",
   "execution_count": 58,
   "id": "74a65aec",
   "metadata": {},
   "outputs": [
    {
     "data": {
      "text/plain": [
       "5"
      ]
     },
     "execution_count": 58,
     "metadata": {},
     "output_type": "execute_result"
    }
   ],
   "source": [
    "np.linalg.matrix_rank(A1_inverse)"
   ]
  },
  {
   "cell_type": "code",
   "execution_count": 24,
   "id": "01e1e455",
   "metadata": {},
   "outputs": [
    {
     "data": {
      "text/plain": [
       "(array([ 2.45628966+0.j        , -0.58981069+0.j        ,\n",
       "         0.32968118+0.33228643j,  0.32968118-0.33228643j,\n",
       "         0.17567537+0.j        ]),\n",
       " array([[-0.33527711+0.j        ,  0.74837099+0.j        ,\n",
       "         -0.25145296-0.07126683j, -0.25145296+0.07126683j,\n",
       "         -0.46844903+0.j        ],\n",
       "        [-0.66653741+0.j        , -0.10323067+0.j        ,\n",
       "          0.37401508-0.14939059j,  0.37401508+0.14939059j,\n",
       "          0.79311751+0.j        ],\n",
       "        [-0.37185291+0.j        , -0.13714063+0.j        ,\n",
       "         -0.28032893+0.38978867j, -0.28032893-0.38978867j,\n",
       "         -0.05805549+0.j        ],\n",
       "        [-0.40505903+0.j        , -0.07531689+0.j        ,\n",
       "          0.65885035+0.j        ,  0.65885035-0.j        ,\n",
       "         -0.38489375+0.j        ],\n",
       "        [-0.37545936+0.j        , -0.63624218+0.j        ,\n",
       "         -0.1854413 -0.26551053j, -0.1854413 +0.26551053j,\n",
       "         -0.00254691+0.j        ]]))"
      ]
     },
     "execution_count": 24,
     "metadata": {},
     "output_type": "execute_result"
    }
   ],
   "source": [
    "# egen betydning\n",
    "np.linalg.eig(A1)"
   ]
  },
  {
   "cell_type": "code",
   "execution_count": 25,
   "id": "370539d1",
   "metadata": {},
   "outputs": [
    {
     "data": {
      "text/plain": [
       "array([ 2.45628966+0.j        , -0.58981069+0.j        ,\n",
       "        0.32968118+0.33228643j,  0.32968118-0.33228643j,\n",
       "        0.17567537+0.j        ])"
      ]
     },
     "execution_count": 25,
     "metadata": {},
     "output_type": "execute_result"
    }
   ],
   "source": [
    "np.linalg.eigvals(A1)"
   ]
  },
  {
   "cell_type": "code",
   "execution_count": 59,
   "id": "927483b7",
   "metadata": {},
   "outputs": [
    {
     "data": {
      "text/plain": [
       "array([ 2.26943183,  0.56143713, -0.36139243, -0.02534331])"
      ]
     },
     "execution_count": 59,
     "metadata": {},
     "output_type": "execute_result"
    }
   ],
   "source": [
    "np.linalg.eigvals(A2)"
   ]
  },
  {
   "cell_type": "code",
   "execution_count": 60,
   "id": "aad73b5d",
   "metadata": {},
   "outputs": [
    {
     "data": {
      "text/plain": [
       "array([ 2.26943183,  0.56143713, -0.36139243, -0.02534331])"
      ]
     },
     "execution_count": 60,
     "metadata": {},
     "output_type": "execute_result"
    }
   ],
   "source": [
    "np.linalg.eigvals(A3)"
   ]
  },
  {
   "cell_type": "code",
   "execution_count": 61,
   "id": "0cbbb448",
   "metadata": {},
   "outputs": [
    {
     "data": {
      "text/plain": [
       "array([ 2.59328928+0.j        , -0.49952338+0.j        ,\n",
       "       -0.22857546+0.j        , -0.2681138 +0.74544637j,\n",
       "       -0.2681138 -0.74544637j])"
      ]
     },
     "execution_count": 61,
     "metadata": {},
     "output_type": "execute_result"
    }
   ],
   "source": [
    "np.linalg.eigvals(B1)"
   ]
  },
  {
   "cell_type": "code",
   "execution_count": 62,
   "id": "97c9ed24",
   "metadata": {},
   "outputs": [
    {
     "data": {
      "text/plain": [
       "array([-4.37492278+0.j       , -2.00190829+0.j       ,\n",
       "       -0.42722173+1.1878198j, -0.42722173-1.1878198j,\n",
       "        0.38561066+0.j       ])"
      ]
     },
     "execution_count": 62,
     "metadata": {},
     "output_type": "execute_result"
    }
   ],
   "source": [
    "np.linalg.eigvals(A1_inverse)"
   ]
  },
  {
   "cell_type": "markdown",
   "id": "4f1a0d9e",
   "metadata": {},
   "source": [
    "###### Проанализируйте результаты"
   ]
  },
  {
   "cell_type": "code",
   "execution_count": 37,
   "id": "6e2ee692",
   "metadata": {},
   "outputs": [
    {
     "data": {
      "text/plain": [
       "array([[ 1.00000000e+00, -5.55111512e-17,  0.00000000e+00,\n",
       "         5.55111512e-17,  0.00000000e+00],\n",
       "       [ 4.16333634e-17,  1.00000000e+00,  1.11022302e-16,\n",
       "         2.77555756e-17,  3.33066907e-16],\n",
       "       [-5.55111512e-17,  0.00000000e+00,  1.00000000e+00,\n",
       "         5.55111512e-17,  2.22044605e-16],\n",
       "       [ 8.32667268e-17,  0.00000000e+00, -4.44089210e-16,\n",
       "         1.00000000e+00,  0.00000000e+00],\n",
       "       [-7.97972799e-17, -4.85722573e-17,  4.44089210e-16,\n",
       "        -1.59594560e-16,  1.00000000e+00]])"
      ]
     },
     "execution_count": 37,
     "metadata": {},
     "output_type": "execute_result"
    }
   ],
   "source": [
    "A1@(np.linalg.inv(A1))"
   ]
  },
  {
   "cell_type": "code",
   "execution_count": 63,
   "id": "42bfa2e2",
   "metadata": {},
   "outputs": [
    {
     "data": {
      "text/plain": [
       "array([[ 1.00000000e+00, -8.88178420e-16, -8.88178420e-16,\n",
       "        -8.88178420e-16],\n",
       "       [-2.08166817e-16,  1.00000000e+00,  1.33226763e-15,\n",
       "         0.00000000e+00],\n",
       "       [-1.02695630e-15,  6.66133815e-16,  1.00000000e+00,\n",
       "        -1.11022302e-15],\n",
       "       [ 8.32667268e-17,  8.88178420e-16,  8.88178420e-16,\n",
       "         1.00000000e+00]])"
      ]
     },
     "execution_count": 63,
     "metadata": {},
     "output_type": "execute_result"
    }
   ],
   "source": [
    "A2@(np.linalg.inv(A2))"
   ]
  },
  {
   "cell_type": "code",
   "execution_count": 38,
   "id": "5414df78",
   "metadata": {},
   "outputs": [
    {
     "data": {
      "text/plain": [
       "array([[ 1.00000000e+00, -2.22044605e-16,  2.22044605e-16,\n",
       "        -2.08166817e-17],\n",
       "       [-4.44089210e-16,  1.00000000e+00,  0.00000000e+00,\n",
       "        -2.77555756e-17],\n",
       "       [ 0.00000000e+00,  0.00000000e+00,  1.00000000e+00,\n",
       "         0.00000000e+00],\n",
       "       [ 0.00000000e+00,  0.00000000e+00,  4.44089210e-16,\n",
       "         1.00000000e+00]])"
      ]
     },
     "execution_count": 38,
     "metadata": {},
     "output_type": "execute_result"
    }
   ],
   "source": [
    "A3@(np.linalg.inv(A3))"
   ]
  },
  {
   "cell_type": "code",
   "execution_count": 64,
   "id": "a1e96feb",
   "metadata": {},
   "outputs": [
    {
     "data": {
      "text/plain": [
       "array([[ 1.00000000e+00, -2.22044605e-16,  4.44089210e-16,\n",
       "         0.00000000e+00,  2.22044605e-16],\n",
       "       [ 4.44089210e-16,  1.00000000e+00, -4.44089210e-16,\n",
       "        -2.22044605e-16,  4.44089210e-16],\n",
       "       [-8.32667268e-17,  8.32667268e-17,  1.00000000e+00,\n",
       "        -6.93889390e-18, -2.08166817e-16],\n",
       "       [ 0.00000000e+00,  0.00000000e+00,  0.00000000e+00,\n",
       "         1.00000000e+00,  0.00000000e+00],\n",
       "       [ 6.38378239e-16,  2.77555756e-17, -3.60822483e-16,\n",
       "        -3.88578059e-16,  1.00000000e+00]])"
      ]
     },
     "execution_count": 64,
     "metadata": {},
     "output_type": "execute_result"
    }
   ],
   "source": [
    "B1@(np.linalg.inv(B1))"
   ]
  },
  {
   "cell_type": "code",
   "execution_count": 43,
   "id": "cf6c9e4d",
   "metadata": {},
   "outputs": [
    {
     "data": {
      "text/plain": [
       "0.18582418551162208"
      ]
     },
     "execution_count": 43,
     "metadata": {},
     "output_type": "execute_result"
    }
   ],
   "source": [
    "a_1 = np.linalg.det(A1)\n",
    "a_1"
   ]
  },
  {
   "cell_type": "code",
   "execution_count": 44,
   "id": "17656f08",
   "metadata": {},
   "outputs": [
    {
     "data": {
      "text/plain": [
       "5.38143082530803"
      ]
     },
     "execution_count": 44,
     "metadata": {},
     "output_type": "execute_result"
    }
   ],
   "source": [
    "a_2 = np.linalg.det(np.linalg.inv(A1))\n",
    "a_2"
   ]
  },
  {
   "cell_type": "code",
   "execution_count": 45,
   "id": "82479a62",
   "metadata": {},
   "outputs": [
    {
     "data": {
      "text/plain": [
       "5.381430825308025"
      ]
     },
     "execution_count": 45,
     "metadata": {},
     "output_type": "execute_result"
    }
   ],
   "source": [
    "1/a_1"
   ]
  },
  {
   "cell_type": "code",
   "execution_count": null,
   "id": "8a6b09ff",
   "metadata": {},
   "outputs": [],
   "source": []
  }
 ],
 "metadata": {
  "kernelspec": {
   "display_name": "Python 3",
   "language": "python",
   "name": "python3"
  },
  "language_info": {
   "codemirror_mode": {
    "name": "ipython",
    "version": 3
   },
   "file_extension": ".py",
   "mimetype": "text/x-python",
   "name": "python",
   "nbconvert_exporter": "python",
   "pygments_lexer": "ipython3",
   "version": "3.8.8"
  }
 },
 "nbformat": 4,
 "nbformat_minor": 5
}
