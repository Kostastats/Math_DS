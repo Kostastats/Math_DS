{
 "cells": [
  {
   "cell_type": "markdown",
   "id": "270a8bbe",
   "metadata": {},
   "source": [
    "### Домашнее задание\n",
    "Вычислить вектор градиента и матрицу Гессе для функции:\n",
    "\n",
    "f(X) = 2x(1)^3 - 3x(1)x(2) + 2x(2)x(3)^2 - x(2)^3\n",
    "\n",
    "В точке M=(2,1,1).\n",
    "\n",
    "Постройте график трехмерный график функции:\n",
    "\n",
    "f(X)= x(2)^2 - x(1)^2x(2) + 2x(1)x(2)\n",
    "\n",
    "А также график линий уровня с уровнями {1,5,10}"
   ]
  },
  {
   "cell_type": "code",
   "execution_count": 1,
   "id": "32b31e6c",
   "metadata": {},
   "outputs": [],
   "source": [
    "import numpy as np\n",
    "import matplotlib.cm as cm \n",
    "import matplotlib.pyplot as plt"
   ]
  },
  {
   "cell_type": "code",
   "execution_count": 2,
   "id": "3fa69db2",
   "metadata": {},
   "outputs": [],
   "source": [
    "import sympy as sym"
   ]
  },
  {
   "cell_type": "code",
   "execution_count": 3,
   "id": "38fb6f5b",
   "metadata": {},
   "outputs": [],
   "source": [
    "x1 = sym.Symbol('x1')\n",
    "x2=sym.Symbol('x2')\n",
    "x3=sym.Symbol('x3')"
   ]
  },
  {
   "cell_type": "code",
   "execution_count": 4,
   "id": "39a7926b",
   "metadata": {},
   "outputs": [
    {
     "data": {
      "text/latex": [
       "$\\displaystyle 2 x_{1}^{3} - 3 x_{1} x_{2} - x_{2}^{3} + 2 x_{2} x_{3}^{2}$"
      ],
      "text/plain": [
       "2*x1**3 - 3*x1*x2 - x2**3 + 2*x2*x3**2"
      ]
     },
     "execution_count": 4,
     "metadata": {},
     "output_type": "execute_result"
    }
   ],
   "source": [
    "2*x1**3 - 3*x1*x2 + 2*x2*x3**2 - x2**3\n"
   ]
  },
  {
   "cell_type": "code",
   "execution_count": 60,
   "id": "f170cfa8",
   "metadata": {},
   "outputs": [
    {
     "name": "stdout",
     "output_type": "stream",
     "text": [
      "for x1 =  6*x1**2 - 3*x2\n"
     ]
    }
   ],
   "source": [
    "X1 = sym.diff(2*x1**3 - 3*x1*x2 + 2*x2*x3**2 - x2**3 , x1)\n",
    "print('for x1 = ',X1)\n"
   ]
  },
  {
   "cell_type": "code",
   "execution_count": 53,
   "id": "2f8008f2",
   "metadata": {},
   "outputs": [
    {
     "name": "stdout",
     "output_type": "stream",
     "text": [
      "for x2 =  -3*x1 - 3*x2**2 + 2*x3**2\n"
     ]
    }
   ],
   "source": [
    "X2 = sym.diff(2*x1**3 - 3*x1*x2 + 2*x2*x3**2 - x2**3 , x2)\n",
    "print('for x2 = ',X2)\n"
   ]
  },
  {
   "cell_type": "code",
   "execution_count": 54,
   "id": "7c7bf82a",
   "metadata": {},
   "outputs": [
    {
     "name": "stdout",
     "output_type": "stream",
     "text": [
      "for x3 =  4*x2*x3\n"
     ]
    }
   ],
   "source": [
    "X3 = sym.diff(2*x1**3 - 3*x1*x2 + 2*x2*x3**2 - x2**3 , x3)\n",
    "print('for x3 = ',X3)"
   ]
  },
  {
   "cell_type": "code",
   "execution_count": 8,
   "id": "8a217925",
   "metadata": {},
   "outputs": [
    {
     "name": "stdout",
     "output_type": "stream",
     "text": [
      "[[[6*x1**2 - 3*x2]]] [[[-3*x1 - 3*x2**2 + 2*x3**2]]] [[[4*x2*x3]]]\n"
     ]
    }
   ],
   "source": [
    "X1, X2, X3 = np.meshgrid(X1, X2, X3)\n",
    "\n",
    "print(X1, X2, X3)"
   ]
  },
  {
   "cell_type": "code",
   "execution_count": 73,
   "id": "bf5e5c62",
   "metadata": {},
   "outputs": [],
   "source": [
    "#  В точке M=(2,1,1)\n",
    "# X1 = 6*x1**2 - 3*x2\n",
    "X1_1 = (6*2**2-3*1)\n",
    "# X2 = -3*x1 - 3*x2**2 + 2*x3**2\n",
    "X2_1 = (-3*2-3*1**2+2*1**2)\n",
    "# X3 =  4*x2*x3\n",
    "X3_1 = 4*1*1"
   ]
  },
  {
   "cell_type": "code",
   "execution_count": 90,
   "id": "9750f04c",
   "metadata": {},
   "outputs": [
    {
     "name": "stdout",
     "output_type": "stream",
     "text": [
      "градиент x1 в точке М = 21\n",
      "градиент x2 в точке М = -7\n",
      "градиент x3 в точке М = 4\n"
     ]
    }
   ],
   "source": [
    "print('градиент x1 в точке М =', X1_1)\n",
    "print('градиент x2 в точке М =', X2_1)\n",
    "print('градиент x3 в точке М =', X3_1)\n",
    "    "
   ]
  },
  {
   "cell_type": "code",
   "execution_count": 12,
   "id": "b986a350",
   "metadata": {},
   "outputs": [],
   "source": [
    "from sympy.matrices import hessian"
   ]
  },
  {
   "cell_type": "code",
   "execution_count": 13,
   "id": "6c709148",
   "metadata": {
    "scrolled": false
   },
   "outputs": [
    {
     "name": "stdout",
     "output_type": "stream",
     "text": [
      "⎡                                            ∂                       ∂        \n",
      "⎢        0                    0             ───(g(x₁, x₂, x₃))      ───(g(x₁, \n",
      "⎢                                           ∂x₁                     ∂x₂       \n",
      "⎢                                                                             \n",
      "⎢                                           ∂                       ∂         \n",
      "⎢        0                    0            ───(g₁(x₁, x₂, x₃))     ───(g₁(x₁, \n",
      "⎢                                          ∂x₁                     ∂x₂        \n",
      "⎢                                                                             \n",
      "⎢                                            2                        2       \n",
      "⎢ ∂                   ∂                     ∂                        ∂        \n",
      "⎢───(g(x₁, x₂, x₃))  ───(g₁(x₁, x₂, x₃))   ────(f(x₁, x₂, x₃))    ───────(f(x₁\n",
      "⎢∂x₁                 ∂x₁                      2                   ∂x₂ ∂x₁     \n",
      "⎢                                          ∂x₁                                \n",
      "⎢                                                                             \n",
      "⎢                                             2                      2        \n",
      "⎢ ∂                   ∂                      ∂                      ∂         \n",
      "⎢───(g(x₁, x₂, x₃))  ───(g₁(x₁, x₂, x₃))  ───────(f(x₁, x₂, x₃))   ────(f(x₁, \n",
      "⎢∂x₂                 ∂x₂                  ∂x₂ ∂x₁                     2       \n",
      "⎢                                                                  ∂x₂        \n",
      "⎢                                                                             \n",
      "⎢                                             2                       2       \n",
      "⎢ ∂                   ∂                      ∂                       ∂        \n",
      "⎢───(g(x₁, x₂, x₃))  ───(g₁(x₁, x₂, x₃))  ───────(f(x₁, x₂, x₃))  ───────(f(x₁\n",
      "⎢∂x₃                 ∂x₃                  ∂x₃ ∂x₁                 ∂x₃ ∂x₂     \n",
      "⎣                                                                             \n",
      "\n",
      "               ∂                  ⎤\n",
      "x₂, x₃))      ───(g(x₁, x₂, x₃))  ⎥\n",
      "              ∂x₃                 ⎥\n",
      "                                  ⎥\n",
      "              ∂                   ⎥\n",
      "x₂, x₃))     ───(g₁(x₁, x₂, x₃))  ⎥\n",
      "             ∂x₃                  ⎥\n",
      "                                  ⎥\n",
      "                2                 ⎥\n",
      "               ∂                  ⎥\n",
      ", x₂, x₃))  ───────(f(x₁, x₂, x₃))⎥\n",
      "            ∂x₃ ∂x₁               ⎥\n",
      "                                  ⎥\n",
      "                                  ⎥\n",
      "                2                 ⎥\n",
      "               ∂                  ⎥\n",
      "x₂, x₃))    ───────(f(x₁, x₂, x₃))⎥\n",
      "            ∂x₃ ∂x₂               ⎥\n",
      "                                  ⎥\n",
      "                                  ⎥\n",
      "               2                  ⎥\n",
      "              ∂                   ⎥\n",
      ", x₂, x₃))   ────(f(x₁, x₂, x₃))  ⎥\n",
      "                2                 ⎥\n",
      "             ∂x₃                  ⎦\n"
     ]
    }
   ],
   "source": [
    "from sympy import Function, hessian, pprint\n",
    "\n",
    "from sympy.abc import x, y, z\n",
    "2*x1**3 - 3*x1*x2 + 2*x2*x3**2 - x2**3\n",
    "x = x1\n",
    "y = x2\n",
    "z = x3\n",
    "f = Function('f')(x, y, z)\n",
    "\n",
    "g1 = Function('g')(x, y, z)\n",
    "\n",
    "g2 = Function('g1')(x, y, z)\n",
    "\n",
    "pprint(hessian(f, (x, y, z), [g1, g2]))\n"
   ]
  },
  {
   "cell_type": "markdown",
   "id": "9edb1ab9",
   "metadata": {},
   "source": [
    "###### Постройте график трехмерный график функции:\n",
    "\n",
    "f(X)= x(2)^2 - x(1)^2x(2) + 2x(1)x(2)\n",
    "\n",
    "А также график линий уровня с уровнями {1,5,10}"
   ]
  },
  {
   "cell_type": "code",
   "execution_count": 99,
   "id": "0e67d252",
   "metadata": {},
   "outputs": [],
   "source": [
    "def f(x1, x2):\n",
    "    return np.cos(x2**2 - x1**2*x2 + 2*x1*x2)\n",
    "\n",
    "\n",
    "x = np.linspace(1, 5, 10)\n",
    "y = np.linspace(1, 5, 10)\n",
    "\n",
    "X, Y = np.meshgrid(x, y)\n",
    "Z = f(X, Y)\n",
    "\n"
   ]
  },
  {
   "cell_type": "code",
   "execution_count": 109,
   "id": "d7f85d86",
   "metadata": {},
   "outputs": [
    {
     "data": {
      "image/png": "[encoded data removed]",
      "text/plain": [
       "<Figure size 432x288 with 2 Axes>"
      ]
     },
     "metadata": {
      "needs_background": "light"
     },
     "output_type": "display_data"
    }
   ],
   "source": [
    "fig = plt.figure()\n",
    "ax = plt.axes(projection='3d')\n",
    "ax.contour3D(X, Y, Z, 50, cmap='binary')\n",
    "ax.set_xlabel('x')\n",
    "ax.set_ylabel('y')\n",
    "ax.set_zlabel('z')\n",
    "\n",
    "surf = ax.plot_surface(X, Y, Z, cmap=cm.coolwarm,\n",
    "                       linewidth=0, antialiased=False)\n",
    "fig.colorbar(surf, shrink=0.5, aspect=5)\n",
    "ax.azim = 120\n",
    "ax.dist = 5\n",
    "ax.elev = 30\n"
   ]
  },
  {
   "cell_type": "code",
   "execution_count": null,
   "id": "89e6262c",
   "metadata": {},
   "outputs": [],
   "source": []
  }
 ],
 "metadata": {
  "kernelspec": {
   "display_name": "Python 3",
   "language": "python",
   "name": "python3"
  },
  "language_info": {
   "codemirror_mode": {
    "name": "ipython",
    "version": 3
   },
   "file_extension": ".py",
   "mimetype": "text/x-python",
   "name": "python",
   "nbconvert_exporter": "python",
   "pygments_lexer": "ipython3",
   "version": "3.8.8"
  }
 },
 "nbformat": 4,
 "nbformat_minor": 5
}
