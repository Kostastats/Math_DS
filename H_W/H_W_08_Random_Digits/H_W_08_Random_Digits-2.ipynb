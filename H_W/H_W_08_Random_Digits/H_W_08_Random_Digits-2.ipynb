{
 "cells": [
  {
   "cell_type": "markdown",
   "id": "6fc6f232",
   "metadata": {},
   "source": [
    "### Домашнее задание\n",
    "Задание 1\n",
    "\n",
    "Монетку подбрасывают 15 раз, найдите вероятность выпадения простого числа орлов.\n",
    "\n",
    "Задание 2\n",
    "\n",
    "Получить интуицию, на что влияют параметры распределений. Построить по 5 функций плотностей с разными \n",
    "параметрами для каждого распределения: нормальное, экспоненциальное, Стьюдента на одном графике."
   ]
  },
  {
   "cell_type": "code",
   "execution_count": 1,
   "id": "afa194f0",
   "metadata": {},
   "outputs": [],
   "source": [
    "import numpy as np"
   ]
  },
  {
   "cell_type": "code",
   "execution_count": 2,
   "id": "055f104d",
   "metadata": {},
   "outputs": [],
   "source": [
    "import matplotlib.pyplot as plt"
   ]
  },
  {
   "cell_type": "code",
   "execution_count": 3,
   "id": "d3ad8393",
   "metadata": {},
   "outputs": [
    {
     "data": {
      "image/png": "[encoded data removed]",
      "text/plain": [
       "<Figure size 432x288 with 1 Axes>"
      ]
     },
     "metadata": {
      "needs_background": "light"
     },
     "output_type": "display_data"
    }
   ],
   "source": [
    "n_bins = 15\n",
    "n, p = 1, 0.5\n",
    "head_tails = np.random.binomial(n, p, size=n_bins)\n",
    "h=plt.hist(head_tails,bins=n_bins, density=True)"
   ]
  },
  {
   "cell_type": "code",
   "execution_count": 4,
   "id": "36cd8a4f",
   "metadata": {},
   "outputs": [
    {
     "data": {
      "text/plain": [
       "0.4"
      ]
     },
     "execution_count": 4,
     "metadata": {},
     "output_type": "execute_result"
    }
   ],
   "source": [
    "head_tails.mean()"
   ]
  },
  {
   "cell_type": "code",
   "execution_count": 5,
   "id": "ed5cda37",
   "metadata": {},
   "outputs": [
    {
     "data": {
      "text/plain": [
       "0.48989794855663565"
      ]
     },
     "execution_count": 5,
     "metadata": {},
     "output_type": "execute_result"
    }
   ],
   "source": [
    "head_tails.std()"
   ]
  },
  {
   "cell_type": "code",
   "execution_count": 6,
   "id": "deaf31fb",
   "metadata": {},
   "outputs": [
    {
     "data": {
      "text/plain": [
       "array([1, 0, 0, 1, 0, 0, 0, 0, 0, 1, 1, 1, 1, 0, 0])"
      ]
     },
     "execution_count": 6,
     "metadata": {},
     "output_type": "execute_result"
    }
   ],
   "source": [
    "head_tails"
   ]
  },
  {
   "cell_type": "code",
   "execution_count": 38,
   "id": "dac41d19",
   "metadata": {},
   "outputs": [
    {
     "name": "stdout",
     "output_type": "stream",
     "text": [
      "heads 6\n",
      "tails 9\n"
     ]
    }
   ],
   "source": [
    "h = 0\n",
    "t = 0 \n",
    "\n",
    "for side in head_tails:\n",
    "    if side == 1:\n",
    "        h += side\n",
    "    else:\n",
    "        t += 1\n",
    "\n",
    "print('heads', h)\n",
    "print('tails', t)"
   ]
  },
  {
   "cell_type": "code",
   "execution_count": 55,
   "id": "3f965045",
   "metadata": {},
   "outputs": [],
   "source": [
    "import random\n",
    "def coin_trial():\n",
    "    heads = 0\n",
    "    for i in range(15):\n",
    "        if random.random() <= 0.5:\n",
    "            heads +=1\n",
    "    return heads\n",
    "def coin_toss(n):\n",
    "    trials = []\n",
    "    for i in range(n):\n",
    "        trials.append(coin_trial())\n",
    "    return(sum(trials)/n)\n"
   ]
  },
  {
   "cell_type": "markdown",
   "id": "38983099",
   "metadata": {},
   "source": [
    "### вероятность выпадения простого числа орлов.\n",
    " Видно что при 1 заходе на 15 бросков, количество голов или хвостов выпадения может далеко отходить от среднего (7.5 в данном случае).\n",
    "   Но чем больше таких повторений то средняя вероятность приближается к 50 % - Центральная Предельная Теорема в действии."
   ]
  },
  {
   "cell_type": "code",
   "execution_count": 69,
   "id": "facba66a",
   "metadata": {},
   "outputs": [
    {
     "name": "stdout",
     "output_type": "stream",
     "text": [
      "из 1 заходов по 15 бросков mean = 7.0\n"
     ]
    }
   ],
   "source": [
    "print('из {} заходов по 15 бросков mean = {}'.format( 1, coin_toss(1)))"
   ]
  },
  {
   "cell_type": "code",
   "execution_count": 70,
   "id": "478bb37e",
   "metadata": {},
   "outputs": [
    {
     "name": "stdout",
     "output_type": "stream",
     "text": [
      "из 10 заходов по 15 бросков mean = 7.1\n"
     ]
    }
   ],
   "source": [
    "print('из {} заходов по 15 бросков mean = {}'.format( 10, coin_toss(10)))"
   ]
  },
  {
   "cell_type": "code",
   "execution_count": 71,
   "id": "fc4081df",
   "metadata": {},
   "outputs": [
    {
     "name": "stdout",
     "output_type": "stream",
     "text": [
      "из 50 заходов по 15 бросков mean = 7.28\n"
     ]
    }
   ],
   "source": [
    "print('из {} заходов по 15 бросков mean = {}'.format( 50, coin_toss(50)))"
   ]
  },
  {
   "cell_type": "code",
   "execution_count": 72,
   "id": "6604ccad",
   "metadata": {},
   "outputs": [
    {
     "name": "stdout",
     "output_type": "stream",
     "text": [
      "из 1000 заходов по 15 бросков mean = 7.574\n"
     ]
    }
   ],
   "source": [
    "print('из {} заходов по 15 бросков mean = {}'.format( 1000, coin_toss(1000)))"
   ]
  },
  {
   "cell_type": "code",
   "execution_count": 73,
   "id": "77b1dc31",
   "metadata": {},
   "outputs": [
    {
     "name": "stdout",
     "output_type": "stream",
     "text": [
      "из 1000 заходов по 15 бросков mean = 7.4891\n"
     ]
    }
   ],
   "source": [
    "print('из {} заходов по 15 бросков mean = {}'.format( 1000, coin_toss(10000)))"
   ]
  },
  {
   "cell_type": "code",
   "execution_count": 16,
   "id": "5f34ea58",
   "metadata": {},
   "outputs": [
    {
     "data": {
      "image/png": "[encoded data removed]",
      "text/plain": [
       "<Figure size 432x288 with 1 Axes>"
      ]
     },
     "metadata": {
      "needs_background": "light"
     },
     "output_type": "display_data"
    }
   ],
   "source": [
    "import seaborn as sns\n",
    "sns.distplot(head_tails)\n",
    "plt.show()"
   ]
  },
  {
   "cell_type": "markdown",
   "id": "08538e23",
   "metadata": {},
   "source": [
    "###### визуализация переменной head_tails с 15 шт. биноминальных бросов монеты"
   ]
  },
  {
   "cell_type": "code",
   "execution_count": 18,
   "id": "fa44cb99",
   "metadata": {
    "scrolled": true
   },
   "outputs": [
    {
     "data": {
      "text/plain": [
       "<AxesSubplot:>"
      ]
     },
     "execution_count": 18,
     "metadata": {},
     "output_type": "execute_result"
    },
    {
     "data": {
      "image/png": "[encoded data removed]",
      "text/plain": [
       "<Figure size 432x288 with 1 Axes>"
      ]
     },
     "metadata": {
      "needs_background": "light"
     },
     "output_type": "display_data"
    }
   ],
   "source": [
    "sns.distplot(head_tails, hist=True, kde=False)"
   ]
  },
  {
   "cell_type": "markdown",
   "id": "5bd2dea0",
   "metadata": {},
   "source": [
    "###### Делаем еще 15 кастов"
   ]
  },
  {
   "cell_type": "code",
   "execution_count": 9,
   "id": "c7d49f4f",
   "metadata": {},
   "outputs": [
    {
     "data": {
      "image/png": "[encoded data removed]",
      "text/plain": [
       "<Figure size 432x288 with 1 Axes>"
      ]
     },
     "metadata": {
      "needs_background": "light"
     },
     "output_type": "display_data"
    }
   ],
   "source": [
    "from numpy import random\n",
    "kast=sns.distplot(random.binomial(n=1, p=0.5, size=15), hist=True, kde=False)\n",
    "plt.show()"
   ]
  },
  {
   "cell_type": "markdown",
   "id": "9b5044cc",
   "metadata": {},
   "source": [
    "###### Экспоненциальный"
   ]
  },
  {
   "cell_type": "code",
   "execution_count": 10,
   "id": "9aba70e6",
   "metadata": {},
   "outputs": [
    {
     "data": {
      "image/png": "[encoded data removed]",
      "text/plain": [
       "<Figure size 432x288 with 1 Axes>"
      ]
     },
     "metadata": {
      "needs_background": "light"
     },
     "output_type": "display_data"
    }
   ],
   "source": [
    "h_t=np.random.exponential(1, size=15) \n",
    "h=plt.hist(h_t,bins=15, density=True)"
   ]
  },
  {
   "cell_type": "markdown",
   "id": "548bbf2c",
   "metadata": {},
   "source": [
    "###### Standard_T Studenta"
   ]
  },
  {
   "cell_type": "code",
   "execution_count": 20,
   "id": "25e39995",
   "metadata": {},
   "outputs": [
    {
     "data": {
      "image/png": "[encoded data removed]",
      "text/plain": [
       "<Figure size 432x288 with 1 Axes>"
      ]
     },
     "metadata": {
      "needs_background": "light"
     },
     "output_type": "display_data"
    }
   ],
   "source": [
    "h_t1=np.random.standard_t(1, size=15)\n",
    "h=plt.hist(h_t1,bins=15, density=True)"
   ]
  },
  {
   "cell_type": "markdown",
   "id": "2888f24d",
   "metadata": {},
   "source": [
    "###### Экспоненциальный и Стьюдента"
   ]
  },
  {
   "cell_type": "code",
   "execution_count": 21,
   "id": "eb512a40",
   "metadata": {
    "scrolled": true
   },
   "outputs": [
    {
     "data": {
      "image/png": "[encoded data removed]",
      "text/plain": [
       "<Figure size 432x288 with 1 Axes>"
      ]
     },
     "metadata": {
      "needs_background": "light"
     },
     "output_type": "display_data"
    }
   ],
   "source": [
    "h=plt.hist(h_t,bins=15, density=True)\n",
    "h=plt.hist(h_t1,bins=15, density=True)"
   ]
  },
  {
   "cell_type": "code",
   "execution_count": 28,
   "id": "deaa237d",
   "metadata": {},
   "outputs": [
    {
     "data": {
      "image/png": "[encoded data removed]",
      "text/plain": [
       "<Figure size 432x288 with 15 Axes>"
      ]
     },
     "metadata": {
      "needs_background": "light"
     },
     "output_type": "display_data"
    }
   ],
   "source": [
    "from scipy.stats import bernoulli\n",
    "from scipy import stats\n",
    "\n",
    "fig, ax = plt.subplots(1, 15)"
   ]
  },
  {
   "cell_type": "code",
   "execution_count": 49,
   "id": "151df83d",
   "metadata": {},
   "outputs": [
    {
     "data": {
      "image/png": "[encoded data removed]",
      "text/plain": [
       "<Figure size 432x288 with 1 Axes>"
      ]
     },
     "metadata": {
      "needs_background": "light"
     },
     "output_type": "display_data"
    }
   ],
   "source": [
    "coins = np.random.binomial(n=15,p=0.5,size=100)\n",
    "h=plt.hist(coins,bins=15, density=True)"
   ]
  },
  {
   "cell_type": "code",
   "execution_count": 50,
   "id": "fbeee9fd",
   "metadata": {},
   "outputs": [
    {
     "data": {
      "image/png": "[encoded data removed]",
      "text/plain": [
       "<Figure size 432x288 with 1 Axes>"
      ]
     },
     "metadata": {
      "needs_background": "light"
     },
     "output_type": "display_data"
    }
   ],
   "source": [
    "coins = np.random.binomial(n=15,p=0.5,size=1000)\n",
    "h=plt.hist(coins,bins=15, density=True)"
   ]
  },
  {
   "cell_type": "code",
   "execution_count": 52,
   "id": "f461d86a",
   "metadata": {},
   "outputs": [
    {
     "data": {
      "image/png": "[encoded data removed]",
      "text/plain": [
       "<Figure size 432x288 with 1 Axes>"
      ]
     },
     "metadata": {
      "needs_background": "light"
     },
     "output_type": "display_data"
    }
   ],
   "source": [
    "coins = np.random.binomial(n=15,p=0.5,size=50000)\n",
    "h=plt.hist(coins,bins=15, density=True)"
   ]
  },
  {
   "cell_type": "code",
   "execution_count": 44,
   "id": "7e14d720",
   "metadata": {},
   "outputs": [
    {
     "data": {
      "text/plain": [
       "[<matplotlib.lines.Line2D at 0x248ffbd1490>]"
      ]
     },
     "execution_count": 44,
     "metadata": {},
     "output_type": "execute_result"
    },
    {
     "data": {
      "image/png": "[encoded data removed]",
      "text/plain": [
       "<Figure size 432x288 with 1 Axes>"
      ]
     },
     "metadata": {
      "needs_background": "light"
     },
     "output_type": "display_data"
    }
   ],
   "source": [
    "plt.plot(coins)"
   ]
  },
  {
   "cell_type": "code",
   "execution_count": null,
   "id": "d5ab4ed4",
   "metadata": {},
   "outputs": [],
   "source": []
  }
 ],
 "metadata": {
  "kernelspec": {
   "display_name": "Python 3",
   "language": "python",
   "name": "python3"
  },
  "language_info": {
   "codemirror_mode": {
    "name": "ipython",
    "version": 3
   },
   "file_extension": ".py",
   "mimetype": "text/x-python",
   "name": "python",
   "nbconvert_exporter": "python",
   "pygments_lexer": "ipython3",
   "version": "3.8.8"
  }
 },
 "nbformat": 4,
 "nbformat_minor": 5
}
