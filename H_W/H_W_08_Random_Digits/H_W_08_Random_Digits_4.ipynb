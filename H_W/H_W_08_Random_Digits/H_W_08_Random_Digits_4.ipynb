{
 "cells": [
  {
   "cell_type": "markdown",
   "id": "6fc6f232",
   "metadata": {},
   "source": [
    "### Домашнее задание\n",
    "Задание 1\n",
    "\n",
    "Монетку подбрасывают 15 раз, найдите вероятность выпадения простого числа орлов.\n",
    "\n",
    "Задание 2\n",
    "\n",
    "Получить интуицию, на что влияют параметры распределений. Построить по 5 функций плотностей с разными \n",
    "параметрами для каждого распределения: нормальное, экспоненциальное, Стьюдента на одном графике."
   ]
  },
  {
   "cell_type": "code",
   "execution_count": 1,
   "id": "afa194f0",
   "metadata": {},
   "outputs": [],
   "source": [
    "import numpy as np"
   ]
  },
  {
   "cell_type": "code",
   "execution_count": 2,
   "id": "055f104d",
   "metadata": {},
   "outputs": [],
   "source": [
    "import matplotlib.pyplot as plt"
   ]
  },
  {
   "cell_type": "code",
   "execution_count": 3,
   "id": "d3ad8393",
   "metadata": {},
   "outputs": [
    {
     "data": {
      "image/png": "[encoded data removed]",
      "text/plain": [
       "<Figure size 432x288 with 1 Axes>"
      ]
     },
     "metadata": {
      "needs_background": "light"
     },
     "output_type": "display_data"
    }
   ],
   "source": [
    "n_bins = 15\n",
    "n, p = 1, 0.5\n",
    "head_tails = np.random.binomial(n, p, size=n_bins)\n",
    "h=plt.hist(head_tails,bins=n_bins, density=True)"
   ]
  },
  {
   "cell_type": "code",
   "execution_count": 4,
   "id": "36cd8a4f",
   "metadata": {},
   "outputs": [
    {
     "data": {
      "text/plain": [
       "0.7333333333333333"
      ]
     },
     "execution_count": 4,
     "metadata": {},
     "output_type": "execute_result"
    }
   ],
   "source": [
    "head_tails.mean()"
   ]
  },
  {
   "cell_type": "code",
   "execution_count": 5,
   "id": "ed5cda37",
   "metadata": {},
   "outputs": [
    {
     "data": {
      "text/plain": [
       "0.4422166387140533"
      ]
     },
     "execution_count": 5,
     "metadata": {},
     "output_type": "execute_result"
    }
   ],
   "source": [
    "head_tails.std()"
   ]
  },
  {
   "cell_type": "code",
   "execution_count": 6,
   "id": "deaf31fb",
   "metadata": {},
   "outputs": [
    {
     "data": {
      "text/plain": [
       "array([0, 1, 1, 1, 1, 1, 0, 1, 0, 1, 1, 1, 1, 1, 0])"
      ]
     },
     "execution_count": 6,
     "metadata": {},
     "output_type": "execute_result"
    }
   ],
   "source": [
    "head_tails"
   ]
  },
  {
   "cell_type": "code",
   "execution_count": 7,
   "id": "dac41d19",
   "metadata": {},
   "outputs": [
    {
     "name": "stdout",
     "output_type": "stream",
     "text": [
      "heads 11\n",
      "tails 4\n"
     ]
    }
   ],
   "source": [
    "h = 0\n",
    "t = 0 \n",
    "\n",
    "for side in head_tails:\n",
    "    if side == 1:\n",
    "        h += side\n",
    "    else:\n",
    "        t += 1\n",
    "\n",
    "print('heads', h)\n",
    "print('tails', t)"
   ]
  },
  {
   "cell_type": "code",
   "execution_count": 8,
   "id": "3f965045",
   "metadata": {},
   "outputs": [],
   "source": [
    "import random\n",
    "def coin_trial():\n",
    "    heads = 0\n",
    "    for i in range(15):\n",
    "        if random.random() <= 0.5:\n",
    "            heads +=1\n",
    "    return heads\n",
    "def coin_toss(n):\n",
    "    trials = []\n",
    "    for i in range(n):\n",
    "        trials.append(coin_trial())\n",
    "    return(sum(trials)/n)\n"
   ]
  },
  {
   "cell_type": "markdown",
   "id": "38983099",
   "metadata": {},
   "source": [
    "### вероятность выпадения простого числа орлов.\n",
    " Видно что при 1 заходе на 15 бросков, количество голов или хвостов выпадения может далеко отходить от среднего (7.5 в данном случае).\n",
    "   Но чем больше таких повторений то средняя вероятность приближается к 50 % - Центральная Предельная Теорема в действии."
   ]
  },
  {
   "cell_type": "code",
   "execution_count": 9,
   "id": "facba66a",
   "metadata": {},
   "outputs": [
    {
     "name": "stdout",
     "output_type": "stream",
     "text": [
      "из 1 заходов по 15 бросков mean = 11.0\n"
     ]
    }
   ],
   "source": [
    "print('из {} заходов по 15 бросков mean = {}'.format( 1, coin_toss(1)))"
   ]
  },
  {
   "cell_type": "code",
   "execution_count": 10,
   "id": "478bb37e",
   "metadata": {},
   "outputs": [
    {
     "name": "stdout",
     "output_type": "stream",
     "text": [
      "из 10 заходов по 15 бросков mean = 8.2\n"
     ]
    }
   ],
   "source": [
    "print('из {} заходов по 15 бросков mean = {}'.format( 10, coin_toss(10)))"
   ]
  },
  {
   "cell_type": "code",
   "execution_count": 11,
   "id": "fc4081df",
   "metadata": {},
   "outputs": [
    {
     "name": "stdout",
     "output_type": "stream",
     "text": [
      "из 50 заходов по 15 бросков mean = 7.44\n"
     ]
    }
   ],
   "source": [
    "print('из {} заходов по 15 бросков mean = {}'.format( 50, coin_toss(50)))"
   ]
  },
  {
   "cell_type": "code",
   "execution_count": 12,
   "id": "6604ccad",
   "metadata": {},
   "outputs": [
    {
     "name": "stdout",
     "output_type": "stream",
     "text": [
      "из 1000 заходов по 15 бросков mean = 7.596\n"
     ]
    }
   ],
   "source": [
    "print('из {} заходов по 15 бросков mean = {}'.format( 1000, coin_toss(1000)))"
   ]
  },
  {
   "cell_type": "code",
   "execution_count": 13,
   "id": "77b1dc31",
   "metadata": {},
   "outputs": [
    {
     "name": "stdout",
     "output_type": "stream",
     "text": [
      "из 1000 заходов по 15 бросков mean = 7.4884\n"
     ]
    }
   ],
   "source": [
    "print('из {} заходов по 15 бросков mean = {}'.format( 1000, coin_toss(10000)))"
   ]
  },
  {
   "cell_type": "markdown",
   "id": "9b5044cc",
   "metadata": {},
   "source": [
    "###### Экспоненциальный"
   ]
  },
  {
   "cell_type": "code",
   "execution_count": 16,
   "id": "9aba70e6",
   "metadata": {},
   "outputs": [
    {
     "data": {
      "image/png": "[encoded data removed]",
      "text/plain": [
       "<Figure size 432x288 with 1 Axes>"
      ]
     },
     "metadata": {
      "needs_background": "light"
     },
     "output_type": "display_data"
    }
   ],
   "source": [
    "h_t=np.random.exponential(1, size=15) \n",
    "h=plt.hist(h_t,bins=15, density=True)"
   ]
  },
  {
   "cell_type": "markdown",
   "id": "548bbf2c",
   "metadata": {},
   "source": [
    "###### Standard_T Studenta"
   ]
  },
  {
   "cell_type": "code",
   "execution_count": 15,
   "id": "25e39995",
   "metadata": {},
   "outputs": [
    {
     "data": {
      "image/png": "[encoded data removed]",
      "text/plain": [
       "<Figure size 432x288 with 1 Axes>"
      ]
     },
     "metadata": {
      "needs_background": "light"
     },
     "output_type": "display_data"
    }
   ],
   "source": [
    "h_t1=np.random.standard_t(1, size=15)\n",
    "h=plt.hist(h_t1,bins=15, density=True)"
   ]
  },
  {
   "cell_type": "markdown",
   "id": "2888f24d",
   "metadata": {},
   "source": [
    "###### Экспоненциальный и Стьюдента"
   ]
  },
  {
   "cell_type": "code",
   "execution_count": 17,
   "id": "eb512a40",
   "metadata": {
    "scrolled": true
   },
   "outputs": [
    {
     "data": {
      "image/png": "[encoded data removed]",
      "text/plain": [
       "<Figure size 432x288 with 1 Axes>"
      ]
     },
     "metadata": {
      "needs_background": "light"
     },
     "output_type": "display_data"
    }
   ],
   "source": [
    "h=plt.hist(h_t,bins=15, density=True)\n",
    "h=plt.hist(h_t1,bins=15, density=True)"
   ]
  },
  {
   "cell_type": "code",
   "execution_count": 18,
   "id": "deaa237d",
   "metadata": {},
   "outputs": [
    {
     "data": {
      "image/png": "[encoded data removed]",
      "text/plain": [
       "<Figure size 432x288 with 15 Axes>"
      ]
     },
     "metadata": {
      "needs_background": "light"
     },
     "output_type": "display_data"
    }
   ],
   "source": [
    "from scipy.stats import bernoulli\n",
    "from scipy import stats\n",
    "\n",
    "fig, ax = plt.subplots(1, 15)"
   ]
  },
  {
   "cell_type": "code",
   "execution_count": 19,
   "id": "151df83d",
   "metadata": {},
   "outputs": [
    {
     "data": {
      "image/png": "[encoded data removed]",
      "text/plain": [
       "<Figure size 432x288 with 1 Axes>"
      ]
     },
     "metadata": {
      "needs_background": "light"
     },
     "output_type": "display_data"
    }
   ],
   "source": [
    "coins = np.random.binomial(n=15,p=0.5,size=100)\n",
    "h=plt.hist(coins,bins=15, density=True)"
   ]
  },
  {
   "cell_type": "code",
   "execution_count": 20,
   "id": "fbeee9fd",
   "metadata": {},
   "outputs": [
    {
     "data": {
      "image/png": "[encoded data removed]",
      "text/plain": [
       "<Figure size 432x288 with 1 Axes>"
      ]
     },
     "metadata": {
      "needs_background": "light"
     },
     "output_type": "display_data"
    }
   ],
   "source": [
    "coins = np.random.binomial(n=15,p=0.5,size=1000)\n",
    "h=plt.hist(coins,bins=15, density=True)"
   ]
  },
  {
   "cell_type": "code",
   "execution_count": 21,
   "id": "f461d86a",
   "metadata": {},
   "outputs": [
    {
     "data": {
      "image/png": "[encoded data removed]",
      "text/plain": [
       "<Figure size 432x288 with 1 Axes>"
      ]
     },
     "metadata": {
      "needs_background": "light"
     },
     "output_type": "display_data"
    }
   ],
   "source": [
    "coins = np.random.binomial(n=15,p=0.5,size=50000)\n",
    "h=plt.hist(coins,bins=15, density=True)"
   ]
  },
  {
   "cell_type": "code",
   "execution_count": 22,
   "id": "7e14d720",
   "metadata": {},
   "outputs": [
    {
     "data": {
      "text/plain": [
       "[<matplotlib.lines.Line2D at 0x126e59c7ee0>]"
      ]
     },
     "execution_count": 22,
     "metadata": {},
     "output_type": "execute_result"
    },
    {
     "data": {
      "image/png": "[encoded data removed]",
      "text/plain": [
       "<Figure size 432x288 with 1 Axes>"
      ]
     },
     "metadata": {
      "needs_background": "light"
     },
     "output_type": "display_data"
    }
   ],
   "source": [
    "plt.plot(coins)"
   ]
  },
  {
   "cell_type": "code",
   "execution_count": 28,
   "id": "d5ab4ed4",
   "metadata": {},
   "outputs": [],
   "source": [
    "x=np.linspace(0,4,100)"
   ]
  },
  {
   "cell_type": "code",
   "execution_count": null,
   "id": "a803d1ac",
   "metadata": {},
   "outputs": [],
   "source": []
  },
  {
   "cell_type": "code",
   "execution_count": 29,
   "id": "819328ea",
   "metadata": {},
   "outputs": [
    {
     "data": {
      "image/png": "[encoded data removed]",
      "text/plain": [
       "<Figure size 432x288 with 1 Axes>"
      ]
     },
     "metadata": {
      "needs_background": "light"
     },
     "output_type": "display_data"
    }
   ],
   "source": [
    "pdf=norm_rv.pdf(x);   # pdf - probability distribution function PROBABILITY DENSITY \n",
    "plt.plot(x,pdf);\n",
    "plt.show()"
   ]
  },
  {
   "cell_type": "markdown",
   "id": "3b53c646",
   "metadata": {},
   "source": [
    "# 15 бросков монеты, 1000 раз, 0,5 распределение.\n",
    "  Не знаю как в NUMPY начертить PDF "
   ]
  },
  {
   "cell_type": "code",
   "execution_count": null,
   "id": "9dbce86c",
   "metadata": {},
   "outputs": [],
   "source": [
    "n, p = 15, .5  # number of trials, probability of each trial\n",
    "\n",
    "s = np.random.binomial(n, p, 1000)"
   ]
  },
  {
   "cell_type": "code",
   "execution_count": null,
   "id": "e727070c",
   "metadata": {},
   "outputs": [],
   "source": [
    "plt.plot(s)"
   ]
  },
  {
   "cell_type": "markdown",
   "id": "2b7c6e13",
   "metadata": {},
   "source": [
    "# Бросаем снова"
   ]
  },
  {
   "cell_type": "code",
   "execution_count": null,
   "id": "5877f953",
   "metadata": {},
   "outputs": [],
   "source": [
    "from scipy.stats import bernoulli \n",
    "bernoulli.rvs(p=0.5, size=1)"
   ]
  },
  {
   "cell_type": "code",
   "execution_count": null,
   "id": "e63fbefc",
   "metadata": {},
   "outputs": [],
   "source": [
    "bernoulli.rvs(p=0.5, size=1)"
   ]
  },
  {
   "cell_type": "markdown",
   "id": "ca303aec",
   "metadata": {},
   "source": [
    "###  15 коинов"
   ]
  },
  {
   "cell_type": "code",
   "execution_count": null,
   "id": "ca3c23b6",
   "metadata": {},
   "outputs": [],
   "source": [
    "bernoulli.rvs(p=0.5, size=15)"
   ]
  },
  {
   "cell_type": "code",
   "execution_count": null,
   "id": "594f3834",
   "metadata": {},
   "outputs": [],
   "source": [
    "sum(bernoulli.rvs(p=0.5, size=15))  #  Сумма heads"
   ]
  },
  {
   "cell_type": "code",
   "execution_count": null,
   "id": "a8b31be9",
   "metadata": {},
   "outputs": [],
   "source": [
    "from scipy.stats import binom \n",
    "binom.rvs(n=15, p=0.5, size=1)"
   ]
  },
  {
   "cell_type": "code",
   "execution_count": null,
   "id": "9e86bb82",
   "metadata": {},
   "outputs": [],
   "source": [
    " binom.rvs(n=15, p=0.5, size=100)"
   ]
  },
  {
   "cell_type": "markdown",
   "id": "23f9593b",
   "metadata": {},
   "source": [
    "#### Probability бросить 2 орел после 15 бросков"
   ]
  },
  {
   "cell_type": "code",
   "execution_count": null,
   "id": "f31fb89c",
   "metadata": {},
   "outputs": [],
   "source": [
    "binom.pmf(k=2, n=15, p=0.5)"
   ]
  },
  {
   "cell_type": "code",
   "execution_count": null,
   "id": "54fd64c2",
   "metadata": {},
   "outputs": [],
   "source": [
    "binom.pmf(k=5, n=15, p=0.5)"
   ]
  },
  {
   "cell_type": "code",
   "execution_count": null,
   "id": "76658ab3",
   "metadata": {},
   "outputs": [],
   "source": [
    "binom.pmf(k=9, n=15, p=0.5)"
   ]
  },
  {
   "cell_type": "code",
   "execution_count": null,
   "id": "d5654830",
   "metadata": {},
   "outputs": [],
   "source": [
    "binom.pmf(k=500, n=1500, p=0.3)"
   ]
  },
  {
   "cell_type": "code",
   "execution_count": null,
   "id": "76d58453",
   "metadata": {},
   "outputs": [],
   "source": [
    "binom.pmf(k=500, n=1500, p=0.7)"
   ]
  },
  {
   "cell_type": "markdown",
   "id": "54d1bd6f",
   "metadata": {},
   "source": [
    "Общая вероятность н -количества орлов после 15 бросков"
   ]
  },
  {
   "cell_type": "code",
   "execution_count": null,
   "id": "a165a8f5",
   "metadata": {},
   "outputs": [],
   "source": [
    "binom.cdf(k=5, n=15, p=0.5)"
   ]
  },
  {
   "cell_type": "code",
   "execution_count": null,
   "id": "2e043d52",
   "metadata": {},
   "outputs": [],
   "source": [
    "binom.cdf(k=75, n=150, p=0.5)"
   ]
  },
  {
   "cell_type": "code",
   "execution_count": null,
   "id": "ffbf98be",
   "metadata": {},
   "outputs": [],
   "source": [
    "binom.cdf(k=900, n=1500, p=0.5)"
   ]
  },
  {
   "cell_type": "code",
   "execution_count": null,
   "id": "044ad727",
   "metadata": {},
   "outputs": [],
   "source": [
    "binom.cdf(k=900, n=1500, p=0.8)"
   ]
  },
  {
   "cell_type": "markdown",
   "id": "d85fed1a",
   "metadata": {},
   "source": [
    "Вероятность больше чем - к "
   ]
  },
  {
   "cell_type": "code",
   "execution_count": null,
   "id": "d7c21c60",
   "metadata": {},
   "outputs": [],
   "source": [
    "1-binom.cdf(k=600, n=1500, p=0.5)"
   ]
  },
  {
   "cell_type": "code",
   "execution_count": null,
   "id": "0e2c648e",
   "metadata": {},
   "outputs": [],
   "source": [
    "1-binom.cdf(k=600, n=1500, p=0.2)"
   ]
  },
  {
   "cell_type": "code",
   "execution_count": null,
   "id": "2dcf5c85",
   "metadata": {},
   "outputs": [],
   "source": [
    "1-binom.cdf(k=800, n=1500, p=0.1)"
   ]
  },
  {
   "cell_type": "code",
   "execution_count": null,
   "id": "f5487ecf",
   "metadata": {},
   "outputs": [],
   "source": [
    "binom.sf(k=59, n=150, p=0.7) "
   ]
  },
  {
   "cell_type": "code",
   "execution_count": null,
   "id": "06724f6c",
   "metadata": {},
   "outputs": [],
   "source": [
    "from scipy.stats import describe \n",
    "describe([0,1]).mean"
   ]
  },
  {
   "cell_type": "code",
   "execution_count": null,
   "id": "f52d50fe",
   "metadata": {},
   "outputs": [],
   "source": [
    "describe([0,1]).variance"
   ]
  },
  {
   "cell_type": "code",
   "execution_count": null,
   "id": "3a2009a9",
   "metadata": {},
   "outputs": [],
   "source": [
    "binom.stats(n=15, p=0.5)"
   ]
  },
  {
   "cell_type": "code",
   "execution_count": null,
   "id": "773b886f",
   "metadata": {},
   "outputs": [],
   "source": [
    "binom.stats(n=15, p=0.3)"
   ]
  },
  {
   "cell_type": "markdown",
   "id": "b6c22cec",
   "metadata": {},
   "source": [
    "######  Замечание:  Я не увидел ответ на задание с монетами, там вполне определённое число без семплирования.\n",
    "Pdf с помощью numpy не начертить, нужен scipy, вот пример"
   ]
  },
  {
   "cell_type": "markdown",
   "id": "4618f3d8",
   "metadata": {},
   "source": [
    "\n",
    "\n",
    "Монетку подбрасывают 15 раз, найдите вероятность выпадения простого числа орлов.\n",
    "\n",
    "Ответ приведен выше, вероятности написаны. Если что-то не так, то что именно? \n",
    "\n",
    "Если бы мог сделать лучше, то уже давно сделал бы. От того что я сам ковыряюсь в гугле учеба становится только хуже.\n",
    "\n",
    "  Нужна конкретика: у тебя сделано вот так, а нужно вот так... и наглядно показать разницу. \n",
    "    Я сейчас трачу в пустую и свое и ваше время. Вы если учитель, то укажите мне на правильное исполнение. Очевидно же, что тему я плохо усвоил. Значит учителя где-то не доработали, надо вам улучшать методы преподавания. "
   ]
  },
  {
   "cell_type": "code",
   "execution_count": 33,
   "id": "0f1cfdc3",
   "metadata": {},
   "outputs": [],
   "source": [
    "rv = stats.bernoulli(0.5)"
   ]
  },
  {
   "cell_type": "code",
   "execution_count": 34,
   "id": "75ea2bbf",
   "metadata": {},
   "outputs": [
    {
     "data": {
      "text/plain": [
       "(array(0.5), array(0.25))"
      ]
     },
     "execution_count": 34,
     "metadata": {},
     "output_type": "execute_result"
    }
   ],
   "source": [
    "rv.stats()"
   ]
  },
  {
   "cell_type": "code",
   "execution_count": 50,
   "id": "e08dff6c",
   "metadata": {},
   "outputs": [
    {
     "data": {
      "text/plain": [
       "array([1, 1, 1, 1, 0, 1, 0, 1, 0, 1, 1, 1, 1, 0, 1, 1, 0, 0, 0, 0, 1, 0,\n",
       "       1, 0, 1, 0, 0, 1, 0, 1, 1, 0, 0, 0, 0, 1, 0, 1, 0, 0, 0, 0, 0, 0,\n",
       "       0, 0, 0, 1, 0, 0, 0, 0, 0, 0, 0, 0, 1, 0, 0, 0, 0, 0, 1, 1, 0, 0,\n",
       "       0, 0, 1, 0, 0, 0, 0, 0, 0, 1, 0, 1, 1, 0, 1, 0, 1, 0, 0, 1, 0, 0,\n",
       "       1, 1, 1, 1, 0, 1, 1, 1, 1, 0, 0, 0, 1, 1, 1, 0, 1, 0, 0, 0, 0, 0,\n",
       "       0, 0, 0, 1, 0, 1, 0, 1, 1, 1, 1, 0, 0, 0, 1, 1, 0, 0, 0, 1, 0, 0,\n",
       "       0, 1, 1, 0, 0, 1, 0, 1, 0, 0, 0, 1, 0, 0, 0, 0, 0, 1])"
      ]
     },
     "execution_count": 50,
     "metadata": {},
     "output_type": "execute_result"
    }
   ],
   "source": [
    "flips = rv.rvs(150)\n",
    "flips"
   ]
  },
  {
   "cell_type": "code",
   "execution_count": 51,
   "id": "d5f84691",
   "metadata": {},
   "outputs": [
    {
     "data": {
      "text/plain": [
       "[<matplotlib.lines.Line2D at 0x126e5dfd400>]"
      ]
     },
     "execution_count": 51,
     "metadata": {},
     "output_type": "execute_result"
    },
    {
     "data": {
      "image/png": "[encoded data removed]",
      "text/plain": [
       "<Figure size 432x288 with 1 Axes>"
      ]
     },
     "metadata": {
      "needs_background": "light"
     },
     "output_type": "display_data"
    }
   ],
   "source": [
    "plt.plot(flips)"
   ]
  },
  {
   "cell_type": "code",
   "execution_count": 52,
   "id": "1c7c8646",
   "metadata": {},
   "outputs": [
    {
     "data": {
      "text/plain": [
       "(array([92.,  0.,  0.,  0.,  0.,  0.,  0.,  0.,  0., 58.]),\n",
       " array([0. , 0.1, 0.2, 0.3, 0.4, 0.5, 0.6, 0.7, 0.8, 0.9, 1. ]),\n",
       " <BarContainer object of 10 artists>)"
      ]
     },
     "execution_count": 52,
     "metadata": {},
     "output_type": "execute_result"
    },
    {
     "data": {
      "image/png": "[encoded data removed]",
      "text/plain": [
       "<Figure size 432x288 with 1 Axes>"
      ]
     },
     "metadata": {
      "needs_background": "light"
     },
     "output_type": "display_data"
    }
   ],
   "source": [
    "plt.hist(flips)"
   ]
  },
  {
   "cell_type": "code",
   "execution_count": 38,
   "id": "5185a236",
   "metadata": {},
   "outputs": [],
   "source": [
    "x=np.linspace(0,4,100)"
   ]
  },
  {
   "cell_type": "code",
   "execution_count": 43,
   "id": "27678031",
   "metadata": {},
   "outputs": [
    {
     "data": {
      "image/png": "[encoded data removed]",
      "text/plain": [
       "<Figure size 432x288 with 1 Axes>"
      ]
     },
     "metadata": {
      "needs_background": "light"
     },
     "output_type": "display_data"
    }
   ],
   "source": [
    "cdf=rv.cdf(x);    # center distribution function\n",
    "plt.plot(x,cdf);\n",
    "plt.show()"
   ]
  },
  {
   "cell_type": "code",
   "execution_count": 48,
   "id": "2f1ad7f0",
   "metadata": {},
   "outputs": [
    {
     "data": {
      "image/png": "[encoded data removed]",
      "text/plain": [
       "<Figure size 432x288 with 1 Axes>"
      ]
     },
     "metadata": {
      "needs_background": "light"
     },
     "output_type": "display_data"
    }
   ],
   "source": [
    "pdf=rv.pmf(x);   # pdf - probability distribution function PROBABILITY DENSITY (Mass)\n",
    "plt.plot(x,pdf);\n",
    "plt.show()"
   ]
  },
  {
   "cell_type": "markdown",
   "id": "4d7b2cd9",
   "metadata": {},
   "source": [
    "### задание нр 2\n"
   ]
  },
  {
   "cell_type": "code",
   "execution_count": 53,
   "id": "6664a4d9",
   "metadata": {},
   "outputs": [],
   "source": [
    "norm_rv = stats.norm(loc=2, scale=0.5)"
   ]
  },
  {
   "cell_type": "code",
   "execution_count": 54,
   "id": "465bbd86",
   "metadata": {},
   "outputs": [
    {
     "data": {
      "text/plain": [
       "<scipy.stats._distn_infrastructure.rv_frozen at 0x126e5b92700>"
      ]
     },
     "execution_count": 54,
     "metadata": {},
     "output_type": "execute_result"
    }
   ],
   "source": [
    "norm_rv"
   ]
  },
  {
   "cell_type": "code",
   "execution_count": 55,
   "id": "9389a663",
   "metadata": {},
   "outputs": [
    {
     "data": {
      "image/png": "[encoded data removed]",
      "text/plain": [
       "<Figure size 432x288 with 1 Axes>"
      ]
     },
     "metadata": {
      "needs_background": "light"
     },
     "output_type": "display_data"
    }
   ],
   "source": [
    "cdf=norm_rv.cdf(x);    # center distribution function\n",
    "plt.plot(x,cdf);\n",
    "plt.show()"
   ]
  },
  {
   "cell_type": "code",
   "execution_count": 57,
   "id": "d2d8c853",
   "metadata": {},
   "outputs": [
    {
     "data": {
      "image/png": "[encoded data removed]",
      "text/plain": [
       "<Figure size 432x288 with 1 Axes>"
      ]
     },
     "metadata": {
      "needs_background": "light"
     },
     "output_type": "display_data"
    }
   ],
   "source": [
    "pdf=norm_rv.pdf(x);    \n",
    "plt.plot(x,pdf);\n",
    "plt.show()"
   ]
  },
  {
   "cell_type": "code",
   "execution_count": 58,
   "id": "f0fb29c9",
   "metadata": {},
   "outputs": [],
   "source": [
    "tmp = np.random.normal(loc=0.0,scale=1.0,size=(400000,))"
   ]
  },
  {
   "cell_type": "code",
   "execution_count": 66,
   "id": "71a949b3",
   "metadata": {},
   "outputs": [
    {
     "data": {
      "image/png": "[encoded data removed]",
      "text/plain": [
       "<Figure size 432x288 with 1 Axes>"
      ]
     },
     "metadata": {
      "needs_background": "light"
     },
     "output_type": "display_data"
    }
   ],
   "source": [
    "h=plt.hist(tmp,bins=50, density=True)  #  Нормальное"
   ]
  },
  {
   "cell_type": "code",
   "execution_count": 67,
   "id": "9f7ea3e4",
   "metadata": {},
   "outputs": [
    {
     "data": {
      "text/plain": [
       "0.0005248313329092481"
      ]
     },
     "execution_count": 67,
     "metadata": {},
     "output_type": "execute_result"
    }
   ],
   "source": [
    "tmp.mean()"
   ]
  },
  {
   "cell_type": "code",
   "execution_count": 68,
   "id": "a9985d8f",
   "metadata": {},
   "outputs": [
    {
     "data": {
      "text/plain": [
       "1.0005413529690137"
      ]
     },
     "execution_count": 68,
     "metadata": {},
     "output_type": "execute_result"
    }
   ],
   "source": [
    "tmp.std()"
   ]
  },
  {
   "cell_type": "code",
   "execution_count": 63,
   "id": "6ac5f170",
   "metadata": {},
   "outputs": [],
   "source": [
    "tmp_ex = np.random.exponential(scale=2.0,size=(400000,))"
   ]
  },
  {
   "cell_type": "code",
   "execution_count": 69,
   "id": "6c434d92",
   "metadata": {},
   "outputs": [
    {
     "data": {
      "image/png": "[encoded data removed]",
      "text/plain": [
       "<Figure size 432x288 with 1 Axes>"
      ]
     },
     "metadata": {
      "needs_background": "light"
     },
     "output_type": "display_data"
    }
   ],
   "source": [
    "h=plt.hist(tmp_ex,bins=50, density=True)  # Экспоненциальное"
   ]
  },
  {
   "cell_type": "code",
   "execution_count": 70,
   "id": "839f7c8d",
   "metadata": {},
   "outputs": [
    {
     "data": {
      "image/png": "[encoded data removed]",
      "text/plain": [
       "<Figure size 432x288 with 1 Axes>"
      ]
     },
     "metadata": {
      "needs_background": "light"
     },
     "output_type": "display_data"
    }
   ],
   "source": [
    "tmp_stud = np.random.standard_t(10,size=(4000,))     #  Стьюдента\n",
    "h=plt.hist(tmp_stud,bins=50, density=True)"
   ]
  },
  {
   "cell_type": "markdown",
   "id": "8d1c469c",
   "metadata": {},
   "source": [
    "# на одном графике"
   ]
  },
  {
   "cell_type": "code",
   "execution_count": 74,
   "id": "7d585fcc",
   "metadata": {},
   "outputs": [
    {
     "data": {
      "image/png": "[encoded data removed]",
      "text/plain": [
       "<Figure size 432x288 with 1 Axes>"
      ]
     },
     "metadata": {
      "needs_background": "light"
     },
     "output_type": "display_data"
    }
   ],
   "source": [
    "h=plt.hist(tmp,bins=50, density=True)\n",
    "h=plt.hist(tmp_stud,bins=50, density=True)\n",
    "h=plt.hist(tmp_ex,bins=50, density=True)"
   ]
  },
  {
   "cell_type": "code",
   "execution_count": null,
   "id": "87006bcc",
   "metadata": {},
   "outputs": [],
   "source": []
  }
 ],
 "metadata": {
  "kernelspec": {
   "display_name": "Python 3",
   "language": "python",
   "name": "python3"
  },
  "language_info": {
   "codemirror_mode": {
    "name": "ipython",
    "version": 3
   },
   "file_extension": ".py",
   "mimetype": "text/x-python",
   "name": "python",
   "nbconvert_exporter": "python",
   "pygments_lexer": "ipython3",
   "version": "3.8.8"
  }
 },
 "nbformat": 4,
 "nbformat_minor": 5
}
