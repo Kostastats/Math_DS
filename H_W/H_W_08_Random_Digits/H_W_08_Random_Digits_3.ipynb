{
 "cells": [
  {
   "cell_type": "markdown",
   "id": "6fc6f232",
   "metadata": {},
   "source": [
    "### Домашнее задание\n",
    "Задание 1\n",
    "\n",
    "Монетку подбрасывают 15 раз, найдите вероятность выпадения простого числа орлов.\n",
    "\n",
    "Задание 2\n",
    "\n",
    "Получить интуицию, на что влияют параметры распределений. Построить по 5 функций плотностей с разными \n",
    "параметрами для каждого распределения: нормальное, экспоненциальное, Стьюдента на одном графике."
   ]
  },
  {
   "cell_type": "code",
   "execution_count": 1,
   "id": "afa194f0",
   "metadata": {},
   "outputs": [],
   "source": [
    "import numpy as np"
   ]
  },
  {
   "cell_type": "code",
   "execution_count": 2,
   "id": "055f104d",
   "metadata": {},
   "outputs": [],
   "source": [
    "import matplotlib.pyplot as plt"
   ]
  },
  {
   "cell_type": "code",
   "execution_count": 3,
   "id": "d3ad8393",
   "metadata": {},
   "outputs": [
    {
     "data": {
      "image/png": "[encoded data removed]",
      "text/plain": [
       "<Figure size 432x288 with 1 Axes>"
      ]
     },
     "metadata": {
      "needs_background": "light"
     },
     "output_type": "display_data"
    }
   ],
   "source": [
    "n_bins = 15\n",
    "n, p = 1, 0.5\n",
    "head_tails = np.random.binomial(n, p, size=n_bins)\n",
    "h=plt.hist(head_tails,bins=n_bins, density=True)"
   ]
  },
  {
   "cell_type": "code",
   "execution_count": 4,
   "id": "36cd8a4f",
   "metadata": {},
   "outputs": [
    {
     "data": {
      "text/plain": [
       "0.4"
      ]
     },
     "execution_count": 4,
     "metadata": {},
     "output_type": "execute_result"
    }
   ],
   "source": [
    "head_tails.mean()"
   ]
  },
  {
   "cell_type": "code",
   "execution_count": 5,
   "id": "ed5cda37",
   "metadata": {},
   "outputs": [
    {
     "data": {
      "text/plain": [
       "0.48989794855663565"
      ]
     },
     "execution_count": 5,
     "metadata": {},
     "output_type": "execute_result"
    }
   ],
   "source": [
    "head_tails.std()"
   ]
  },
  {
   "cell_type": "code",
   "execution_count": 6,
   "id": "deaf31fb",
   "metadata": {},
   "outputs": [
    {
     "data": {
      "text/plain": [
       "array([1, 0, 0, 1, 0, 0, 1, 1, 0, 0, 0, 1, 0, 0, 1])"
      ]
     },
     "execution_count": 6,
     "metadata": {},
     "output_type": "execute_result"
    }
   ],
   "source": [
    "head_tails"
   ]
  },
  {
   "cell_type": "code",
   "execution_count": 7,
   "id": "dac41d19",
   "metadata": {},
   "outputs": [
    {
     "name": "stdout",
     "output_type": "stream",
     "text": [
      "heads 6\n",
      "tails 9\n"
     ]
    }
   ],
   "source": [
    "h = 0\n",
    "t = 0 \n",
    "\n",
    "for side in head_tails:\n",
    "    if side == 1:\n",
    "        h += side\n",
    "    else:\n",
    "        t += 1\n",
    "\n",
    "print('heads', h)\n",
    "print('tails', t)"
   ]
  },
  {
   "cell_type": "code",
   "execution_count": 8,
   "id": "3f965045",
   "metadata": {},
   "outputs": [],
   "source": [
    "import random\n",
    "def coin_trial():\n",
    "    heads = 0\n",
    "    for i in range(15):\n",
    "        if random.random() <= 0.5:\n",
    "            heads +=1\n",
    "    return heads\n",
    "def coin_toss(n):\n",
    "    trials = []\n",
    "    for i in range(n):\n",
    "        trials.append(coin_trial())\n",
    "    return(sum(trials)/n)\n"
   ]
  },
  {
   "cell_type": "markdown",
   "id": "38983099",
   "metadata": {},
   "source": [
    "### вероятность выпадения простого числа орлов.\n",
    " Видно что при 1 заходе на 15 бросков, количество голов или хвостов выпадения может далеко отходить от среднего (7.5 в данном случае).\n",
    "   Но чем больше таких повторений то средняя вероятность приближается к 50 % - Центральная Предельная Теорема в действии."
   ]
  },
  {
   "cell_type": "code",
   "execution_count": 9,
   "id": "facba66a",
   "metadata": {},
   "outputs": [
    {
     "name": "stdout",
     "output_type": "stream",
     "text": [
      "из 1 заходов по 15 бросков mean = 8.0\n"
     ]
    }
   ],
   "source": [
    "print('из {} заходов по 15 бросков mean = {}'.format( 1, coin_toss(1)))"
   ]
  },
  {
   "cell_type": "code",
   "execution_count": 10,
   "id": "478bb37e",
   "metadata": {},
   "outputs": [
    {
     "name": "stdout",
     "output_type": "stream",
     "text": [
      "из 10 заходов по 15 бросков mean = 6.7\n"
     ]
    }
   ],
   "source": [
    "print('из {} заходов по 15 бросков mean = {}'.format( 10, coin_toss(10)))"
   ]
  },
  {
   "cell_type": "code",
   "execution_count": 11,
   "id": "fc4081df",
   "metadata": {},
   "outputs": [
    {
     "name": "stdout",
     "output_type": "stream",
     "text": [
      "из 50 заходов по 15 бросков mean = 7.68\n"
     ]
    }
   ],
   "source": [
    "print('из {} заходов по 15 бросков mean = {}'.format( 50, coin_toss(50)))"
   ]
  },
  {
   "cell_type": "code",
   "execution_count": 12,
   "id": "6604ccad",
   "metadata": {},
   "outputs": [
    {
     "name": "stdout",
     "output_type": "stream",
     "text": [
      "из 1000 заходов по 15 бросков mean = 7.532\n"
     ]
    }
   ],
   "source": [
    "print('из {} заходов по 15 бросков mean = {}'.format( 1000, coin_toss(1000)))"
   ]
  },
  {
   "cell_type": "code",
   "execution_count": 13,
   "id": "77b1dc31",
   "metadata": {},
   "outputs": [
    {
     "name": "stdout",
     "output_type": "stream",
     "text": [
      "из 1000 заходов по 15 бросков mean = 7.473\n"
     ]
    }
   ],
   "source": [
    "print('из {} заходов по 15 бросков mean = {}'.format( 1000, coin_toss(10000)))"
   ]
  },
  {
   "cell_type": "code",
   "execution_count": 14,
   "id": "5f34ea58",
   "metadata": {},
   "outputs": [
    {
     "name": "stderr",
     "output_type": "stream",
     "text": [
      "C:\\Users\\Bruker\\anaconda3\\lib\\site-packages\\seaborn\\distributions.py:2557: FutureWarning: `distplot` is a deprecated function and will be removed in a future version. Please adapt your code to use either `displot` (a figure-level function with similar flexibility) or `histplot` (an axes-level function for histograms).\n",
      "  warnings.warn(msg, FutureWarning)\n"
     ]
    },
    {
     "data": {
      "image/png": "[encoded data removed]",
      "text/plain": [
       "<Figure size 432x288 with 1 Axes>"
      ]
     },
     "metadata": {
      "needs_background": "light"
     },
     "output_type": "display_data"
    }
   ],
   "source": [
    "import seaborn as sns\n",
    "sns.distplot(head_tails)\n",
    "plt.show()"
   ]
  },
  {
   "cell_type": "markdown",
   "id": "08538e23",
   "metadata": {},
   "source": [
    "###### визуализация переменной head_tails с 15 шт. биноминальных бросов монеты"
   ]
  },
  {
   "cell_type": "code",
   "execution_count": 15,
   "id": "fa44cb99",
   "metadata": {
    "scrolled": true
   },
   "outputs": [
    {
     "name": "stderr",
     "output_type": "stream",
     "text": [
      "C:\\Users\\Bruker\\anaconda3\\lib\\site-packages\\seaborn\\distributions.py:2557: FutureWarning: `distplot` is a deprecated function and will be removed in a future version. Please adapt your code to use either `displot` (a figure-level function with similar flexibility) or `histplot` (an axes-level function for histograms).\n",
      "  warnings.warn(msg, FutureWarning)\n"
     ]
    },
    {
     "data": {
      "text/plain": [
       "<AxesSubplot:>"
      ]
     },
     "execution_count": 15,
     "metadata": {},
     "output_type": "execute_result"
    },
    {
     "data": {
      "image/png": "[encoded data removed]",
      "text/plain": [
       "<Figure size 432x288 with 1 Axes>"
      ]
     },
     "metadata": {
      "needs_background": "light"
     },
     "output_type": "display_data"
    }
   ],
   "source": [
    "sns.distplot(head_tails, hist=True, kde=False)"
   ]
  },
  {
   "cell_type": "markdown",
   "id": "5bd2dea0",
   "metadata": {},
   "source": [
    "###### Делаем еще 15 кастов"
   ]
  },
  {
   "cell_type": "code",
   "execution_count": 16,
   "id": "c7d49f4f",
   "metadata": {},
   "outputs": [
    {
     "data": {
      "image/png": "[encoded data removed]",
      "text/plain": [
       "<Figure size 432x288 with 1 Axes>"
      ]
     },
     "metadata": {
      "needs_background": "light"
     },
     "output_type": "display_data"
    }
   ],
   "source": [
    "from numpy import random\n",
    "kast=sns.distplot(random.binomial(n=1, p=0.5, size=15), hist=True, kde=False)\n",
    "plt.show()"
   ]
  },
  {
   "cell_type": "markdown",
   "id": "9b5044cc",
   "metadata": {},
   "source": [
    "###### Экспоненциальный"
   ]
  },
  {
   "cell_type": "code",
   "execution_count": 17,
   "id": "9aba70e6",
   "metadata": {},
   "outputs": [
    {
     "data": {
      "image/png": "[encoded data removed]",
      "text/plain": [
       "<Figure size 432x288 with 1 Axes>"
      ]
     },
     "metadata": {
      "needs_background": "light"
     },
     "output_type": "display_data"
    }
   ],
   "source": [
    "h_t=np.random.exponential(1, size=15) \n",
    "h=plt.hist(h_t,bins=15, density=True)"
   ]
  },
  {
   "cell_type": "markdown",
   "id": "548bbf2c",
   "metadata": {},
   "source": [
    "###### Standard_T Studenta"
   ]
  },
  {
   "cell_type": "code",
   "execution_count": 18,
   "id": "25e39995",
   "metadata": {},
   "outputs": [
    {
     "data": {
      "image/png": "[encoded data removed]",
      "text/plain": [
       "<Figure size 432x288 with 1 Axes>"
      ]
     },
     "metadata": {
      "needs_background": "light"
     },
     "output_type": "display_data"
    }
   ],
   "source": [
    "h_t1=np.random.standard_t(1, size=15)\n",
    "h=plt.hist(h_t1,bins=15, density=True)"
   ]
  },
  {
   "cell_type": "markdown",
   "id": "2888f24d",
   "metadata": {},
   "source": [
    "###### Экспоненциальный и Стьюдента"
   ]
  },
  {
   "cell_type": "code",
   "execution_count": 19,
   "id": "eb512a40",
   "metadata": {
    "scrolled": true
   },
   "outputs": [
    {
     "data": {
      "image/png": "[encoded data removed]",
      "text/plain": [
       "<Figure size 432x288 with 1 Axes>"
      ]
     },
     "metadata": {
      "needs_background": "light"
     },
     "output_type": "display_data"
    }
   ],
   "source": [
    "h=plt.hist(h_t,bins=15, density=True)\n",
    "h=plt.hist(h_t1,bins=15, density=True)"
   ]
  },
  {
   "cell_type": "code",
   "execution_count": 20,
   "id": "deaa237d",
   "metadata": {},
   "outputs": [
    {
     "data": {
      "image/png": "[encoded data removed]",
      "text/plain": [
       "<Figure size 432x288 with 15 Axes>"
      ]
     },
     "metadata": {
      "needs_background": "light"
     },
     "output_type": "display_data"
    }
   ],
   "source": [
    "from scipy.stats import bernoulli\n",
    "from scipy import stats\n",
    "\n",
    "fig, ax = plt.subplots(1, 15)"
   ]
  },
  {
   "cell_type": "code",
   "execution_count": 21,
   "id": "151df83d",
   "metadata": {},
   "outputs": [
    {
     "data": {
      "image/png": "[encoded data removed]",
      "text/plain": [
       "<Figure size 432x288 with 1 Axes>"
      ]
     },
     "metadata": {
      "needs_background": "light"
     },
     "output_type": "display_data"
    }
   ],
   "source": [
    "coins = np.random.binomial(n=15,p=0.5,size=100)\n",
    "h=plt.hist(coins,bins=15, density=True)"
   ]
  },
  {
   "cell_type": "code",
   "execution_count": 22,
   "id": "fbeee9fd",
   "metadata": {},
   "outputs": [
    {
     "data": {
      "image/png": "[encoded data removed]",
      "text/plain": [
       "<Figure size 432x288 with 1 Axes>"
      ]
     },
     "metadata": {
      "needs_background": "light"
     },
     "output_type": "display_data"
    }
   ],
   "source": [
    "coins = np.random.binomial(n=15,p=0.5,size=1000)\n",
    "h=plt.hist(coins,bins=15, density=True)"
   ]
  },
  {
   "cell_type": "code",
   "execution_count": 23,
   "id": "f461d86a",
   "metadata": {},
   "outputs": [
    {
     "data": {
      "image/png": "[encoded data removed]",
      "text/plain": [
       "<Figure size 432x288 with 1 Axes>"
      ]
     },
     "metadata": {
      "needs_background": "light"
     },
     "output_type": "display_data"
    }
   ],
   "source": [
    "coins = np.random.binomial(n=15,p=0.5,size=50000)\n",
    "h=plt.hist(coins,bins=15, density=True)"
   ]
  },
  {
   "cell_type": "code",
   "execution_count": 24,
   "id": "7e14d720",
   "metadata": {},
   "outputs": [
    {
     "data": {
      "text/plain": [
       "[<matplotlib.lines.Line2D at 0x1a3baa4f250>]"
      ]
     },
     "execution_count": 24,
     "metadata": {},
     "output_type": "execute_result"
    },
    {
     "data": {
      "image/png": "[encoded data removed]",
      "text/plain": [
       "<Figure size 432x288 with 1 Axes>"
      ]
     },
     "metadata": {
      "needs_background": "light"
     },
     "output_type": "display_data"
    }
   ],
   "source": [
    "plt.plot(coins)"
   ]
  },
  {
   "cell_type": "code",
   "execution_count": 49,
   "id": "d5ab4ed4",
   "metadata": {},
   "outputs": [],
   "source": [
    "x=np.linspace(0,4,100)"
   ]
  },
  {
   "cell_type": "code",
   "execution_count": null,
   "id": "a803d1ac",
   "metadata": {},
   "outputs": [],
   "source": []
  },
  {
   "cell_type": "code",
   "execution_count": 38,
   "id": "473044a4",
   "metadata": {},
   "outputs": [],
   "source": [
    "norm_rv = stats.norm(loc=2, scale=0.5)"
   ]
  },
  {
   "cell_type": "code",
   "execution_count": 39,
   "id": "d47faf61",
   "metadata": {},
   "outputs": [
    {
     "data": {
      "text/plain": [
       "array([0, 1, 0, 0, 0, 1, 0, 1, 1, 1, 0, 0, 1, 0, 0])"
      ]
     },
     "execution_count": 39,
     "metadata": {},
     "output_type": "execute_result"
    }
   ],
   "source": [
    "flips = rv.rvs(15)\n",
    "flips"
   ]
  },
  {
   "cell_type": "code",
   "execution_count": 56,
   "id": "819328ea",
   "metadata": {},
   "outputs": [
    {
     "data": {
      "image/png": "[encoded data removed]",
      "text/plain": [
       "<Figure size 432x288 with 1 Axes>"
      ]
     },
     "metadata": {
      "needs_background": "light"
     },
     "output_type": "display_data"
    }
   ],
   "source": [
    "pdf=norm_rv.pdf(x);   # pdf - probability distribution function PROBABILITY DENSITY \n",
    "plt.plot(x,pdf);\n",
    "plt.show()"
   ]
  },
  {
   "cell_type": "markdown",
   "id": "3b53c646",
   "metadata": {},
   "source": [
    "# 15 бросков монеты, 1000 раз, 0,5 распределение.\n",
    "  Не знаю как в NUMPY начертить PDF "
   ]
  },
  {
   "cell_type": "code",
   "execution_count": 43,
   "id": "9dbce86c",
   "metadata": {},
   "outputs": [],
   "source": [
    "n, p = 15, .5  # number of trials, probability of each trial\n",
    "\n",
    "s = np.random.binomial(n, p, 1000)"
   ]
  },
  {
   "cell_type": "code",
   "execution_count": 44,
   "id": "e727070c",
   "metadata": {},
   "outputs": [
    {
     "data": {
      "text/plain": [
       "[<matplotlib.lines.Line2D at 0x1a3bd7fa8b0>]"
      ]
     },
     "execution_count": 44,
     "metadata": {},
     "output_type": "execute_result"
    },
    {
     "data": {
      "image/png": "[encoded data removed]",
      "text/plain": [
       "<Figure size 432x288 with 1 Axes>"
      ]
     },
     "metadata": {
      "needs_background": "light"
     },
     "output_type": "display_data"
    }
   ],
   "source": [
    "plt.plot(s)"
   ]
  },
  {
   "cell_type": "markdown",
   "id": "2b7c6e13",
   "metadata": {},
   "source": [
    "# Бросаем снова"
   ]
  },
  {
   "cell_type": "code",
   "execution_count": 57,
   "id": "5877f953",
   "metadata": {},
   "outputs": [
    {
     "data": {
      "text/plain": [
       "array([0])"
      ]
     },
     "execution_count": 57,
     "metadata": {},
     "output_type": "execute_result"
    }
   ],
   "source": [
    "from scipy.stats import bernoulli \n",
    "bernoulli.rvs(p=0.5, size=1)"
   ]
  },
  {
   "cell_type": "code",
   "execution_count": 58,
   "id": "e63fbefc",
   "metadata": {},
   "outputs": [
    {
     "data": {
      "text/plain": [
       "array([1])"
      ]
     },
     "execution_count": 58,
     "metadata": {},
     "output_type": "execute_result"
    }
   ],
   "source": [
    "bernoulli.rvs(p=0.5, size=1)"
   ]
  },
  {
   "cell_type": "markdown",
   "id": "ca303aec",
   "metadata": {},
   "source": [
    "###  15 коинов"
   ]
  },
  {
   "cell_type": "code",
   "execution_count": 62,
   "id": "ca3c23b6",
   "metadata": {},
   "outputs": [
    {
     "data": {
      "text/plain": [
       "array([0, 0, 1, 0, 0, 1, 0, 0, 1, 1, 1, 1, 0, 0, 0])"
      ]
     },
     "execution_count": 62,
     "metadata": {},
     "output_type": "execute_result"
    }
   ],
   "source": [
    "bernoulli.rvs(p=0.5, size=15)"
   ]
  },
  {
   "cell_type": "code",
   "execution_count": 63,
   "id": "594f3834",
   "metadata": {},
   "outputs": [
    {
     "data": {
      "text/plain": [
       "6"
      ]
     },
     "execution_count": 63,
     "metadata": {},
     "output_type": "execute_result"
    }
   ],
   "source": [
    "sum(bernoulli.rvs(p=0.5, size=15))  #  Сумма heads"
   ]
  },
  {
   "cell_type": "code",
   "execution_count": 64,
   "id": "a8b31be9",
   "metadata": {},
   "outputs": [
    {
     "data": {
      "text/plain": [
       "array([6])"
      ]
     },
     "execution_count": 64,
     "metadata": {},
     "output_type": "execute_result"
    }
   ],
   "source": [
    "from scipy.stats import binom \n",
    "binom.rvs(n=15, p=0.5, size=1)"
   ]
  },
  {
   "cell_type": "code",
   "execution_count": 70,
   "id": "9e86bb82",
   "metadata": {},
   "outputs": [
    {
     "data": {
      "text/plain": [
       "array([ 3,  9,  8, 11, 10,  8,  8,  6,  7, 12,  4,  5, 10,  9,  7,  9,  8,\n",
       "        8,  5,  8,  5,  7,  7,  6,  5, 10,  5, 11,  8,  6,  5,  7,  5,  5,\n",
       "        7,  9,  6,  7,  6,  8,  7,  9,  8,  6,  9,  9,  7,  9,  8,  6,  6,\n",
       "        6, 10,  5,  5,  7,  5,  6,  7,  7,  7,  3,  6,  9,  8,  7,  9,  6,\n",
       "        4, 10,  8,  3,  8, 11,  9, 10,  8,  4, 10,  6,  8,  4, 10,  4,  6,\n",
       "        5,  4,  2, 10,  6,  7,  7,  6,  9,  8,  6,  9,  7,  2,  8])"
      ]
     },
     "execution_count": 70,
     "metadata": {},
     "output_type": "execute_result"
    }
   ],
   "source": [
    " binom.rvs(n=15, p=0.5, size=100)"
   ]
  },
  {
   "cell_type": "markdown",
   "id": "23f9593b",
   "metadata": {},
   "source": [
    "#### Probability бросить 2 орел после 15 бросков"
   ]
  },
  {
   "cell_type": "code",
   "execution_count": 75,
   "id": "f31fb89c",
   "metadata": {},
   "outputs": [
    {
     "data": {
      "text/plain": [
       "0.0032043457031250204"
      ]
     },
     "execution_count": 75,
     "metadata": {},
     "output_type": "execute_result"
    }
   ],
   "source": [
    "binom.pmf(k=2, n=15, p=0.5)"
   ]
  },
  {
   "cell_type": "code",
   "execution_count": 76,
   "id": "54fd64c2",
   "metadata": {},
   "outputs": [
    {
     "data": {
      "text/plain": [
       "0.09164428710937506"
      ]
     },
     "execution_count": 76,
     "metadata": {},
     "output_type": "execute_result"
    }
   ],
   "source": [
    "binom.pmf(k=5, n=15, p=0.5)"
   ]
  },
  {
   "cell_type": "code",
   "execution_count": 78,
   "id": "76658ab3",
   "metadata": {},
   "outputs": [
    {
     "data": {
      "text/plain": [
       "0.15274047851562547"
      ]
     },
     "execution_count": 78,
     "metadata": {},
     "output_type": "execute_result"
    }
   ],
   "source": [
    "binom.pmf(k=9, n=15, p=0.5)"
   ]
  },
  {
   "cell_type": "code",
   "execution_count": 79,
   "id": "d5654830",
   "metadata": {},
   "outputs": [
    {
     "data": {
      "text/plain": [
       "0.00044662192247670794"
      ]
     },
     "execution_count": 79,
     "metadata": {},
     "output_type": "execute_result"
    }
   ],
   "source": [
    "binom.pmf(k=500, n=1500, p=0.3)"
   ]
  },
  {
   "cell_type": "code",
   "execution_count": 80,
   "id": "76d58453",
   "metadata": {},
   "outputs": [
    {
     "data": {
      "text/plain": [
       "4.5871969764269165e-188"
      ]
     },
     "execution_count": 80,
     "metadata": {},
     "output_type": "execute_result"
    }
   ],
   "source": [
    "binom.pmf(k=500, n=1500, p=0.7)"
   ]
  },
  {
   "cell_type": "markdown",
   "id": "54d1bd6f",
   "metadata": {},
   "source": [
    "Общая вероятность н -количества орлов после 15 бросков"
   ]
  },
  {
   "cell_type": "code",
   "execution_count": 83,
   "id": "a165a8f5",
   "metadata": {},
   "outputs": [
    {
     "data": {
      "text/plain": [
       "0.15087890625000008"
      ]
     },
     "execution_count": 83,
     "metadata": {},
     "output_type": "execute_result"
    }
   ],
   "source": [
    "binom.cdf(k=5, n=15, p=0.5)"
   ]
  },
  {
   "cell_type": "code",
   "execution_count": 84,
   "id": "2e043d52",
   "metadata": {},
   "outputs": [
    {
     "data": {
      "text/plain": [
       "0.5325192572428386"
      ]
     },
     "execution_count": 84,
     "metadata": {},
     "output_type": "execute_result"
    }
   ],
   "source": [
    "binom.cdf(k=75, n=150, p=0.5)"
   ]
  },
  {
   "cell_type": "code",
   "execution_count": 85,
   "id": "ffbf98be",
   "metadata": {},
   "outputs": [
    {
     "data": {
      "text/plain": [
       "0.9999999999999969"
      ]
     },
     "execution_count": 85,
     "metadata": {},
     "output_type": "execute_result"
    }
   ],
   "source": [
    "binom.cdf(k=900, n=1500, p=0.5)"
   ]
  },
  {
   "cell_type": "code",
   "execution_count": 86,
   "id": "044ad727",
   "metadata": {},
   "outputs": [
    {
     "data": {
      "text/plain": [
       "2.2532379200069992e-70"
      ]
     },
     "execution_count": 86,
     "metadata": {},
     "output_type": "execute_result"
    }
   ],
   "source": [
    "binom.cdf(k=900, n=1500, p=0.8)"
   ]
  },
  {
   "cell_type": "markdown",
   "id": "d85fed1a",
   "metadata": {},
   "source": [
    "Вероятность больше чем - к "
   ]
  },
  {
   "cell_type": "code",
   "execution_count": 90,
   "id": "d7c21c60",
   "metadata": {},
   "outputs": [
    {
     "data": {
      "text/plain": [
       "0.9999999999999952"
      ]
     },
     "execution_count": 90,
     "metadata": {},
     "output_type": "execute_result"
    }
   ],
   "source": [
    "1-binom.cdf(k=600, n=1500, p=0.5)"
   ]
  },
  {
   "cell_type": "code",
   "execution_count": 91,
   "id": "0e2c648e",
   "metadata": {},
   "outputs": [
    {
     "data": {
      "text/plain": [
       "1.1102230246251565e-16"
      ]
     },
     "execution_count": 91,
     "metadata": {},
     "output_type": "execute_result"
    }
   ],
   "source": [
    "1-binom.cdf(k=600, n=1500, p=0.2)"
   ]
  },
  {
   "cell_type": "code",
   "execution_count": 97,
   "id": "2dcf5c85",
   "metadata": {},
   "outputs": [
    {
     "data": {
      "text/plain": [
       "1.1102230246251565e-16"
      ]
     },
     "execution_count": 97,
     "metadata": {},
     "output_type": "execute_result"
    }
   ],
   "source": [
    "1-binom.cdf(k=800, n=1500, p=0.1)"
   ]
  },
  {
   "cell_type": "code",
   "execution_count": 99,
   "id": "f5487ecf",
   "metadata": {},
   "outputs": [
    {
     "data": {
      "text/plain": [
       "0.999999999999992"
      ]
     },
     "execution_count": 99,
     "metadata": {},
     "output_type": "execute_result"
    }
   ],
   "source": [
    "binom.sf(k=59, n=150, p=0.7) "
   ]
  },
  {
   "cell_type": "code",
   "execution_count": 100,
   "id": "06724f6c",
   "metadata": {},
   "outputs": [
    {
     "data": {
      "text/plain": [
       "0.5"
      ]
     },
     "execution_count": 100,
     "metadata": {},
     "output_type": "execute_result"
    }
   ],
   "source": [
    "from scipy.stats import describe \n",
    "describe([0,1]).mean"
   ]
  },
  {
   "cell_type": "code",
   "execution_count": 101,
   "id": "f52d50fe",
   "metadata": {},
   "outputs": [
    {
     "data": {
      "text/plain": [
       "0.5"
      ]
     },
     "execution_count": 101,
     "metadata": {},
     "output_type": "execute_result"
    }
   ],
   "source": [
    "describe([0,1]).variance"
   ]
  },
  {
   "cell_type": "code",
   "execution_count": 102,
   "id": "3a2009a9",
   "metadata": {},
   "outputs": [
    {
     "data": {
      "text/plain": [
       "(array(7.5), array(3.75))"
      ]
     },
     "execution_count": 102,
     "metadata": {},
     "output_type": "execute_result"
    }
   ],
   "source": [
    "binom.stats(n=15, p=0.5)"
   ]
  },
  {
   "cell_type": "code",
   "execution_count": 103,
   "id": "773b886f",
   "metadata": {},
   "outputs": [
    {
     "data": {
      "text/plain": [
       "(array(4.5), array(3.15))"
      ]
     },
     "execution_count": 103,
     "metadata": {},
     "output_type": "execute_result"
    }
   ],
   "source": [
    "binom.stats(n=15, p=0.3)"
   ]
  },
  {
   "cell_type": "code",
   "execution_count": null,
   "id": "e817612d",
   "metadata": {},
   "outputs": [],
   "source": []
  }
 ],
 "metadata": {
  "kernelspec": {
   "display_name": "Python 3",
   "language": "python",
   "name": "python3"
  },
  "language_info": {
   "codemirror_mode": {
    "name": "ipython",
    "version": 3
   },
   "file_extension": ".py",
   "mimetype": "text/x-python",
   "name": "python",
   "nbconvert_exporter": "python",
   "pygments_lexer": "ipython3",
   "version": "3.8.8"
  }
 },
 "nbformat": 4,
 "nbformat_minor": 5
}
