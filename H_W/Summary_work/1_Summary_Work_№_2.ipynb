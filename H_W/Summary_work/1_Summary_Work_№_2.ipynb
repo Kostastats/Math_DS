{
 "cells": [
  {
   "cell_type": "markdown",
   "id": "3be87d95",
   "metadata": {},
   "source": [
    "# Задание 1\n",
    "Дана матрица рейтингов фильмов (строки - пользователи (10 человек), столбцы - фильмы (15 фильмов))\n",
    "a) Необходимо найти наиболее похожего пользователя по косинусной метрике для каждого из (ответ: 10 пар вида (x, y), где y\n",
    "\n",
    "    наиболее похожий пользователь на пользователя x).\n",
    "    b) Предположим, вы захотели сжать признаковые описания пользователя с 15 фильмов, до, скажем, 5-ти признаков, как вы\n",
    "    это сделаете?"
   ]
  },
  {
   "cell_type": "markdown",
   "id": "88b1e658",
   "metadata": {},
   "source": [
    "# Задание 2\n",
    "Упражнения по вычислению производных (на python и на бумаге)"
   ]
  },
  {
   "cell_type": "markdown",
   "id": "71e051fc",
   "metadata": {},
   "source": [
    "# Задание 3\n",
    "Дана функция с неизвестными параметрами a и b, вам также известны значения функции fx в точках x. Найдите\n",
    "оптимальные параметры a, b, минимизирующие абсолютную ошибку error."
   ]
  },
  {
   "cell_type": "markdown",
   "id": "1b526c69",
   "metadata": {},
   "source": [
    "# Задание 4\n",
    "Создайте собственную дискретную случайную величину с 20 значениями. Сгенерируйте 1000 выборок размера 50.\n",
    "Посчитайте среднее для каждой выборки. Постройте гистограмму распределения средних."
   ]
  },
  {
   "cell_type": "markdown",
   "id": "7c43d54d",
   "metadata": {},
   "source": [
    "# Задание 5\n",
    "Найдите собственные значения и собственные вектора матрицы (на python и на бумаге)"
   ]
  },
  {
   "cell_type": "markdown",
   "id": "ab728122",
   "metadata": {},
   "source": [
    "# ---------------------------------------------------------------"
   ]
  },
  {
   "cell_type": "markdown",
   "id": "c7be6d1e",
   "metadata": {},
   "source": [
    "#                       Решение"
   ]
  },
  {
   "cell_type": "markdown",
   "id": "afd0af20",
   "metadata": {},
   "source": [
    "# Задание 1\n",
    "\n",
    "Дана матрица рейтингов фильмов (строки - пользователи (10 человек), столбцы - фильмы (15 фильмов)) a) Необходимо найти наиболее похожего пользователя по косинусной метрике для каждого из (ответ: 10 пар вида (x, y), где y\n",
    "\n",
    "наиболее похожий пользователь на пользователя x).\n",
    "b) Предположим, вы захотели сжать признаковые описания пользователя с 15 фильмов, до, скажем, 5-ти признаков, как вы\n",
    "это сделаете?"
   ]
  },
  {
   "cell_type": "code",
   "execution_count": 1,
   "id": "719eddc3",
   "metadata": {},
   "outputs": [],
   "source": [
    "\n",
    "\n",
    "import matplotlib.pyplot as plt\n",
    "import numpy as np\n",
    "\n",
    "from scipy.optimize import minimize\n",
    "%matplotlib inline\n",
    "\n"
   ]
  },
  {
   "cell_type": "code",
   "execution_count": 7,
   "id": "452a259f",
   "metadata": {},
   "outputs": [],
   "source": [
    "raitings=np.array([[ 4,  4,  9,  4,  1,  6, 10,  7,  9,  6,  9,  2,  8,  6,  6],\n",
    "                     [ 9,  2,  5, 10,  7,  8, 10,  5,  6,  2,  1,  6,  8,  9,  7],\n",
    "                     [ 1,  6,  8,  8,  4,  9,  3,  8, 10,  5,  2,  6,  8,  1,  6],\n",
    "                     [ 6,  1,  9,  7,  7,  9,  2,  3,  5,  1,  6,  6,  3,  2,  7],\n",
    "                     [ 3,  7,  3,  5,  7,  9,  9,  6,  2,  9,  1,  2,  8, 10,  6],\n",
    "                     [ 8,  3,  7,  3,  8,  6,  1,  8,  8,  6,  1,  9,  4, 10,  1],\n",
    "                     [ 9,  8,  4,  8,  8, 10,  6,  1,  1,  2,  9,  5,  2,  7,  2],\n",
    "                     [ 4,  1,  6,  4,  3, 10,  4,  4,  2,  8,  7,  9,  3,  8,  3],\n",
    "                     [ 2,  7,  7,  6, 10,  6,  8,  9,  8,  6, 10,  1,  7, 10,  4],\n",
    "                     [ 5, 10,  8,  8,  9,  7,  2,  9,  9, 10,  8,  8,  8,  6, 10]])\n",
    "#   Создаем датасет для 10 человек и 15 фильмов с разными характеристиками\n"
   ]
  },
  {
   "cell_type": "code",
   "execution_count": 8,
   "id": "351f2a19",
   "metadata": {},
   "outputs": [],
   "source": [
    "#mov_s=np.around(movies, decimals=5)\n",
    "mov_s = raitings"
   ]
  },
  {
   "cell_type": "code",
   "execution_count": 9,
   "id": "c869484d",
   "metadata": {},
   "outputs": [],
   "source": [
    "import pandas as pd"
   ]
  },
  {
   "cell_type": "markdown",
   "id": "3d467c17",
   "metadata": {},
   "source": [
    "###### делаю более все наглядно со строками и колонками\n"
   ]
  },
  {
   "cell_type": "code",
   "execution_count": 10,
   "id": "356aab85",
   "metadata": {},
   "outputs": [
    {
     "data": {
      "text/html": [
       "<div>\n",
       "<style scoped>\n",
       "    .dataframe tbody tr th:only-of-type {\n",
       "        vertical-align: middle;\n",
       "    }\n",
       "\n",
       "    .dataframe tbody tr th {\n",
       "        vertical-align: top;\n",
       "    }\n",
       "\n",
       "    .dataframe thead th {\n",
       "        text-align: right;\n",
       "    }\n",
       "</style>\n",
       "<table border=\"1\" class=\"dataframe\">\n",
       "  <thead>\n",
       "    <tr style=\"text-align: right;\">\n",
       "      <th></th>\n",
       "      <th>0</th>\n",
       "      <th>1</th>\n",
       "      <th>2</th>\n",
       "      <th>3</th>\n",
       "      <th>4</th>\n",
       "      <th>5</th>\n",
       "      <th>6</th>\n",
       "      <th>7</th>\n",
       "      <th>8</th>\n",
       "      <th>9</th>\n",
       "      <th>10</th>\n",
       "      <th>11</th>\n",
       "      <th>12</th>\n",
       "      <th>13</th>\n",
       "      <th>14</th>\n",
       "    </tr>\n",
       "  </thead>\n",
       "  <tbody>\n",
       "    <tr>\n",
       "      <th>0</th>\n",
       "      <td>4</td>\n",
       "      <td>4</td>\n",
       "      <td>9</td>\n",
       "      <td>4</td>\n",
       "      <td>1</td>\n",
       "      <td>6</td>\n",
       "      <td>10</td>\n",
       "      <td>7</td>\n",
       "      <td>9</td>\n",
       "      <td>6</td>\n",
       "      <td>9</td>\n",
       "      <td>2</td>\n",
       "      <td>8</td>\n",
       "      <td>6</td>\n",
       "      <td>6</td>\n",
       "    </tr>\n",
       "    <tr>\n",
       "      <th>1</th>\n",
       "      <td>9</td>\n",
       "      <td>2</td>\n",
       "      <td>5</td>\n",
       "      <td>10</td>\n",
       "      <td>7</td>\n",
       "      <td>8</td>\n",
       "      <td>10</td>\n",
       "      <td>5</td>\n",
       "      <td>6</td>\n",
       "      <td>2</td>\n",
       "      <td>1</td>\n",
       "      <td>6</td>\n",
       "      <td>8</td>\n",
       "      <td>9</td>\n",
       "      <td>7</td>\n",
       "    </tr>\n",
       "    <tr>\n",
       "      <th>2</th>\n",
       "      <td>1</td>\n",
       "      <td>6</td>\n",
       "      <td>8</td>\n",
       "      <td>8</td>\n",
       "      <td>4</td>\n",
       "      <td>9</td>\n",
       "      <td>3</td>\n",
       "      <td>8</td>\n",
       "      <td>10</td>\n",
       "      <td>5</td>\n",
       "      <td>2</td>\n",
       "      <td>6</td>\n",
       "      <td>8</td>\n",
       "      <td>1</td>\n",
       "      <td>6</td>\n",
       "    </tr>\n",
       "    <tr>\n",
       "      <th>3</th>\n",
       "      <td>6</td>\n",
       "      <td>1</td>\n",
       "      <td>9</td>\n",
       "      <td>7</td>\n",
       "      <td>7</td>\n",
       "      <td>9</td>\n",
       "      <td>2</td>\n",
       "      <td>3</td>\n",
       "      <td>5</td>\n",
       "      <td>1</td>\n",
       "      <td>6</td>\n",
       "      <td>6</td>\n",
       "      <td>3</td>\n",
       "      <td>2</td>\n",
       "      <td>7</td>\n",
       "    </tr>\n",
       "    <tr>\n",
       "      <th>4</th>\n",
       "      <td>3</td>\n",
       "      <td>7</td>\n",
       "      <td>3</td>\n",
       "      <td>5</td>\n",
       "      <td>7</td>\n",
       "      <td>9</td>\n",
       "      <td>9</td>\n",
       "      <td>6</td>\n",
       "      <td>2</td>\n",
       "      <td>9</td>\n",
       "      <td>1</td>\n",
       "      <td>2</td>\n",
       "      <td>8</td>\n",
       "      <td>10</td>\n",
       "      <td>6</td>\n",
       "    </tr>\n",
       "    <tr>\n",
       "      <th>5</th>\n",
       "      <td>8</td>\n",
       "      <td>3</td>\n",
       "      <td>7</td>\n",
       "      <td>3</td>\n",
       "      <td>8</td>\n",
       "      <td>6</td>\n",
       "      <td>1</td>\n",
       "      <td>8</td>\n",
       "      <td>8</td>\n",
       "      <td>6</td>\n",
       "      <td>1</td>\n",
       "      <td>9</td>\n",
       "      <td>4</td>\n",
       "      <td>10</td>\n",
       "      <td>1</td>\n",
       "    </tr>\n",
       "    <tr>\n",
       "      <th>6</th>\n",
       "      <td>9</td>\n",
       "      <td>8</td>\n",
       "      <td>4</td>\n",
       "      <td>8</td>\n",
       "      <td>8</td>\n",
       "      <td>10</td>\n",
       "      <td>6</td>\n",
       "      <td>1</td>\n",
       "      <td>1</td>\n",
       "      <td>2</td>\n",
       "      <td>9</td>\n",
       "      <td>5</td>\n",
       "      <td>2</td>\n",
       "      <td>7</td>\n",
       "      <td>2</td>\n",
       "    </tr>\n",
       "    <tr>\n",
       "      <th>7</th>\n",
       "      <td>4</td>\n",
       "      <td>1</td>\n",
       "      <td>6</td>\n",
       "      <td>4</td>\n",
       "      <td>3</td>\n",
       "      <td>10</td>\n",
       "      <td>4</td>\n",
       "      <td>4</td>\n",
       "      <td>2</td>\n",
       "      <td>8</td>\n",
       "      <td>7</td>\n",
       "      <td>9</td>\n",
       "      <td>3</td>\n",
       "      <td>8</td>\n",
       "      <td>3</td>\n",
       "    </tr>\n",
       "    <tr>\n",
       "      <th>8</th>\n",
       "      <td>2</td>\n",
       "      <td>7</td>\n",
       "      <td>7</td>\n",
       "      <td>6</td>\n",
       "      <td>10</td>\n",
       "      <td>6</td>\n",
       "      <td>8</td>\n",
       "      <td>9</td>\n",
       "      <td>8</td>\n",
       "      <td>6</td>\n",
       "      <td>10</td>\n",
       "      <td>1</td>\n",
       "      <td>7</td>\n",
       "      <td>10</td>\n",
       "      <td>4</td>\n",
       "    </tr>\n",
       "    <tr>\n",
       "      <th>9</th>\n",
       "      <td>5</td>\n",
       "      <td>10</td>\n",
       "      <td>8</td>\n",
       "      <td>8</td>\n",
       "      <td>9</td>\n",
       "      <td>7</td>\n",
       "      <td>2</td>\n",
       "      <td>9</td>\n",
       "      <td>9</td>\n",
       "      <td>10</td>\n",
       "      <td>8</td>\n",
       "      <td>8</td>\n",
       "      <td>8</td>\n",
       "      <td>6</td>\n",
       "      <td>10</td>\n",
       "    </tr>\n",
       "  </tbody>\n",
       "</table>\n",
       "</div>"
      ],
      "text/plain": [
       "   0   1   2   3   4   5   6   7   8   9   10  11  12  13  14\n",
       "0   4   4   9   4   1   6  10   7   9   6   9   2   8   6   6\n",
       "1   9   2   5  10   7   8  10   5   6   2   1   6   8   9   7\n",
       "2   1   6   8   8   4   9   3   8  10   5   2   6   8   1   6\n",
       "3   6   1   9   7   7   9   2   3   5   1   6   6   3   2   7\n",
       "4   3   7   3   5   7   9   9   6   2   9   1   2   8  10   6\n",
       "5   8   3   7   3   8   6   1   8   8   6   1   9   4  10   1\n",
       "6   9   8   4   8   8  10   6   1   1   2   9   5   2   7   2\n",
       "7   4   1   6   4   3  10   4   4   2   8   7   9   3   8   3\n",
       "8   2   7   7   6  10   6   8   9   8   6  10   1   7  10   4\n",
       "9   5  10   8   8   9   7   2   9   9  10   8   8   8   6  10"
      ]
     },
     "execution_count": 10,
     "metadata": {},
     "output_type": "execute_result"
    }
   ],
   "source": [
    "pd.DataFrame(mov_s)"
   ]
  },
  {
   "cell_type": "code",
   "execution_count": 11,
   "id": "99124bbb",
   "metadata": {},
   "outputs": [],
   "source": [
    "user_1 = mov_s[0]\n",
    "user_2 = mov_s[1]\n",
    "user_3 = mov_s[2]\n",
    "user_4 = mov_s[3]\n",
    "user_5 = mov_s[4]\n",
    "user_6 = mov_s[5]\n",
    "user_7 = mov_s[6]\n",
    "user_8 = mov_s[7]\n",
    "user_9 = mov_s[8]\n",
    "user_10 = mov_s[9]\n",
    "\n",
    "  "
   ]
  },
  {
   "cell_type": "code",
   "execution_count": 12,
   "id": "53610c9b",
   "metadata": {},
   "outputs": [],
   "source": [
    "import matplotlib.pyplot as plt"
   ]
  },
  {
   "cell_type": "code",
   "execution_count": 13,
   "id": "141e6625",
   "metadata": {},
   "outputs": [
    {
     "data": {
      "image/png": "[encoded data removed]",
      "text/plain": [
       "<Figure size 432x288 with 1 Axes>"
      ]
     },
     "metadata": {
      "needs_background": "light"
     },
     "output_type": "display_data"
    }
   ],
   "source": [
    "plt.figure()\n",
    "plt.plot(user_1[0], user_1[1], 'b+')\n",
    "plt.plot(user_2[0], user_2[1], 'r*')\n",
    "plt.plot(user_3[0], user_3[1], 'go')\n",
    "plt.plot(user_4[0], user_4[1], 'r*')\n",
    "plt.plot(user_5[0], user_5[1], 'r*')\n",
    "plt.plot(user_6[0], user_6[1], 'r*')\n",
    "plt.plot(user_7[0], user_7[1], 'r*')\n",
    "plt.plot(user_8[0], user_8[1], 'r*')\n",
    "plt.plot(user_9[0], user_9[1], 'r*')\n",
    "plt.plot(user_10[0], user_10[1], 'r*')\n",
    "plt.grid()\n",
    "plt.show()"
   ]
  },
  {
   "cell_type": "markdown",
   "id": "53257a91",
   "metadata": {},
   "source": [
    "######  a) Необходимо найти наиболее похожего пользователя по косинусной метрике для каждого "
   ]
  },
  {
   "cell_type": "code",
   "execution_count": 14,
   "id": "f86fd50e",
   "metadata": {},
   "outputs": [],
   "source": [
    "def cosinus(a,b):\n",
    "    return np.dot(a,b)/(np.linalg.norm(a)*np.linalg.norm(b))"
   ]
  },
  {
   "cell_type": "code",
   "execution_count": null,
   "id": "5c6a65cb",
   "metadata": {},
   "outputs": [],
   "source": []
  },
  {
   "cell_type": "code",
   "execution_count": 15,
   "id": "a02503c7",
   "metadata": {},
   "outputs": [
    {
     "data": {
      "text/plain": [
       "0.8260291914926011"
      ]
     },
     "execution_count": 15,
     "metadata": {},
     "output_type": "execute_result"
    }
   ],
   "source": [
    "cosinus(user_1, user_2)"
   ]
  },
  {
   "cell_type": "code",
   "execution_count": 16,
   "id": "1d044508",
   "metadata": {},
   "outputs": [],
   "source": [
    "u1 = ([cosinus(user_1, user_1),cosinus(user_1, user_2),cosinus(user_1, user_3),cosinus(user_1, user_4), \n",
    "       cosinus(user_1, user_5), cosinus(user_1, user_6), cosinus(user_1, user_7),\n",
    "      cosinus(user_1, user_8), cosinus(user_1, user_9), cosinus(user_1, user_10)])\n"
   ]
  },
  {
   "cell_type": "code",
   "execution_count": 17,
   "id": "7c5b6663",
   "metadata": {},
   "outputs": [],
   "source": [
    "u2 = ([cosinus(user_2, user_1),cosinus(user_2, user_2), cosinus(user_2, user_3),cosinus(user_2, user_4), \n",
    "       cosinus(user_2, user_5), cosinus(user_2, user_6), cosinus(user_2, user_7),\n",
    "      cosinus(user_2, user_8), cosinus(user_2, user_9), cosinus(user_2, user_10)])\n",
    "\n",
    "u3 = ([cosinus(user_3, user_1),cosinus(user_3, user_2), cosinus(user_3, user_3),cosinus(user_3, user_4), \n",
    "       cosinus(user_3, user_5), cosinus(user_3, user_6), cosinus(user_3, user_7),\n",
    "      cosinus(user_3, user_8), cosinus(user_3, user_9), cosinus(user_3, user_10)])\n",
    "\n",
    "u4 = ([cosinus(user_4, user_1),cosinus(user_4, user_2), cosinus(user_4, user_3),cosinus(user_4, user_4), \n",
    "       cosinus(user_4, user_5), cosinus(user_4, user_6), cosinus(user_4, user_7),\n",
    "      cosinus(user_4, user_8), cosinus(user_4, user_9), cosinus(user_4, user_10)])\n",
    "\n",
    "u5 = ([cosinus(user_5, user_1),cosinus(user_5, user_2), cosinus(user_5, user_3),cosinus(user_5, user_4), \n",
    "       cosinus(user_5, user_5), cosinus(user_5, user_6), cosinus(user_5, user_7),\n",
    "      cosinus(user_5, user_8), cosinus(user_5, user_9), cosinus(user_5, user_10)])\n",
    "\n",
    "u6 = ([cosinus(user_6, user_1),cosinus(user_6, user_2), cosinus(user_6, user_3),cosinus(user_6, user_4), \n",
    "       cosinus(user_6, user_5), cosinus(user_6, user_6), cosinus(user_6, user_7),\n",
    "      cosinus(user_6, user_8), cosinus(user_6, user_9), cosinus(user_6, user_10)])\n",
    "\n",
    "u7 = ([cosinus(user_7, user_1),cosinus(user_7, user_2), cosinus(user_7, user_3),cosinus(user_7, user_4), \n",
    "       cosinus(user_7, user_5), cosinus(user_7, user_6), cosinus(user_7, user_7),\n",
    "      cosinus(user_7, user_8), cosinus(user_7, user_9), cosinus(user_7, user_10)])\n",
    "\n",
    "u8 = ([cosinus(user_8, user_1),cosinus(user_8, user_2), cosinus(user_8, user_3),cosinus(user_8, user_4), \n",
    "       cosinus(user_8, user_5), cosinus(user_8, user_6), cosinus(user_8, user_7),\n",
    "      cosinus(user_8, user_8), cosinus(user_8, user_9), cosinus(user_8, user_10)])\n",
    "\n",
    "u9 = ([cosinus(user_9, user_1),cosinus(user_9, user_2), cosinus(user_9, user_3),cosinus(user_9, user_4), \n",
    "       cosinus(user_9, user_5), cosinus(user_9, user_6), cosinus(user_9, user_7),\n",
    "      cosinus(user_9, user_8), cosinus(user_9, user_9), cosinus(user_9, user_10)])\n",
    "\n",
    "u10 = ([cosinus(user_10, user_1),cosinus(user_10, user_2), cosinus(user_10, user_3),cosinus(user_10, user_4), \n",
    "       cosinus(user_10, user_5), cosinus(user_10, user_6), cosinus(user_10, user_7),\n",
    "      cosinus(user_10, user_8), cosinus(user_10, user_9), cosinus(user_10, user_10)])"
   ]
  },
  {
   "cell_type": "code",
   "execution_count": 18,
   "id": "e07d3ff7",
   "metadata": {},
   "outputs": [],
   "source": [
    "u=np.array([u1, u2, u3, u4,u5,u6,u7,u8,u9,u10])"
   ]
  },
  {
   "cell_type": "code",
   "execution_count": 19,
   "id": "c337f7c0",
   "metadata": {
    "scrolled": true
   },
   "outputs": [
    {
     "data": {
      "text/html": [
       "<div>\n",
       "<style scoped>\n",
       "    .dataframe tbody tr th:only-of-type {\n",
       "        vertical-align: middle;\n",
       "    }\n",
       "\n",
       "    .dataframe tbody tr th {\n",
       "        vertical-align: top;\n",
       "    }\n",
       "\n",
       "    .dataframe thead th {\n",
       "        text-align: right;\n",
       "    }\n",
       "</style>\n",
       "<table border=\"1\" class=\"dataframe\">\n",
       "  <thead>\n",
       "    <tr style=\"text-align: right;\">\n",
       "      <th></th>\n",
       "      <th>1</th>\n",
       "      <th>2</th>\n",
       "      <th>3</th>\n",
       "      <th>4</th>\n",
       "      <th>5</th>\n",
       "      <th>6</th>\n",
       "      <th>7</th>\n",
       "      <th>8</th>\n",
       "      <th>9</th>\n",
       "      <th>10</th>\n",
       "    </tr>\n",
       "  </thead>\n",
       "  <tbody>\n",
       "    <tr>\n",
       "      <th>1</th>\n",
       "      <td>1.000000</td>\n",
       "      <td>0.826029</td>\n",
       "      <td>0.849215</td>\n",
       "      <td>0.783401</td>\n",
       "      <td>0.819176</td>\n",
       "      <td>0.741185</td>\n",
       "      <td>0.727358</td>\n",
       "      <td>0.809675</td>\n",
       "      <td>0.910660</td>\n",
       "      <td>0.860108</td>\n",
       "    </tr>\n",
       "    <tr>\n",
       "      <th>2</th>\n",
       "      <td>0.826029</td>\n",
       "      <td>1.000000</td>\n",
       "      <td>0.812343</td>\n",
       "      <td>0.846353</td>\n",
       "      <td>0.871381</td>\n",
       "      <td>0.827131</td>\n",
       "      <td>0.826297</td>\n",
       "      <td>0.800260</td>\n",
       "      <td>0.825263</td>\n",
       "      <td>0.819681</td>\n",
       "    </tr>\n",
       "    <tr>\n",
       "      <th>3</th>\n",
       "      <td>0.849215</td>\n",
       "      <td>0.812343</td>\n",
       "      <td>1.000000</td>\n",
       "      <td>0.846694</td>\n",
       "      <td>0.783943</td>\n",
       "      <td>0.790980</td>\n",
       "      <td>0.676162</td>\n",
       "      <td>0.762896</td>\n",
       "      <td>0.821121</td>\n",
       "      <td>0.918731</td>\n",
       "    </tr>\n",
       "    <tr>\n",
       "      <th>4</th>\n",
       "      <td>0.783401</td>\n",
       "      <td>0.846353</td>\n",
       "      <td>0.846694</td>\n",
       "      <td>1.000000</td>\n",
       "      <td>0.691534</td>\n",
       "      <td>0.786658</td>\n",
       "      <td>0.832742</td>\n",
       "      <td>0.829347</td>\n",
       "      <td>0.777067</td>\n",
       "      <td>0.858869</td>\n",
       "    </tr>\n",
       "    <tr>\n",
       "      <th>5</th>\n",
       "      <td>0.819176</td>\n",
       "      <td>0.871381</td>\n",
       "      <td>0.783943</td>\n",
       "      <td>0.691534</td>\n",
       "      <td>1.000000</td>\n",
       "      <td>0.776443</td>\n",
       "      <td>0.782005</td>\n",
       "      <td>0.812369</td>\n",
       "      <td>0.879485</td>\n",
       "      <td>0.845748</td>\n",
       "    </tr>\n",
       "    <tr>\n",
       "      <th>6</th>\n",
       "      <td>0.741185</td>\n",
       "      <td>0.827131</td>\n",
       "      <td>0.790980</td>\n",
       "      <td>0.786658</td>\n",
       "      <td>0.776443</td>\n",
       "      <td>1.000000</td>\n",
       "      <td>0.740118</td>\n",
       "      <td>0.844517</td>\n",
       "      <td>0.806229</td>\n",
       "      <td>0.855149</td>\n",
       "    </tr>\n",
       "    <tr>\n",
       "      <th>7</th>\n",
       "      <td>0.727358</td>\n",
       "      <td>0.826297</td>\n",
       "      <td>0.676162</td>\n",
       "      <td>0.832742</td>\n",
       "      <td>0.782005</td>\n",
       "      <td>0.740118</td>\n",
       "      <td>1.000000</td>\n",
       "      <td>0.826692</td>\n",
       "      <td>0.811300</td>\n",
       "      <td>0.791547</td>\n",
       "    </tr>\n",
       "    <tr>\n",
       "      <th>8</th>\n",
       "      <td>0.809675</td>\n",
       "      <td>0.800260</td>\n",
       "      <td>0.762896</td>\n",
       "      <td>0.829347</td>\n",
       "      <td>0.812369</td>\n",
       "      <td>0.844517</td>\n",
       "      <td>0.826692</td>\n",
       "      <td>1.000000</td>\n",
       "      <td>0.798128</td>\n",
       "      <td>0.836822</td>\n",
       "    </tr>\n",
       "    <tr>\n",
       "      <th>9</th>\n",
       "      <td>0.910660</td>\n",
       "      <td>0.825263</td>\n",
       "      <td>0.821121</td>\n",
       "      <td>0.777067</td>\n",
       "      <td>0.879485</td>\n",
       "      <td>0.806229</td>\n",
       "      <td>0.811300</td>\n",
       "      <td>0.798128</td>\n",
       "      <td>1.000000</td>\n",
       "      <td>0.900938</td>\n",
       "    </tr>\n",
       "    <tr>\n",
       "      <th>10</th>\n",
       "      <td>0.860108</td>\n",
       "      <td>0.819681</td>\n",
       "      <td>0.918731</td>\n",
       "      <td>0.858869</td>\n",
       "      <td>0.845748</td>\n",
       "      <td>0.855149</td>\n",
       "      <td>0.791547</td>\n",
       "      <td>0.836822</td>\n",
       "      <td>0.900938</td>\n",
       "      <td>1.000000</td>\n",
       "    </tr>\n",
       "  </tbody>\n",
       "</table>\n",
       "</div>"
      ],
      "text/plain": [
       "          1         2         3         4         5         6         7   \\\n",
       "1   1.000000  0.826029  0.849215  0.783401  0.819176  0.741185  0.727358   \n",
       "2   0.826029  1.000000  0.812343  0.846353  0.871381  0.827131  0.826297   \n",
       "3   0.849215  0.812343  1.000000  0.846694  0.783943  0.790980  0.676162   \n",
       "4   0.783401  0.846353  0.846694  1.000000  0.691534  0.786658  0.832742   \n",
       "5   0.819176  0.871381  0.783943  0.691534  1.000000  0.776443  0.782005   \n",
       "6   0.741185  0.827131  0.790980  0.786658  0.776443  1.000000  0.740118   \n",
       "7   0.727358  0.826297  0.676162  0.832742  0.782005  0.740118  1.000000   \n",
       "8   0.809675  0.800260  0.762896  0.829347  0.812369  0.844517  0.826692   \n",
       "9   0.910660  0.825263  0.821121  0.777067  0.879485  0.806229  0.811300   \n",
       "10  0.860108  0.819681  0.918731  0.858869  0.845748  0.855149  0.791547   \n",
       "\n",
       "          8         9         10  \n",
       "1   0.809675  0.910660  0.860108  \n",
       "2   0.800260  0.825263  0.819681  \n",
       "3   0.762896  0.821121  0.918731  \n",
       "4   0.829347  0.777067  0.858869  \n",
       "5   0.812369  0.879485  0.845748  \n",
       "6   0.844517  0.806229  0.855149  \n",
       "7   0.826692  0.811300  0.791547  \n",
       "8   1.000000  0.798128  0.836822  \n",
       "9   0.798128  1.000000  0.900938  \n",
       "10  0.836822  0.900938  1.000000  "
      ]
     },
     "execution_count": 19,
     "metadata": {},
     "output_type": "execute_result"
    }
   ],
   "source": [
    "pd.DataFrame(data=u, index= [1,2,3,4,5,6,7,8,9,10], columns=[1,2,3,4,5,6,7,8,9,10])"
   ]
  },
  {
   "cell_type": "markdown",
   "id": "d98db90f",
   "metadata": {},
   "source": [
    "# На хитмап сравниваем юзеров с юзерами, на похожесть"
   ]
  },
  {
   "cell_type": "code",
   "execution_count": 23,
   "id": "60309926",
   "metadata": {
    "scrolled": true
   },
   "outputs": [
    {
     "data": {
      "text/plain": [
       "<AxesSubplot:>"
      ]
     },
     "execution_count": 23,
     "metadata": {},
     "output_type": "execute_result"
    },
    {
     "data": {
      "image/png": "[encoded data removed]",
      "text/plain": [
       "<Figure size 1080x576 with 2 Axes>"
      ]
     },
     "metadata": {
      "needs_background": "light"
     },
     "output_type": "display_data"
    }
   ],
   "source": [
    "import seaborn as sns\n",
    "df1 = pd.DataFrame(data=u, index= [1,2,3,4,5,6,7,8,9,10], columns=[1,2,3,4,5,6,7,8,9,10])\n",
    "plt.figure(figsize = (15,8))\n",
    "sns.heatmap(df1, annot=True)"
   ]
  },
  {
   "cell_type": "markdown",
   "id": "9649843c",
   "metadata": {},
   "source": [
    "### для нахождения наиболее похожего пользователя по косинусной метрике для каждого я сравнил данного пользователя (строка) с другим пользователем (столбец)- наибольшее кос значение указывает на наибольшую схожесть     -- (по моему, выглядит симпатично)"
   ]
  },
  {
   "cell_type": "markdown",
   "id": "08eb1406",
   "metadata": {},
   "source": [
    "###### b) Предположим, вы захотели сжать признаковые описания пользователя с 15 фильмов, до, скажем, 5-ти признаков, как вы это сделаете?"
   ]
  },
  {
   "cell_type": "code",
   "execution_count": 24,
   "id": "2b213f9f",
   "metadata": {},
   "outputs": [
    {
     "data": {
      "text/html": [
       "<div>\n",
       "<style scoped>\n",
       "    .dataframe tbody tr th:only-of-type {\n",
       "        vertical-align: middle;\n",
       "    }\n",
       "\n",
       "    .dataframe tbody tr th {\n",
       "        vertical-align: top;\n",
       "    }\n",
       "\n",
       "    .dataframe thead th {\n",
       "        text-align: right;\n",
       "    }\n",
       "</style>\n",
       "<table border=\"1\" class=\"dataframe\">\n",
       "  <thead>\n",
       "    <tr style=\"text-align: right;\">\n",
       "      <th></th>\n",
       "      <th>0</th>\n",
       "      <th>1</th>\n",
       "      <th>2</th>\n",
       "      <th>3</th>\n",
       "      <th>4</th>\n",
       "      <th>5</th>\n",
       "      <th>6</th>\n",
       "      <th>7</th>\n",
       "      <th>8</th>\n",
       "      <th>9</th>\n",
       "      <th>10</th>\n",
       "      <th>11</th>\n",
       "      <th>12</th>\n",
       "      <th>13</th>\n",
       "      <th>14</th>\n",
       "    </tr>\n",
       "  </thead>\n",
       "  <tbody>\n",
       "    <tr>\n",
       "      <th>0</th>\n",
       "      <td>4</td>\n",
       "      <td>4</td>\n",
       "      <td>9</td>\n",
       "      <td>4</td>\n",
       "      <td>1</td>\n",
       "      <td>6</td>\n",
       "      <td>10</td>\n",
       "      <td>7</td>\n",
       "      <td>9</td>\n",
       "      <td>6</td>\n",
       "      <td>9</td>\n",
       "      <td>2</td>\n",
       "      <td>8</td>\n",
       "      <td>6</td>\n",
       "      <td>6</td>\n",
       "    </tr>\n",
       "    <tr>\n",
       "      <th>1</th>\n",
       "      <td>9</td>\n",
       "      <td>2</td>\n",
       "      <td>5</td>\n",
       "      <td>10</td>\n",
       "      <td>7</td>\n",
       "      <td>8</td>\n",
       "      <td>10</td>\n",
       "      <td>5</td>\n",
       "      <td>6</td>\n",
       "      <td>2</td>\n",
       "      <td>1</td>\n",
       "      <td>6</td>\n",
       "      <td>8</td>\n",
       "      <td>9</td>\n",
       "      <td>7</td>\n",
       "    </tr>\n",
       "    <tr>\n",
       "      <th>2</th>\n",
       "      <td>1</td>\n",
       "      <td>6</td>\n",
       "      <td>8</td>\n",
       "      <td>8</td>\n",
       "      <td>4</td>\n",
       "      <td>9</td>\n",
       "      <td>3</td>\n",
       "      <td>8</td>\n",
       "      <td>10</td>\n",
       "      <td>5</td>\n",
       "      <td>2</td>\n",
       "      <td>6</td>\n",
       "      <td>8</td>\n",
       "      <td>1</td>\n",
       "      <td>6</td>\n",
       "    </tr>\n",
       "    <tr>\n",
       "      <th>3</th>\n",
       "      <td>6</td>\n",
       "      <td>1</td>\n",
       "      <td>9</td>\n",
       "      <td>7</td>\n",
       "      <td>7</td>\n",
       "      <td>9</td>\n",
       "      <td>2</td>\n",
       "      <td>3</td>\n",
       "      <td>5</td>\n",
       "      <td>1</td>\n",
       "      <td>6</td>\n",
       "      <td>6</td>\n",
       "      <td>3</td>\n",
       "      <td>2</td>\n",
       "      <td>7</td>\n",
       "    </tr>\n",
       "    <tr>\n",
       "      <th>4</th>\n",
       "      <td>3</td>\n",
       "      <td>7</td>\n",
       "      <td>3</td>\n",
       "      <td>5</td>\n",
       "      <td>7</td>\n",
       "      <td>9</td>\n",
       "      <td>9</td>\n",
       "      <td>6</td>\n",
       "      <td>2</td>\n",
       "      <td>9</td>\n",
       "      <td>1</td>\n",
       "      <td>2</td>\n",
       "      <td>8</td>\n",
       "      <td>10</td>\n",
       "      <td>6</td>\n",
       "    </tr>\n",
       "    <tr>\n",
       "      <th>5</th>\n",
       "      <td>8</td>\n",
       "      <td>3</td>\n",
       "      <td>7</td>\n",
       "      <td>3</td>\n",
       "      <td>8</td>\n",
       "      <td>6</td>\n",
       "      <td>1</td>\n",
       "      <td>8</td>\n",
       "      <td>8</td>\n",
       "      <td>6</td>\n",
       "      <td>1</td>\n",
       "      <td>9</td>\n",
       "      <td>4</td>\n",
       "      <td>10</td>\n",
       "      <td>1</td>\n",
       "    </tr>\n",
       "    <tr>\n",
       "      <th>6</th>\n",
       "      <td>9</td>\n",
       "      <td>8</td>\n",
       "      <td>4</td>\n",
       "      <td>8</td>\n",
       "      <td>8</td>\n",
       "      <td>10</td>\n",
       "      <td>6</td>\n",
       "      <td>1</td>\n",
       "      <td>1</td>\n",
       "      <td>2</td>\n",
       "      <td>9</td>\n",
       "      <td>5</td>\n",
       "      <td>2</td>\n",
       "      <td>7</td>\n",
       "      <td>2</td>\n",
       "    </tr>\n",
       "    <tr>\n",
       "      <th>7</th>\n",
       "      <td>4</td>\n",
       "      <td>1</td>\n",
       "      <td>6</td>\n",
       "      <td>4</td>\n",
       "      <td>3</td>\n",
       "      <td>10</td>\n",
       "      <td>4</td>\n",
       "      <td>4</td>\n",
       "      <td>2</td>\n",
       "      <td>8</td>\n",
       "      <td>7</td>\n",
       "      <td>9</td>\n",
       "      <td>3</td>\n",
       "      <td>8</td>\n",
       "      <td>3</td>\n",
       "    </tr>\n",
       "    <tr>\n",
       "      <th>8</th>\n",
       "      <td>2</td>\n",
       "      <td>7</td>\n",
       "      <td>7</td>\n",
       "      <td>6</td>\n",
       "      <td>10</td>\n",
       "      <td>6</td>\n",
       "      <td>8</td>\n",
       "      <td>9</td>\n",
       "      <td>8</td>\n",
       "      <td>6</td>\n",
       "      <td>10</td>\n",
       "      <td>1</td>\n",
       "      <td>7</td>\n",
       "      <td>10</td>\n",
       "      <td>4</td>\n",
       "    </tr>\n",
       "    <tr>\n",
       "      <th>9</th>\n",
       "      <td>5</td>\n",
       "      <td>10</td>\n",
       "      <td>8</td>\n",
       "      <td>8</td>\n",
       "      <td>9</td>\n",
       "      <td>7</td>\n",
       "      <td>2</td>\n",
       "      <td>9</td>\n",
       "      <td>9</td>\n",
       "      <td>10</td>\n",
       "      <td>8</td>\n",
       "      <td>8</td>\n",
       "      <td>8</td>\n",
       "      <td>6</td>\n",
       "      <td>10</td>\n",
       "    </tr>\n",
       "  </tbody>\n",
       "</table>\n",
       "</div>"
      ],
      "text/plain": [
       "   0   1   2   3   4   5   6   7   8   9   10  11  12  13  14\n",
       "0   4   4   9   4   1   6  10   7   9   6   9   2   8   6   6\n",
       "1   9   2   5  10   7   8  10   5   6   2   1   6   8   9   7\n",
       "2   1   6   8   8   4   9   3   8  10   5   2   6   8   1   6\n",
       "3   6   1   9   7   7   9   2   3   5   1   6   6   3   2   7\n",
       "4   3   7   3   5   7   9   9   6   2   9   1   2   8  10   6\n",
       "5   8   3   7   3   8   6   1   8   8   6   1   9   4  10   1\n",
       "6   9   8   4   8   8  10   6   1   1   2   9   5   2   7   2\n",
       "7   4   1   6   4   3  10   4   4   2   8   7   9   3   8   3\n",
       "8   2   7   7   6  10   6   8   9   8   6  10   1   7  10   4\n",
       "9   5  10   8   8   9   7   2   9   9  10   8   8   8   6  10"
      ]
     },
     "execution_count": 24,
     "metadata": {},
     "output_type": "execute_result"
    }
   ],
   "source": [
    "pd.DataFrame(mov_s)"
   ]
  },
  {
   "cell_type": "markdown",
   "id": "e2bc2f68",
   "metadata": {},
   "source": [
    "### Ряды -юзеры, колонки- признаки фильмов. Сравниваем что для кого важно"
   ]
  },
  {
   "cell_type": "code",
   "execution_count": 25,
   "id": "dde77768",
   "metadata": {},
   "outputs": [
    {
     "data": {
      "text/plain": [
       "<AxesSubplot:>"
      ]
     },
     "execution_count": 25,
     "metadata": {},
     "output_type": "execute_result"
    },
    {
     "data": {
      "image/png": "[encoded data removed]",
      "text/plain": [
       "<Figure size 1080x576 with 2 Axes>"
      ]
     },
     "metadata": {
      "needs_background": "light"
     },
     "output_type": "display_data"
    }
   ],
   "source": [
    "import seaborn as sns\n",
    "df = pd.DataFrame(mov_s)\n",
    "plt.figure(figsize = (15,8))\n",
    "sns.heatmap(df, annot=True)"
   ]
  },
  {
   "cell_type": "markdown",
   "id": "b7f206d7",
   "metadata": {},
   "source": [
    "###### понятно что нельзя просто взять и выкинуть наугад 10 признаков.  Если все же маст-хэв, то оставлю первые 5 с наивысшим значение по каждому пользователю, так как они самые репрезентативные по конкретному типу. \n",
    "\n",
    "Использование методов для выбора признаков варьируется от одной проблемы к другой, а также от одного признака к другому в зависимости от того, является ли их тип категориальным или непрерывным."
   ]
  },
  {
   "cell_type": "code",
   "execution_count": 27,
   "id": "f5eb8951",
   "metadata": {},
   "outputs": [
    {
     "data": {
      "text/plain": [
       "array([ 4,  4,  9,  4,  1,  6, 10,  7,  9,  6,  9,  2,  8,  6,  6])"
      ]
     },
     "execution_count": 27,
     "metadata": {},
     "output_type": "execute_result"
    }
   ],
   "source": [
    "user_1"
   ]
  },
  {
   "cell_type": "code",
   "execution_count": 31,
   "id": "6819d105",
   "metadata": {
    "scrolled": true
   },
   "outputs": [
    {
     "name": "stdout",
     "output_type": "stream",
     "text": [
      "9\n",
      "10\n",
      "9\n",
      "9\n",
      "8\n"
     ]
    }
   ],
   "source": [
    "for x in user_1:\n",
    "    if x > 7:\n",
    "        print(x)"
   ]
  },
  {
   "cell_type": "markdown",
   "id": "89f3eff7",
   "metadata": {},
   "source": [
    "# ^ примерно вот так"
   ]
  },
  {
   "cell_type": "code",
   "execution_count": 32,
   "id": "b112159f",
   "metadata": {},
   "outputs": [],
   "source": [
    "summed = pd.DataFrame(mov_s)"
   ]
  },
  {
   "cell_type": "code",
   "execution_count": 35,
   "id": "90be08ef",
   "metadata": {
    "scrolled": true
   },
   "outputs": [
    {
     "data": {
      "text/plain": [
       "0     51\n",
       "1     49\n",
       "2     66\n",
       "3     63\n",
       "4     64\n",
       "5     80\n",
       "6     55\n",
       "7     60\n",
       "8     60\n",
       "9     55\n",
       "10    54\n",
       "11    54\n",
       "12    59\n",
       "13    69\n",
       "14    52\n",
       "dtype: int64"
      ]
     },
     "execution_count": 35,
     "metadata": {},
     "output_type": "execute_result"
    }
   ],
   "source": [
    "summed.sum()"
   ]
  },
  {
   "cell_type": "markdown",
   "id": "466cd660",
   "metadata": {},
   "source": [
    "### Либо как пример выше. Суммируем каждую колонку (обобщаем всех юзеров по каждой характеристике). Сортируем по убывающей и оставляем первые 5. "
   ]
  },
  {
   "cell_type": "code",
   "execution_count": 37,
   "id": "041e5ab7",
   "metadata": {},
   "outputs": [
    {
     "data": {
      "text/html": [
       "<div>\n",
       "<style scoped>\n",
       "    .dataframe tbody tr th:only-of-type {\n",
       "        vertical-align: middle;\n",
       "    }\n",
       "\n",
       "    .dataframe tbody tr th {\n",
       "        vertical-align: top;\n",
       "    }\n",
       "\n",
       "    .dataframe thead th {\n",
       "        text-align: right;\n",
       "    }\n",
       "</style>\n",
       "<table border=\"1\" class=\"dataframe\">\n",
       "  <thead>\n",
       "    <tr style=\"text-align: right;\">\n",
       "      <th></th>\n",
       "      <th>5</th>\n",
       "      <th>13</th>\n",
       "      <th>2</th>\n",
       "      <th>4</th>\n",
       "      <th>3</th>\n",
       "    </tr>\n",
       "  </thead>\n",
       "  <tbody>\n",
       "    <tr>\n",
       "      <th>0</th>\n",
       "      <td>6</td>\n",
       "      <td>6</td>\n",
       "      <td>9</td>\n",
       "      <td>1</td>\n",
       "      <td>4</td>\n",
       "    </tr>\n",
       "    <tr>\n",
       "      <th>1</th>\n",
       "      <td>8</td>\n",
       "      <td>9</td>\n",
       "      <td>5</td>\n",
       "      <td>7</td>\n",
       "      <td>10</td>\n",
       "    </tr>\n",
       "    <tr>\n",
       "      <th>2</th>\n",
       "      <td>9</td>\n",
       "      <td>1</td>\n",
       "      <td>8</td>\n",
       "      <td>4</td>\n",
       "      <td>8</td>\n",
       "    </tr>\n",
       "    <tr>\n",
       "      <th>3</th>\n",
       "      <td>9</td>\n",
       "      <td>2</td>\n",
       "      <td>9</td>\n",
       "      <td>7</td>\n",
       "      <td>7</td>\n",
       "    </tr>\n",
       "    <tr>\n",
       "      <th>4</th>\n",
       "      <td>9</td>\n",
       "      <td>10</td>\n",
       "      <td>3</td>\n",
       "      <td>7</td>\n",
       "      <td>5</td>\n",
       "    </tr>\n",
       "    <tr>\n",
       "      <th>5</th>\n",
       "      <td>6</td>\n",
       "      <td>10</td>\n",
       "      <td>7</td>\n",
       "      <td>8</td>\n",
       "      <td>3</td>\n",
       "    </tr>\n",
       "    <tr>\n",
       "      <th>6</th>\n",
       "      <td>10</td>\n",
       "      <td>7</td>\n",
       "      <td>4</td>\n",
       "      <td>8</td>\n",
       "      <td>8</td>\n",
       "    </tr>\n",
       "    <tr>\n",
       "      <th>7</th>\n",
       "      <td>10</td>\n",
       "      <td>8</td>\n",
       "      <td>6</td>\n",
       "      <td>3</td>\n",
       "      <td>4</td>\n",
       "    </tr>\n",
       "    <tr>\n",
       "      <th>8</th>\n",
       "      <td>6</td>\n",
       "      <td>10</td>\n",
       "      <td>7</td>\n",
       "      <td>10</td>\n",
       "      <td>6</td>\n",
       "    </tr>\n",
       "    <tr>\n",
       "      <th>9</th>\n",
       "      <td>7</td>\n",
       "      <td>6</td>\n",
       "      <td>8</td>\n",
       "      <td>9</td>\n",
       "      <td>8</td>\n",
       "    </tr>\n",
       "  </tbody>\n",
       "</table>\n",
       "</div>"
      ],
      "text/plain": [
       "   5   13  2   4   3 \n",
       "0   6   6   9   1   4\n",
       "1   8   9   5   7  10\n",
       "2   9   1   8   4   8\n",
       "3   9   2   9   7   7\n",
       "4   9  10   3   7   5\n",
       "5   6  10   7   8   3\n",
       "6  10   7   4   8   8\n",
       "7  10   8   6   3   4\n",
       "8   6  10   7  10   6\n",
       "9   7   6   8   9   8"
      ]
     },
     "execution_count": 37,
     "metadata": {},
     "output_type": "execute_result"
    }
   ],
   "source": [
    "s=summed.sum()\n",
    "df[s.sort_values(ascending=False).index[:5]]"
   ]
  },
  {
   "cell_type": "markdown",
   "id": "0b5f4010",
   "metadata": {},
   "source": [
    "### Сжали характеристики с 15 до 5."
   ]
  },
  {
   "cell_type": "markdown",
   "id": "50921a49",
   "metadata": {},
   "source": [
    "### Есть готовые методики в пакетах python sklearn. Важно также всегда проверять, насколько сбалансирован наш набор. Большой дисбаланс между классами меньшинства и большинства отрицательно повлияет на модель в том смысле, что она будет наивно предсказывать только класс большинства. \n",
    "  Отбор признаков с помощью χ2\n",
    "\n",
    "Тест χ2 (Распределение хи-квадратએ) используется в статистике для проверки независимости двух событий. Учитывая данные двух переменных, мы можем получить наблюдаемое число OOO и ожидаемое число EEE. χ2 измеряет, как ожидаемое число EEE и наблюдаемое число OOO отклоняются друг от друга.\n",
    "\n",
    "При отборе признаков, поскольку χ2 проверяет степень независимости между двумя переменными, а мы хотим сохранить только признаки, наиболее зависимые от метки, то будем вычислять χ2 между каждым признаком и меткой, сохраняя только kkk признаки с наибольшими значениями. Будет правильно использовать SelectKBest и χ2 из модуля sklearn.feature_selection. \n",
    "\n",
    "Отбор признаков с использованием рекурсивного исключения признаков (RFE): \n",
    " \n",
    "    - цель recursive feature elimination (RFE), исключения рекурсивных признаков, — выбрать признаки путем рекурсивного рассмотрения все меньших и меньших наборов признаков.\n",
    "    \n",
    "Отбор признаков с использованием случайного леса (Random Forest) :\n",
    "\n",
    "   -  Данные делятся на группы и характеристики одной группы сопоставляются с другими группами. Основная цель этих расщеплений — максимально возможно уменьшить количество «шумов» таких, как энтропия и коэффициент Джиниએ. Эти деревья, основанные на моделях могут рассчитать, насколько важен признак, рассчитав степень уменьшения «шумов» за счёт этого признака.\n"
   ]
  },
  {
   "cell_type": "code",
   "execution_count": null,
   "id": "58b9d582",
   "metadata": {},
   "outputs": [],
   "source": []
  },
  {
   "cell_type": "markdown",
   "id": "6108b8fa",
   "metadata": {},
   "source": [
    "# Задание 2\n",
    "Упражнения по вычислению производных (на python и на бумаге)"
   ]
  },
  {
   "cell_type": "code",
   "execution_count": 42,
   "id": "0cc63ba1",
   "metadata": {},
   "outputs": [],
   "source": [
    "import sympy as sym"
   ]
  },
  {
   "cell_type": "code",
   "execution_count": 56,
   "id": "345386c7",
   "metadata": {},
   "outputs": [],
   "source": [
    "x=sym.Symbol('x')\n",
    "y=sym.Symbol('y')\n",
    "tg=sym.Symbol('tg')"
   ]
  },
  {
   "cell_type": "code",
   "execution_count": 44,
   "id": "90d7446d",
   "metadata": {},
   "outputs": [
    {
     "data": {
      "text/latex": [
       "$\\displaystyle x^{3} + y^{2}$"
      ],
      "text/plain": [
       "x**3 + y**2"
      ]
     },
     "execution_count": 44,
     "metadata": {},
     "output_type": "execute_result"
    }
   ],
   "source": [
    "x**3+y**2"
   ]
  },
  {
   "cell_type": "code",
   "execution_count": 45,
   "id": "45174d60",
   "metadata": {},
   "outputs": [
    {
     "data": {
      "text/latex": [
       "$\\displaystyle 3 x^{2}$"
      ],
      "text/plain": [
       "3*x**2"
      ]
     },
     "execution_count": 45,
     "metadata": {},
     "output_type": "execute_result"
    }
   ],
   "source": [
    "sym.diff(x**3+y**2, x, 1)"
   ]
  },
  {
   "cell_type": "code",
   "execution_count": 46,
   "id": "73e9c7c7",
   "metadata": {},
   "outputs": [
    {
     "data": {
      "text/latex": [
       "$\\displaystyle 6$"
      ],
      "text/plain": [
       "6"
      ]
     },
     "execution_count": 46,
     "metadata": {},
     "output_type": "execute_result"
    }
   ],
   "source": [
    "sym.diff(x**3+y**2, x, 3)"
   ]
  },
  {
   "cell_type": "code",
   "execution_count": 47,
   "id": "7efc4450",
   "metadata": {},
   "outputs": [
    {
     "data": {
      "text/latex": [
       "$\\displaystyle 2 y$"
      ],
      "text/plain": [
       "2*y"
      ]
     },
     "execution_count": 47,
     "metadata": {},
     "output_type": "execute_result"
    }
   ],
   "source": [
    "sym.diff(x**3+y**2, y, 1)"
   ]
  },
  {
   "cell_type": "code",
   "execution_count": 48,
   "id": "f63a1ea7",
   "metadata": {},
   "outputs": [
    {
     "data": {
      "text/latex": [
       "$\\displaystyle x^{3} + \\left(2 x + y^{2}\\right)^{5}$"
      ],
      "text/plain": [
       "x**3 + (2*x + y**2)**5"
      ]
     },
     "execution_count": 48,
     "metadata": {},
     "output_type": "execute_result"
    }
   ],
   "source": [
    "x**3+(y**2+ 2*x)**5"
   ]
  },
  {
   "cell_type": "code",
   "execution_count": 49,
   "id": "b61cb039",
   "metadata": {},
   "outputs": [
    {
     "data": {
      "text/latex": [
       "$\\displaystyle 3 x^{2} + 10 \\left(2 x + y^{2}\\right)^{4}$"
      ],
      "text/plain": [
       "3*x**2 + 10*(2*x + y**2)**4"
      ]
     },
     "execution_count": 49,
     "metadata": {},
     "output_type": "execute_result"
    }
   ],
   "source": [
    "sym.diff(x**3+(y**2+ 2*x)**5, x, 1)"
   ]
  },
  {
   "cell_type": "code",
   "execution_count": 50,
   "id": "8fe2a936",
   "metadata": {},
   "outputs": [
    {
     "data": {
      "text/latex": [
       "$\\displaystyle 2 \\left(3 x + 40 \\left(2 x + y^{2}\\right)^{3}\\right)$"
      ],
      "text/plain": [
       "2*(3*x + 40*(2*x + y**2)**3)"
      ]
     },
     "execution_count": 50,
     "metadata": {},
     "output_type": "execute_result"
    }
   ],
   "source": [
    "sym.diff(x**3+(y**2+ 2*x)**5, x, 2)"
   ]
  },
  {
   "cell_type": "code",
   "execution_count": 51,
   "id": "734f0bf1",
   "metadata": {},
   "outputs": [
    {
     "data": {
      "text/latex": [
       "$\\displaystyle 6 \\left(80 \\left(2 x + y^{2}\\right)^{2} + 1\\right)$"
      ],
      "text/plain": [
       "6*(80*(2*x + y**2)**2 + 1)"
      ]
     },
     "execution_count": 51,
     "metadata": {},
     "output_type": "execute_result"
    }
   ],
   "source": [
    "sym.diff(x**3+(y**2+ 2*x)**5, x, 3)"
   ]
  },
  {
   "cell_type": "code",
   "execution_count": 52,
   "id": "5591b7ad",
   "metadata": {},
   "outputs": [
    {
     "data": {
      "text/latex": [
       "$\\displaystyle 3628800$"
      ],
      "text/plain": [
       "3628800"
      ]
     },
     "execution_count": 52,
     "metadata": {},
     "output_type": "execute_result"
    }
   ],
   "source": [
    "sym.diff(x**3+(y**2+ 2*x)**5, y, 10)"
   ]
  },
  {
   "cell_type": "markdown",
   "id": "685681d5",
   "metadata": {},
   "source": [
    "## на бумаге"
   ]
  },
  {
   "cell_type": "markdown",
   "id": "ec067c93",
   "metadata": {},
   "source": [
    "x**3+y**2\n",
    "\n",
    "по х =  х^3 -> 3x^2 -> 6x -> 6\n",
    "\n",
    "по у =  y^2 -> 2y -> 2\n"
   ]
  },
  {
   "cell_type": "markdown",
   "id": "41c0bd99",
   "metadata": {},
   "source": [
    "###### x**3+(y**2+ 2*x)**5\n",
    "\n",
    "по х  =  3x^2 +10*(2x+y^2)^4  -> 2*(3x+40(2x+y^2)^3) -> 6*(80*(2x+y^2)^2 +1) -> 1920*(2x+y^2) -> 3840\n",
    "\n",
    "по y  =  10y(2x + y^2)^4 -> 10(2x + y^2)^3*(2x+9y^2) -> 240y(2x + y^2)^2 * (2x + 3y^2) -> 240(2x+y^2)(8y^4+12y^2)+(2x +y^2)^2)\n",
    "\n",
    "    ->  480y(8y^4 + 40y^2(2x + y^2)+15(2x+y^2)^2)  ->  7200(8y^4+12y^2(2x +y^2)+(2x + y^2)^2) \n",
    "    \n",
    "    ->  201600y(2x +3y^2)  -> 201600(2x +9^2) -> 3628800y  ->  3628800     "
   ]
  },
  {
   "cell_type": "markdown",
   "id": "1c24118a",
   "metadata": {},
   "source": [
    "### Теперь то, что появилось в ссылке к заданию позже"
   ]
  },
  {
   "cell_type": "markdown",
   "id": "c8ba5b74",
   "metadata": {},
   "source": []
  },
  {
   "cell_type": "markdown",
   "id": "54ea0f68",
   "metadata": {},
   "source": [
    "tg^2(sin(x)+cos(2x+3))  ---\n",
    "\n",
    "ddx[tan**2*(cos(2x+3)+sin(x))]\n",
    "=2tan(cos(2x+3)+sin(x))⋅ddx[tan(cos(2x+3)+sin(x))]\n",
    "=2tan(cos(2x+3)+sin(x))*sec**2(cos(2x+3)+sin(x))⋅ddx[cos(2x+3)+sin(x)]\n",
    "=2tan(cos(2x+3)+sin(x))*sec**2(cos(2x+3)+sin(x))(ddx[cos(2x+3)]+ddx[sin(x)])\n",
    "=2tan(cos(2x+3)+sin(x))*sec**2(cos(2x+3)+sin(x))((−sin(2x+3))⋅ddx[2x+3]+cos(x))\n",
    "=2tan(cos(2x+3)+sin(x))*sec**2(cos(2x+3)+sin(x))(−(2⋅ddx[x]+ddx[3])sin(2x+3)+cos(x))\n",
    "=2tan(cos(2x+3)+sin(x))*sec**2(cos(2x+3)+sin(x))(−(2⋅1+0)sin(2x+3)+cos(x))\n",
    "=2(cos(x)−2sin(2x+3))*sec**2(cos(2x+3)+sin(x))tan(cos(2x+3)+sin(x))\n",
    "\n",
    "2(cos(x)−2sin(2x+3))sec2(cos(2x+3)+sin(x))tan(cos(2x+3)+sin(x))\n",
    "\n",
    "x=1\n",
    "###### tg^2(sin(1)+cos(2+3))\n",
    "\n",
    "2(cos−2sin(5))*sec**2(cos(5)+sin)*tan(cos(5)+sin)\n",
    " \n",
    " "
   ]
  },
  {
   "cell_type": "code",
   "execution_count": 71,
   "id": "c41d9927",
   "metadata": {},
   "outputs": [
    {
     "data": {
      "text/plain": [
       "1.1251331702711227"
      ]
     },
     "execution_count": 71,
     "metadata": {},
     "output_type": "execute_result"
    }
   ],
   "source": [
    "np.sin(1)+np.cos(5)"
   ]
  },
  {
   "cell_type": "code",
   "execution_count": 83,
   "id": "8d195c78",
   "metadata": {},
   "outputs": [
    {
     "data": {
      "text/plain": [
       "4.186575559122884"
      ]
     },
     "execution_count": 83,
     "metadata": {},
     "output_type": "execute_result"
    }
   ],
   "source": [
    "2*np.tan(np.sin(1)+np.cos(5))"
   ]
  },
  {
   "cell_type": "markdown",
   "id": "b2a2d771",
   "metadata": {},
   "source": [
    "# Задание 3\n",
    "\n",
    "Дана функция с неизвестными параметрами a и b, вам также известны значения функции fx в точках x. Найдите оптимальные параметры a, b, минимизирующие абсолютную ошибку error."
   ]
  },
  {
   "cell_type": "code",
   "execution_count": 5,
   "id": "2a43420b",
   "metadata": {},
   "outputs": [],
   "source": [
    "from scipy.optimize import minimize\n",
    "import numpy as np"
   ]
  },
  {
   "cell_type": "markdown",
   "id": "3ead7048",
   "metadata": {},
   "source": [
    "### функция Розенброка"
   ]
  },
  {
   "cell_type": "code",
   "execution_count": 6,
   "id": "8f7707a2",
   "metadata": {},
   "outputs": [],
   "source": [
    "def rosen(x):\n",
    "    return sum(100.0*(x[1:]-x[:-1]**2.0)**2.0 + (1-x[:-1])**2.0)"
   ]
  },
  {
   "cell_type": "markdown",
   "id": "51bd1a4b",
   "metadata": {},
   "source": [
    "### ... вам также известны значения функции fx в точках x"
   ]
  },
  {
   "cell_type": "code",
   "execution_count": 73,
   "id": "2e45e2e6",
   "metadata": {},
   "outputs": [],
   "source": [
    "x0 = np.array([1.2, 0.8, 0.6, 2.3, 1.3])  # ЭТО ИЗВЕСТНЫЕ Х- ЗНАЧЕНИЯ ФУНКЦИИ С ПАРАМЕТРАМИ А и В"
   ]
  },
  {
   "cell_type": "code",
   "execution_count": 10,
   "id": "350e15e0",
   "metadata": {},
   "outputs": [
    {
     "name": "stdout",
     "output_type": "stream",
     "text": [
      "Optimization terminated successfully.\n",
      "         Current function value: 0.000000\n",
      "         Iterations: 400\n",
      "         Function evaluations: 675\n"
     ]
    }
   ],
   "source": [
    "res = minimize(rosen, x0, method='nelder-mead', options={'xtol': 1e-8, 'disp':True})"
   ]
  },
  {
   "cell_type": "code",
   "execution_count": 11,
   "id": "4474fafa",
   "metadata": {},
   "outputs": [
    {
     "data": {
      "text/plain": [
       "array([1., 1., 1., 1., 1.])"
      ]
     },
     "execution_count": 11,
     "metadata": {},
     "output_type": "execute_result"
    }
   ],
   "source": [
    "res.x"
   ]
  },
  {
   "cell_type": "code",
   "execution_count": 13,
   "id": "bffbc016",
   "metadata": {},
   "outputs": [
    {
     "data": {
      "text/plain": [
       "2.900252727916345e-17"
      ]
     },
     "execution_count": 13,
     "metadata": {},
     "output_type": "execute_result"
    }
   ],
   "source": [
    "rosen(res.x)"
   ]
  },
  {
   "cell_type": "code",
   "execution_count": 15,
   "id": "ab81abbd",
   "metadata": {},
   "outputs": [
    {
     "data": {
      "text/plain": [
       "400"
      ]
     },
     "execution_count": 15,
     "metadata": {},
     "output_type": "execute_result"
    }
   ],
   "source": [
    "res.nit   #  количество иттераций"
   ]
  },
  {
   "cell_type": "markdown",
   "id": "569c630b",
   "metadata": {},
   "source": [
    "### Минимизация MSE  ( Mean Square Error)"
   ]
  },
  {
   "cell_type": "code",
   "execution_count": 21,
   "id": "0cd03fa2",
   "metadata": {},
   "outputs": [
    {
     "name": "stdout",
     "output_type": "stream",
     "text": [
      "   direc: array([[4.32201649e-13]])\n",
      "     fun: 0.0\n",
      " message: 'Optimization terminated successfully.'\n",
      "    nfev: 209\n",
      "     nit: 9\n",
      "  status: 0\n",
      " success: True\n",
      "       x: array([0.5])\n"
     ]
    }
   ],
   "source": [
    "ALPHA_TRUE = 0.5 # используется только для генерации некоторых тестовых данных \n",
    "\n",
    "def model(params, X):\n",
    "    # здесь реализовываю нашу реальную модель \n",
    "    alpha = params[0]\n",
    "    y_pred = np.exp(-alpha * X)\n",
    "    return y_pred\n",
    "\n",
    "def sum_of_squares(params, X, Y):\n",
    "    y_pred = model(params, X)\n",
    "    obj = np.sqrt(((y_pred - Y) ** 2).sum())\n",
    "    return obj\n",
    "\n",
    "\n",
    "# создаем данные для тестирования\n",
    "\n",
    "Y = model([ALPHA_TRUE], x0) # моделируем У от нашего оригинального х0\n",
    "\n",
    "\n",
    "# выполняем подгонку, чтобы найти оптимальные параметры \n",
    "# начальное значение для alpha (предположение)\n",
    "alpha_0 = 0.1\n",
    "\n",
    "res = minimize(sum_of_squares, [alpha_0, ], args=(x0, Y), tol=1e-3, method=\"Powell\")\n",
    "print(res)"
   ]
  },
  {
   "cell_type": "markdown",
   "id": "22144d19",
   "metadata": {},
   "source": [
    "# Задание 4\n",
    "Создайте собственную дискретную случайную величину с 20 значениями. Сгенерируйте 1000 выборок размера 50.\n",
    "Посчитайте среднее для каждой выборки. Постройте гистограмму распределения средних."
   ]
  },
  {
   "cell_type": "code",
   "execution_count": 27,
   "id": "55b371ce",
   "metadata": {},
   "outputs": [],
   "source": [
    "import matplotlib.pyplot as plt"
   ]
  },
  {
   "cell_type": "markdown",
   "id": "544037e0",
   "metadata": {},
   "source": [
    "### Посчитайте среднее для каждой выборки."
   ]
  },
  {
   "cell_type": "code",
   "execution_count": 78,
   "id": "cff3b427",
   "metadata": {},
   "outputs": [],
   "source": [
    "of_20 = np.random.randint(0, 250, size = 20)"
   ]
  },
  {
   "cell_type": "code",
   "execution_count": 79,
   "id": "5533867e",
   "metadata": {},
   "outputs": [],
   "source": [
    "y_mean = []\n",
    "for v in range(1000):\n",
    "    y_mean.append(np.mean(np.random.randint(0, 20, size = 50)))"
   ]
  },
  {
   "cell_type": "code",
   "execution_count": 80,
   "id": "753abcd7",
   "metadata": {
    "scrolled": true
   },
   "outputs": [
    {
     "data": {
      "image/png": "[encoded data removed]",
      "text/plain": [
       "<Figure size 432x288 with 1 Axes>"
      ]
     },
     "metadata": {
      "needs_background": "light"
     },
     "output_type": "display_data"
    }
   ],
   "source": [
    "h = plt.hist(y_mean, bins=1000, density=True)"
   ]
  },
  {
   "cell_type": "code",
   "execution_count": 81,
   "id": "4c072b6d",
   "metadata": {},
   "outputs": [
    {
     "data": {
      "text/plain": [
       "[9.64,\n",
       " 9.0,\n",
       " 10.76,\n",
       " 8.48,\n",
       " 9.76,\n",
       " 7.74,\n",
       " 10.22,\n",
       " 11.14,\n",
       " 9.74,\n",
       " 10.04,\n",
       " 10.0,\n",
       " 9.8,\n",
       " 8.4,\n",
       " 9.4,\n",
       " 10.58,\n",
       " 10.68,\n",
       " 8.94,\n",
       " 9.86,\n",
       " 10.66,\n",
       " 10.26,\n",
       " 9.32,\n",
       " 10.46,\n",
       " 9.56,\n",
       " 8.84,\n",
       " 8.48,\n",
       " 10.2,\n",
       " 8.2,\n",
       " 9.04,\n",
       " 10.08,\n",
       " 9.58,\n",
       " 9.52,\n",
       " 9.2,\n",
       " 9.7,\n",
       " 10.8,\n",
       " 10.98,\n",
       " 9.86,\n",
       " 8.94,\n",
       " 9.72,\n",
       " 10.36,\n",
       " 8.96,\n",
       " 8.5,\n",
       " 10.66,\n",
       " 10.56,\n",
       " 10.04,\n",
       " 9.28,\n",
       " 10.5,\n",
       " 8.16,\n",
       " 9.96,\n",
       " 9.34,\n",
       " 10.38,\n",
       " 10.68,\n",
       " 9.46,\n",
       " 9.04,\n",
       " 9.0,\n",
       " 8.84,\n",
       " 8.74,\n",
       " 10.18,\n",
       " 9.34,\n",
       " 9.52,\n",
       " 11.2,\n",
       " 9.6,\n",
       " 9.8,\n",
       " 11.38,\n",
       " 9.6,\n",
       " 10.2,\n",
       " 8.76,\n",
       " 10.2,\n",
       " 9.92,\n",
       " 9.28,\n",
       " 9.44,\n",
       " 8.92,\n",
       " 9.14,\n",
       " 8.52,\n",
       " 8.8,\n",
       " 10.14,\n",
       " 9.4,\n",
       " 8.58,\n",
       " 10.18,\n",
       " 8.66,\n",
       " 9.12,\n",
       " 9.88,\n",
       " 9.78,\n",
       " 10.42,\n",
       " 9.52,\n",
       " 9.12,\n",
       " 10.14,\n",
       " 9.04,\n",
       " 10.52,\n",
       " 9.38,\n",
       " 9.22,\n",
       " 9.56,\n",
       " 10.22,\n",
       " 11.72,\n",
       " 9.96,\n",
       " 8.76,\n",
       " 8.94,\n",
       " 10.62,\n",
       " 10.7,\n",
       " 9.62,\n",
       " 8.26,\n",
       " 9.28,\n",
       " 10.16,\n",
       " 8.84,\n",
       " 8.94,\n",
       " 10.92,\n",
       " 9.28,\n",
       " 9.4,\n",
       " 10.36,\n",
       " 9.74,\n",
       " 8.56,\n",
       " 9.86,\n",
       " 9.66,\n",
       " 9.96,\n",
       " 10.26,\n",
       " 9.5,\n",
       " 9.16,\n",
       " 8.32,\n",
       " 8.4,\n",
       " 9.58,\n",
       " 10.7,\n",
       " 10.56,\n",
       " 10.84,\n",
       " 11.12,\n",
       " 8.64,\n",
       " 8.44,\n",
       " 9.66,\n",
       " 10.06,\n",
       " 9.1,\n",
       " 9.78,\n",
       " 10.0,\n",
       " 9.78,\n",
       " 9.42,\n",
       " 11.26,\n",
       " 10.78,\n",
       " 9.66,\n",
       " 9.9,\n",
       " 8.86,\n",
       " 9.46,\n",
       " 10.06,\n",
       " 8.78,\n",
       " 9.8,\n",
       " 9.44,\n",
       " 9.02,\n",
       " 8.32,\n",
       " 9.14,\n",
       " 9.12,\n",
       " 9.8,\n",
       " 9.14,\n",
       " 9.58,\n",
       " 9.22,\n",
       " 8.8,\n",
       " 9.74,\n",
       " 10.6,\n",
       " 10.26,\n",
       " 10.1,\n",
       " 11.46,\n",
       " 8.72,\n",
       " 9.76,\n",
       " 8.9,\n",
       " 9.48,\n",
       " 8.98,\n",
       " 9.62,\n",
       " 9.9,\n",
       " 9.56,\n",
       " 8.26,\n",
       " 10.14,\n",
       " 11.08,\n",
       " 8.52,\n",
       " 9.5,\n",
       " 10.14,\n",
       " 8.38,\n",
       " 9.52,\n",
       " 9.76,\n",
       " 9.26,\n",
       " 10.86,\n",
       " 9.68,\n",
       " 9.34,\n",
       " 8.92,\n",
       " 8.94,\n",
       " 7.16,\n",
       " 8.58,\n",
       " 8.94,\n",
       " 8.4,\n",
       " 9.84,\n",
       " 10.04,\n",
       " 9.5,\n",
       " 9.82,\n",
       " 10.1,\n",
       " 9.66,\n",
       " 9.26,\n",
       " 10.18,\n",
       " 8.74,\n",
       " 10.24,\n",
       " 9.96,\n",
       " 10.32,\n",
       " 9.18,\n",
       " 9.38,\n",
       " 10.06,\n",
       " 8.66,\n",
       " 8.9,\n",
       " 10.34,\n",
       " 10.7,\n",
       " 9.34,\n",
       " 6.7,\n",
       " 11.4,\n",
       " 10.36,\n",
       " 8.86,\n",
       " 10.6,\n",
       " 9.88,\n",
       " 9.26,\n",
       " 10.0,\n",
       " 10.82,\n",
       " 9.52,\n",
       " 7.32,\n",
       " 9.74,\n",
       " 8.5,\n",
       " 9.88,\n",
       " 9.98,\n",
       " 9.92,\n",
       " 9.24,\n",
       " 8.28,\n",
       " 9.04,\n",
       " 10.24,\n",
       " 8.9,\n",
       " 9.1,\n",
       " 9.58,\n",
       " 8.28,\n",
       " 10.06,\n",
       " 7.98,\n",
       " 10.54,\n",
       " 8.54,\n",
       " 8.36,\n",
       " 8.04,\n",
       " 10.38,\n",
       " 9.7,\n",
       " 8.82,\n",
       " 8.68,\n",
       " 9.14,\n",
       " 9.16,\n",
       " 8.78,\n",
       " 10.4,\n",
       " 10.26,\n",
       " 9.36,\n",
       " 9.64,\n",
       " 9.46,\n",
       " 9.96,\n",
       " 10.38,\n",
       " 9.14,\n",
       " 9.64,\n",
       " 8.8,\n",
       " 10.72,\n",
       " 8.88,\n",
       " 9.62,\n",
       " 8.96,\n",
       " 9.5,\n",
       " 8.64,\n",
       " 11.68,\n",
       " 8.46,\n",
       " 7.74,\n",
       " 10.24,\n",
       " 10.88,\n",
       " 10.58,\n",
       " 9.76,\n",
       " 8.86,\n",
       " 9.12,\n",
       " 9.72,\n",
       " 10.1,\n",
       " 10.76,\n",
       " 9.64,\n",
       " 10.02,\n",
       " 9.22,\n",
       " 10.78,\n",
       " 10.68,\n",
       " 10.62,\n",
       " 10.78,\n",
       " 9.18,\n",
       " 11.22,\n",
       " 10.72,\n",
       " 10.56,\n",
       " 9.22,\n",
       " 9.8,\n",
       " 9.42,\n",
       " 10.62,\n",
       " 8.16,\n",
       " 8.72,\n",
       " 8.66,\n",
       " 7.92,\n",
       " 10.48,\n",
       " 8.86,\n",
       " 8.76,\n",
       " 8.98,\n",
       " 10.24,\n",
       " 9.64,\n",
       " 9.62,\n",
       " 10.32,\n",
       " 7.5,\n",
       " 10.12,\n",
       " 10.58,\n",
       " 8.98,\n",
       " 9.04,\n",
       " 9.64,\n",
       " 9.52,\n",
       " 8.54,\n",
       " 9.72,\n",
       " 8.14,\n",
       " 10.02,\n",
       " 9.44,\n",
       " 9.68,\n",
       " 10.06,\n",
       " 8.84,\n",
       " 8.86,\n",
       " 10.72,\n",
       " 8.12,\n",
       " 10.56,\n",
       " 10.76,\n",
       " 8.48,\n",
       " 9.82,\n",
       " 10.14,\n",
       " 9.86,\n",
       " 7.62,\n",
       " 10.98,\n",
       " 10.16,\n",
       " 10.3,\n",
       " 9.74,\n",
       " 10.26,\n",
       " 9.64,\n",
       " 9.16,\n",
       " 9.48,\n",
       " 8.86,\n",
       " 9.72,\n",
       " 9.28,\n",
       " 11.06,\n",
       " 9.48,\n",
       " 9.5,\n",
       " 8.22,\n",
       " 9.74,\n",
       " 10.4,\n",
       " 10.52,\n",
       " 9.76,\n",
       " 9.3,\n",
       " 10.16,\n",
       " 10.26,\n",
       " 10.3,\n",
       " 8.52,\n",
       " 10.6,\n",
       " 9.84,\n",
       " 9.58,\n",
       " 11.14,\n",
       " 9.32,\n",
       " 9.6,\n",
       " 9.1,\n",
       " 9.82,\n",
       " 10.04,\n",
       " 9.92,\n",
       " 10.0,\n",
       " 9.88,\n",
       " 9.4,\n",
       " 9.26,\n",
       " 7.58,\n",
       " 10.16,\n",
       " 10.5,\n",
       " 9.3,\n",
       " 8.54,\n",
       " 10.0,\n",
       " 10.08,\n",
       " 9.5,\n",
       " 8.62,\n",
       " 8.7,\n",
       " 10.08,\n",
       " 9.64,\n",
       " 9.62,\n",
       " 9.32,\n",
       " 9.54,\n",
       " 9.38,\n",
       " 9.88,\n",
       " 11.5,\n",
       " 9.64,\n",
       " 8.9,\n",
       " 10.72,\n",
       " 8.64,\n",
       " 10.68,\n",
       " 10.24,\n",
       " 8.36,\n",
       " 9.84,\n",
       " 9.94,\n",
       " 10.94,\n",
       " 9.76,\n",
       " 9.58,\n",
       " 8.2,\n",
       " 10.28,\n",
       " 9.56,\n",
       " 8.78,\n",
       " 8.94,\n",
       " 9.12,\n",
       " 10.14,\n",
       " 10.34,\n",
       " 8.74,\n",
       " 9.86,\n",
       " 8.78,\n",
       " 9.28,\n",
       " 8.86,\n",
       " 8.06,\n",
       " 9.0,\n",
       " 10.82,\n",
       " 10.28,\n",
       " 9.24,\n",
       " 8.72,\n",
       " 10.48,\n",
       " 10.36,\n",
       " 10.26,\n",
       " 9.1,\n",
       " 9.04,\n",
       " 9.44,\n",
       " 9.62,\n",
       " 8.84,\n",
       " 9.54,\n",
       " 10.1,\n",
       " 10.52,\n",
       " 10.46,\n",
       " 8.72,\n",
       " 9.32,\n",
       " 10.02,\n",
       " 9.74,\n",
       " 9.48,\n",
       " 9.66,\n",
       " 9.18,\n",
       " 10.54,\n",
       " 10.72,\n",
       " 10.78,\n",
       " 10.32,\n",
       " 10.4,\n",
       " 9.38,\n",
       " 9.6,\n",
       " 9.26,\n",
       " 8.04,\n",
       " 8.8,\n",
       " 8.84,\n",
       " 8.52,\n",
       " 10.8,\n",
       " 8.26,\n",
       " 9.48,\n",
       " 11.08,\n",
       " 10.22,\n",
       " 8.52,\n",
       " 9.92,\n",
       " 9.72,\n",
       " 10.1,\n",
       " 10.3,\n",
       " 10.18,\n",
       " 9.06,\n",
       " 9.46,\n",
       " 9.76,\n",
       " 8.94,\n",
       " 9.2,\n",
       " 9.04,\n",
       " 10.22,\n",
       " 9.0,\n",
       " 9.24,\n",
       " 10.68,\n",
       " 10.1,\n",
       " 9.06,\n",
       " 8.78,\n",
       " 9.0,\n",
       " 10.72,\n",
       " 8.08,\n",
       " 9.36,\n",
       " 10.5,\n",
       " 10.18,\n",
       " 9.52,\n",
       " 10.54,\n",
       " 8.52,\n",
       " 8.66,\n",
       " 10.02,\n",
       " 10.38,\n",
       " 8.14,\n",
       " 8.1,\n",
       " 10.76,\n",
       " 9.56,\n",
       " 8.88,\n",
       " 9.32,\n",
       " 9.64,\n",
       " 9.38,\n",
       " 8.74,\n",
       " 10.42,\n",
       " 8.96,\n",
       " 8.92,\n",
       " 9.96,\n",
       " 9.7,\n",
       " 9.04,\n",
       " 10.84,\n",
       " 10.2,\n",
       " 9.28,\n",
       " 8.42,\n",
       " 10.66,\n",
       " 9.66,\n",
       " 10.06,\n",
       " 9.9,\n",
       " 10.24,\n",
       " 10.64,\n",
       " 9.96,\n",
       " 9.36,\n",
       " 9.2,\n",
       " 10.14,\n",
       " 9.7,\n",
       " 9.86,\n",
       " 9.68,\n",
       " 9.02,\n",
       " 8.16,\n",
       " 8.74,\n",
       " 9.06,\n",
       " 9.9,\n",
       " 8.22,\n",
       " 9.62,\n",
       " 8.84,\n",
       " 8.36,\n",
       " 9.46,\n",
       " 9.94,\n",
       " 9.8,\n",
       " 9.22,\n",
       " 9.2,\n",
       " 9.94,\n",
       " 7.18,\n",
       " 9.64,\n",
       " 10.18,\n",
       " 9.28,\n",
       " 8.06,\n",
       " 11.08,\n",
       " 10.44,\n",
       " 9.88,\n",
       " 10.9,\n",
       " 8.4,\n",
       " 7.46,\n",
       " 9.68,\n",
       " 9.78,\n",
       " 9.16,\n",
       " 9.46,\n",
       " 8.42,\n",
       " 9.04,\n",
       " 10.22,\n",
       " 9.6,\n",
       " 8.02,\n",
       " 8.84,\n",
       " 9.02,\n",
       " 10.3,\n",
       " 9.64,\n",
       " 9.7,\n",
       " 8.54,\n",
       " 8.6,\n",
       " 8.72,\n",
       " 10.06,\n",
       " 8.78,\n",
       " 9.38,\n",
       " 10.98,\n",
       " 8.04,\n",
       " 8.98,\n",
       " 9.0,\n",
       " 9.9,\n",
       " 10.22,\n",
       " 9.38,\n",
       " 7.54,\n",
       " 9.08,\n",
       " 9.04,\n",
       " 9.46,\n",
       " 7.76,\n",
       " 10.16,\n",
       " 9.4,\n",
       " 10.18,\n",
       " 9.86,\n",
       " 9.16,\n",
       " 9.24,\n",
       " 9.04,\n",
       " 9.22,\n",
       " 9.08,\n",
       " 8.9,\n",
       " 8.56,\n",
       " 9.88,\n",
       " 8.44,\n",
       " 8.94,\n",
       " 9.14,\n",
       " 9.14,\n",
       " 9.46,\n",
       " 11.6,\n",
       " 10.86,\n",
       " 10.32,\n",
       " 9.88,\n",
       " 9.86,\n",
       " 11.24,\n",
       " 9.84,\n",
       " 10.44,\n",
       " 8.38,\n",
       " 9.18,\n",
       " 9.32,\n",
       " 10.0,\n",
       " 9.8,\n",
       " 9.46,\n",
       " 8.64,\n",
       " 8.4,\n",
       " 9.52,\n",
       " 8.04,\n",
       " 10.56,\n",
       " 9.04,\n",
       " 9.32,\n",
       " 9.1,\n",
       " 9.86,\n",
       " 9.22,\n",
       " 8.82,\n",
       " 9.98,\n",
       " 8.16,\n",
       " 9.74,\n",
       " 8.86,\n",
       " 10.66,\n",
       " 9.04,\n",
       " 10.16,\n",
       " 9.78,\n",
       " 9.3,\n",
       " 9.78,\n",
       " 9.14,\n",
       " 9.62,\n",
       " 9.74,\n",
       " 9.5,\n",
       " 8.88,\n",
       " 9.42,\n",
       " 9.24,\n",
       " 9.46,\n",
       " 9.18,\n",
       " 9.82,\n",
       " 9.06,\n",
       " 9.36,\n",
       " 10.02,\n",
       " 9.02,\n",
       " 9.66,\n",
       " 8.72,\n",
       " 9.74,\n",
       " 10.1,\n",
       " 9.36,\n",
       " 10.3,\n",
       " 9.48,\n",
       " 10.1,\n",
       " 10.38,\n",
       " 9.24,\n",
       " 9.28,\n",
       " 8.8,\n",
       " 10.24,\n",
       " 10.38,\n",
       " 8.98,\n",
       " 8.3,\n",
       " 9.5,\n",
       " 8.9,\n",
       " 9.7,\n",
       " 9.38,\n",
       " 8.9,\n",
       " 10.44,\n",
       " 10.46,\n",
       " 9.82,\n",
       " 9.1,\n",
       " 9.0,\n",
       " 9.5,\n",
       " 8.88,\n",
       " 8.62,\n",
       " 10.16,\n",
       " 9.44,\n",
       " 9.94,\n",
       " 9.46,\n",
       " 9.64,\n",
       " 8.14,\n",
       " 9.66,\n",
       " 10.18,\n",
       " 9.16,\n",
       " 10.04,\n",
       " 9.08,\n",
       " 13.36,\n",
       " 9.64,\n",
       " 8.88,\n",
       " 9.54,\n",
       " 9.7,\n",
       " 9.34,\n",
       " 9.32,\n",
       " 9.04,\n",
       " 9.86,\n",
       " 9.46,\n",
       " 11.32,\n",
       " 9.5,\n",
       " 8.56,\n",
       " 9.32,\n",
       " 11.26,\n",
       " 9.76,\n",
       " 10.94,\n",
       " 8.94,\n",
       " 8.68,\n",
       " 8.98,\n",
       " 10.62,\n",
       " 10.52,\n",
       " 10.5,\n",
       " 8.84,\n",
       " 10.54,\n",
       " 8.78,\n",
       " 10.86,\n",
       " 9.46,\n",
       " 10.08,\n",
       " 10.24,\n",
       " 11.48,\n",
       " 8.98,\n",
       " 8.52,\n",
       " 8.88,\n",
       " 10.22,\n",
       " 9.58,\n",
       " 9.08,\n",
       " 8.8,\n",
       " 9.66,\n",
       " 9.24,\n",
       " 11.38,\n",
       " 10.22,\n",
       " 9.38,\n",
       " 9.64,\n",
       " 9.16,\n",
       " 9.18,\n",
       " 9.18,\n",
       " 9.5,\n",
       " 8.4,\n",
       " 9.58,\n",
       " 10.38,\n",
       " 8.32,\n",
       " 9.74,\n",
       " 8.6,\n",
       " 10.6,\n",
       " 8.98,\n",
       " 9.18,\n",
       " 11.08,\n",
       " 9.2,\n",
       " 8.54,\n",
       " 10.5,\n",
       " 8.66,\n",
       " 7.38,\n",
       " 11.3,\n",
       " 10.14,\n",
       " 10.5,\n",
       " 10.26,\n",
       " 10.34,\n",
       " 9.18,\n",
       " 9.46,\n",
       " 9.2,\n",
       " 8.4,\n",
       " 9.72,\n",
       " 9.36,\n",
       " 9.92,\n",
       " 8.74,\n",
       " 9.24,\n",
       " 9.04,\n",
       " 6.94,\n",
       " 9.6,\n",
       " 10.2,\n",
       " 9.74,\n",
       " 9.28,\n",
       " 9.56,\n",
       " 8.88,\n",
       " 9.78,\n",
       " 7.8,\n",
       " 9.7,\n",
       " 8.54,\n",
       " 8.68,\n",
       " 9.34,\n",
       " 9.52,\n",
       " 10.42,\n",
       " 8.72,\n",
       " 9.24,\n",
       " 11.42,\n",
       " 9.66,\n",
       " 9.64,\n",
       " 9.5,\n",
       " 8.56,\n",
       " 9.04,\n",
       " 10.34,\n",
       " 7.98,\n",
       " 9.3,\n",
       " 9.36,\n",
       " 10.5,\n",
       " 8.6,\n",
       " 8.62,\n",
       " 8.94,\n",
       " 9.96,\n",
       " 9.9,\n",
       " 8.52,\n",
       " 9.0,\n",
       " 9.66,\n",
       " 9.52,\n",
       " 8.78,\n",
       " 9.58,\n",
       " 10.3,\n",
       " 8.6,\n",
       " 8.56,\n",
       " 9.4,\n",
       " 9.7,\n",
       " 9.76,\n",
       " 8.92,\n",
       " 9.2,\n",
       " 11.04,\n",
       " 8.22,\n",
       " 9.7,\n",
       " 8.96,\n",
       " 10.24,\n",
       " 9.64,\n",
       " 9.54,\n",
       " 9.16,\n",
       " 9.94,\n",
       " 9.78,\n",
       " 8.76,\n",
       " 9.94,\n",
       " 8.86,\n",
       " 9.6,\n",
       " 8.7,\n",
       " 10.54,\n",
       " 8.38,\n",
       " 9.74,\n",
       " 8.78,\n",
       " 9.74,\n",
       " 10.48,\n",
       " 8.08,\n",
       " 10.06,\n",
       " 9.66,\n",
       " 9.44,\n",
       " 10.68,\n",
       " 9.48,\n",
       " 10.44,\n",
       " 10.74,\n",
       " 8.76,\n",
       " 9.68,\n",
       " 10.16,\n",
       " 10.52,\n",
       " 8.38,\n",
       " 11.1,\n",
       " 9.58,\n",
       " 9.72,\n",
       " 6.88,\n",
       " 9.3,\n",
       " 9.62,\n",
       " 10.42,\n",
       " 10.06,\n",
       " 9.8,\n",
       " 9.8,\n",
       " 8.04,\n",
       " 9.34,\n",
       " 10.26,\n",
       " 8.34,\n",
       " 8.72,\n",
       " 8.8,\n",
       " 9.3,\n",
       " 8.48,\n",
       " 10.18,\n",
       " 8.94,\n",
       " 9.44,\n",
       " 9.54,\n",
       " 9.1,\n",
       " 8.34,\n",
       " 9.58,\n",
       " 9.32,\n",
       " 9.5,\n",
       " 8.18,\n",
       " 10.04,\n",
       " 9.72,\n",
       " 9.84,\n",
       " 10.0,\n",
       " 9.22,\n",
       " 10.26,\n",
       " 8.88,\n",
       " 9.54,\n",
       " 9.52,\n",
       " 8.64,\n",
       " 9.2,\n",
       " 8.66,\n",
       " 10.6,\n",
       " 8.62,\n",
       " 10.04,\n",
       " 8.26,\n",
       " 10.94,\n",
       " 9.54,\n",
       " 9.46,\n",
       " 8.3,\n",
       " 8.26,\n",
       " 8.46,\n",
       " 9.12,\n",
       " 8.46,\n",
       " 8.48,\n",
       " 9.32,\n",
       " 10.32,\n",
       " 10.98,\n",
       " 10.16,\n",
       " 9.52,\n",
       " 10.34,\n",
       " 11.6,\n",
       " 9.96,\n",
       " 9.24,\n",
       " 10.6,\n",
       " 8.62,\n",
       " 7.3,\n",
       " 9.28,\n",
       " 9.86,\n",
       " 10.08,\n",
       " 9.02,\n",
       " 9.9,\n",
       " 10.1,\n",
       " 9.16,\n",
       " 9.08,\n",
       " 9.62,\n",
       " 10.38,\n",
       " 10.46,\n",
       " 9.0,\n",
       " 7.56,\n",
       " 7.76,\n",
       " 9.2,\n",
       " 9.8,\n",
       " 9.06,\n",
       " 9.82,\n",
       " 9.26,\n",
       " 10.68,\n",
       " 7.04,\n",
       " 8.12,\n",
       " 8.94,\n",
       " 8.42,\n",
       " 9.16,\n",
       " 9.12,\n",
       " 10.0,\n",
       " 9.4,\n",
       " 8.8,\n",
       " 8.26,\n",
       " 9.3,\n",
       " 9.88,\n",
       " 9.02,\n",
       " 8.02,\n",
       " 9.74,\n",
       " 8.22,\n",
       " 9.5,\n",
       " 8.42,\n",
       " 8.66,\n",
       " 9.18,\n",
       " 10.06,\n",
       " 8.12,\n",
       " 9.04,\n",
       " 8.38,\n",
       " 9.66,\n",
       " 8.7,\n",
       " 8.66,\n",
       " 9.34,\n",
       " 10.32,\n",
       " 10.2,\n",
       " 10.2,\n",
       " 7.88,\n",
       " 10.32,\n",
       " 10.0,\n",
       " 8.44,\n",
       " 7.84,\n",
       " 9.38,\n",
       " 9.34,\n",
       " 11.0,\n",
       " 9.7,\n",
       " 8.98,\n",
       " 9.2,\n",
       " 9.6,\n",
       " 11.1,\n",
       " 9.84,\n",
       " 10.36,\n",
       " 9.58,\n",
       " 10.3,\n",
       " 10.5,\n",
       " 8.72,\n",
       " 9.78,\n",
       " 10.14,\n",
       " 8.4,\n",
       " 10.12,\n",
       " 8.98,\n",
       " 8.6,\n",
       " 10.28,\n",
       " 9.12,\n",
       " 8.9,\n",
       " 9.32,\n",
       " 10.3,\n",
       " 8.5,\n",
       " 11.32,\n",
       " 9.22,\n",
       " 10.32,\n",
       " 9.84,\n",
       " 10.32,\n",
       " 10.84,\n",
       " 10.22,\n",
       " 10.3,\n",
       " 10.1,\n",
       " 9.76,\n",
       " 9.52,\n",
       " 9.8,\n",
       " 9.96,\n",
       " 9.44,\n",
       " 9.22,\n",
       " 10.72,\n",
       " 9.6,\n",
       " 11.46,\n",
       " 9.8,\n",
       " 9.12,\n",
       " 8.66,\n",
       " 10.24,\n",
       " 11.28,\n",
       " 8.72]"
      ]
     },
     "execution_count": 81,
     "metadata": {},
     "output_type": "execute_result"
    }
   ],
   "source": [
    "y_mean"
   ]
  },
  {
   "cell_type": "markdown",
   "id": "e90cf83e",
   "metadata": {},
   "source": [
    "# Задание 5\n",
    "Найдите собственные значения и собственные вектора матрицы (на python и на бумаге)"
   ]
  },
  {
   "cell_type": "markdown",
   "id": "19374060",
   "metadata": {},
   "source": [
    "###### python"
   ]
  },
  {
   "cell_type": "code",
   "execution_count": 133,
   "id": "854fd7c6",
   "metadata": {},
   "outputs": [],
   "source": [
    "numbers=np.random.rand(9,9)"
   ]
  },
  {
   "cell_type": "code",
   "execution_count": 136,
   "id": "d523c5e3",
   "metadata": {
    "scrolled": true
   },
   "outputs": [
    {
     "data": {
      "text/plain": [
       "(array([ 4.42528955+0.j        , -0.8874813 +0.j        ,\n",
       "        -0.47849107+0.52614322j, -0.47849107-0.52614322j,\n",
       "         0.4681977 +0.58984202j,  0.4681977 -0.58984202j,\n",
       "        -0.01859013+0.j        ,  0.17242741+0.j        ,\n",
       "         0.51100946+0.j        ]),\n",
       " array([[ 0.27262799+0.j        ,  0.66819109+0.j        ,\n",
       "          0.22094128+0.23281066j,  0.22094128-0.23281066j,\n",
       "          0.35946635-0.18400985j,  0.35946635+0.18400985j,\n",
       "          0.29596584+0.j        , -0.32166382+0.j        ,\n",
       "          0.28955099+0.j        ],\n",
       "        [ 0.30502746+0.j        ,  0.36408395+0.j        ,\n",
       "         -0.21794087-0.08310021j, -0.21794087+0.08310021j,\n",
       "         -0.33170222-0.15886363j, -0.33170222+0.15886363j,\n",
       "          0.71919865+0.j        , -0.6721592 +0.j        ,\n",
       "         -0.28305243+0.j        ],\n",
       "        [ 0.35751869+0.j        , -0.3798257 +0.j        ,\n",
       "          0.12281735-0.30909292j,  0.12281735+0.30909292j,\n",
       "          0.45366688+0.j        ,  0.45366688-0.j        ,\n",
       "         -0.06903424+0.j        , -0.04588878+0.j        ,\n",
       "          0.22848883+0.j        ],\n",
       "        [ 0.44759698+0.j        , -0.14021208+0.j        ,\n",
       "          0.06315031-0.10910724j,  0.06315031+0.10910724j,\n",
       "         -0.21061297-0.22008827j, -0.21061297+0.22008827j,\n",
       "         -0.07013844+0.j        ,  0.27673103+0.j        ,\n",
       "         -0.10160282+0.j        ],\n",
       "        [ 0.29312285+0.j        , -0.02356752+0.j        ,\n",
       "         -0.27009952+0.27028549j, -0.27009952-0.27028549j,\n",
       "         -0.24243991+0.29629817j, -0.24243991-0.29629817j,\n",
       "          0.11933675+0.j        ,  0.11437334+0.j        ,\n",
       "         -0.29263758+0.j        ],\n",
       "        [ 0.17113197+0.j        , -0.22434498+0.j        ,\n",
       "          0.03486591+0.14540136j,  0.03486591-0.14540136j,\n",
       "          0.21434107+0.01895698j,  0.21434107-0.01895698j,\n",
       "          0.08008376+0.j        , -0.2503775 +0.j        ,\n",
       "          0.64386041+0.j        ],\n",
       "        [ 0.32502525+0.j        , -0.26957599+0.j        ,\n",
       "          0.57377964+0.j        ,  0.57377964-0.j        ,\n",
       "          0.11162326+0.1227101j ,  0.11162326-0.1227101j ,\n",
       "         -0.31706313+0.j        ,  0.19378827+0.j        ,\n",
       "         -0.03503366+0.j        ],\n",
       "        [ 0.30928325+0.j        ,  0.27526538+0.j        ,\n",
       "         -0.36990385-0.1367183j , -0.36990385+0.1367183j ,\n",
       "         -0.30973992+0.21619372j, -0.30973992-0.21619372j,\n",
       "         -0.21379296+0.j        ,  0.30808519+0.j        ,\n",
       "         -0.14052019+0.j        ],\n",
       "        [ 0.43354915+0.j        , -0.24022532+0.j        ,\n",
       "         -0.17242755-0.1822776j , -0.17242755+0.1822776j ,\n",
       "          0.01539829-0.19936311j,  0.01539829+0.19936311j,\n",
       "         -0.46752677+0.j        ,  0.39725057+0.j        ,\n",
       "         -0.50233954+0.j        ]]))"
      ]
     },
     "execution_count": 136,
     "metadata": {},
     "output_type": "execute_result"
    }
   ],
   "source": [
    "np.linalg.eig(numbers)      # 1) собственные значения а внизу 2) вектора собственных значений"
   ]
  },
  {
   "cell_type": "code",
   "execution_count": 135,
   "id": "8c412d88",
   "metadata": {},
   "outputs": [
    {
     "data": {
      "text/plain": [
       "array([ 4.42528955+0.j        , -0.8874813 +0.j        ,\n",
       "       -0.47849107+0.52614322j, -0.47849107-0.52614322j,\n",
       "        0.4681977 +0.58984202j,  0.4681977 -0.58984202j,\n",
       "       -0.01859013+0.j        ,  0.17242741+0.j        ,\n",
       "        0.51100946+0.j        ])"
      ]
     },
     "execution_count": 135,
     "metadata": {},
     "output_type": "execute_result"
    }
   ],
   "source": [
    "np.linalg.eigvals(numbers)  # собственные значения"
   ]
  },
  {
   "cell_type": "markdown",
   "id": "e5c11fa3",
   "metadata": {},
   "source": [
    "## с целыми числами "
   ]
  },
  {
   "cell_type": "code",
   "execution_count": 148,
   "id": "469912f0",
   "metadata": {},
   "outputs": [
    {
     "data": {
      "text/plain": [
       "array([[38, 29, 13, 90, 28, 29,  4, 95, 55, 15],\n",
       "       [47, 36, 60, 32, 33, 99, 31, 81, 86,  9],\n",
       "       [62, 92, 10, 35, 39, 17, 50, 44, 49, 36],\n",
       "       [70, 34, 26,  7, 59, 80,  5, 24, 22, 49],\n",
       "       [31, 85, 71, 46, 66, 15, 57, 57,  3, 84],\n",
       "       [20, 18, 51, 55, 22, 41,  7, 67, 88, 10],\n",
       "       [87, 71, 42, 78, 75, 20, 98, 18, 37, 92],\n",
       "       [37, 97, 47, 91, 14, 82, 64, 38, 72, 82],\n",
       "       [70, 12, 55, 14, 74, 94, 95,  9, 72, 40],\n",
       "       [81, 68, 52, 92, 92, 30, 65, 52, 95, 22]])"
      ]
     },
     "execution_count": 148,
     "metadata": {},
     "output_type": "execute_result"
    }
   ],
   "source": [
    "vectors = np.random.randint(100, size=(10, 10))\n",
    "vectors"
   ]
  },
  {
   "cell_type": "code",
   "execution_count": 149,
   "id": "355f5da4",
   "metadata": {},
   "outputs": [
    {
     "data": {
      "text/plain": [
       "(array([ 500.39726677 +0.j        , -100.91569574 +0.j        ,\n",
       "          60.02762161+63.11115498j,   60.02762161-63.11115498j,\n",
       "         -44.36693072+49.15874261j,  -44.36693072-49.15874261j,\n",
       "          23.45215732+33.08474134j,   23.45215732-33.08474134j,\n",
       "         -24.85363372+16.43008955j,  -24.85363372-16.43008955j]),\n",
       " array([[-0.23846241+0.j        ,  0.39982875+0.j        ,\n",
       "         -0.29154129-0.00750282j, -0.29154129+0.00750282j,\n",
       "          0.10475181+0.1622139j ,  0.10475181-0.1622139j ,\n",
       "          0.52572398+0.09816165j,  0.52572398-0.09816165j,\n",
       "          0.29474173+0.25169851j,  0.29474173-0.25169851j],\n",
       "        [-0.30822799+0.j        , -0.05392623+0.j        ,\n",
       "         -0.14951469-0.33079371j, -0.14951469+0.33079371j,\n",
       "          0.28936531+0.12869581j,  0.28936531-0.12869581j,\n",
       "         -0.07017805-0.20845687j, -0.07017805+0.20845687j,\n",
       "         -0.08943543-0.01826064j, -0.08943543+0.01826064j],\n",
       "        [-0.27394285+0.j        ,  0.00543845+0.j        ,\n",
       "         -0.0825143 -0.01862127j, -0.0825143 +0.01862127j,\n",
       "          0.0335206 -0.25072298j,  0.0335206 +0.25072298j,\n",
       "          0.02308751-0.31481007j,  0.02308751+0.31481007j,\n",
       "          0.62292448+0.j        ,  0.62292448-0.j        ],\n",
       "        [-0.22274649+0.j        , -0.58647791+0.j        ,\n",
       "         -0.25276787+0.05414841j, -0.25276787-0.05414841j,\n",
       "          0.2263575 -0.16849094j,  0.2263575 +0.16849094j,\n",
       "          0.0296542 +0.26327742j,  0.0296542 -0.26327742j,\n",
       "          0.08398503-0.24876299j,  0.08398503+0.24876299j],\n",
       "        [-0.33318779+0.j        , -0.14540696+0.j        ,\n",
       "         -0.07179984+0.24825965j, -0.07179984-0.24825965j,\n",
       "         -0.07964462+0.33278195j, -0.07964462-0.33278195j,\n",
       "         -0.58664558+0.j        , -0.58664558-0.j        ,\n",
       "         -0.30699533-0.17220082j, -0.30699533+0.17220082j],\n",
       "        [-0.22856752+0.j        ,  0.3462786 +0.j        ,\n",
       "         -0.02348946-0.25404874j, -0.02348946+0.25404874j,\n",
       "         -0.08790291+0.112433j  , -0.08790291-0.112433j  ,\n",
       "         -0.06684451+0.09946963j, -0.06684451-0.09946963j,\n",
       "         -0.07330316-0.20443602j, -0.07330316+0.20443602j],\n",
       "        [-0.38869822+0.j        , -0.0822549 +0.j        ,\n",
       "          0.28986438+0.40254653j,  0.28986438-0.40254653j,\n",
       "         -0.2624984 -0.04380112j, -0.2624984 +0.04380112j,\n",
       "          0.22524002-0.10844526j,  0.22524002+0.10844526j,\n",
       "         -0.12589913-0.16190009j, -0.12589913+0.16190009j],\n",
       "        [-0.38104269+0.j        ,  0.02802465+0.j        ,\n",
       "         -0.06400175-0.17872949j, -0.06400175+0.17872949j,\n",
       "         -0.56442992+0.j        , -0.56442992-0.j        ,\n",
       "          0.15665876-0.02557649j,  0.15665876+0.02557649j,\n",
       "         -0.16757083+0.08746351j, -0.16757083-0.08746351j],\n",
       "        [-0.32881336+0.j        , -0.30997492+0.j        ,\n",
       "          0.50993241+0.j        ,  0.50993241-0.j        ,\n",
       "          0.24977486-0.00958097j,  0.24977486+0.00958097j,\n",
       "         -0.13984148+0.00561719j, -0.13984148-0.00561719j,\n",
       "         -0.15399325+0.20020404j, -0.15399325-0.20020404j],\n",
       "        [-0.39473436+0.j        ,  0.49855317+0.j        ,\n",
       "          0.11835243+0.14548124j,  0.11835243-0.14548124j,\n",
       "         -0.00596002-0.35976546j, -0.00596002+0.35976546j,\n",
       "         -0.10382321+0.13854647j, -0.10382321-0.13854647j,\n",
       "         -0.00732978+0.26788715j, -0.00732978-0.26788715j]]))"
      ]
     },
     "execution_count": 149,
     "metadata": {},
     "output_type": "execute_result"
    }
   ],
   "source": [
    "np.linalg.eig(vectors) # 1)array собственные значения  2)array вектора собственных значений"
   ]
  },
  {
   "cell_type": "code",
   "execution_count": 151,
   "id": "c28edb64",
   "metadata": {},
   "outputs": [
    {
     "data": {
      "text/plain": [
       "array([ 500.39726677 +0.j        , -100.91569574 +0.j        ,\n",
       "         60.02762161+63.11115498j,   60.02762161-63.11115498j,\n",
       "        -44.36693072+49.15874261j,  -44.36693072-49.15874261j,\n",
       "         23.45215732+33.08474134j,   23.45215732-33.08474134j,\n",
       "        -24.85363372+16.43008955j,  -24.85363372-16.43008955j])"
      ]
     },
     "execution_count": 151,
     "metadata": {},
     "output_type": "execute_result"
    }
   ],
   "source": [
    "np.linalg.eigvals(vectors) # 1)array собственные значения  "
   ]
  },
  {
   "cell_type": "markdown",
   "id": "5dc9fa4c",
   "metadata": {},
   "source": [
    "### на бумаге"
   ]
  },
  {
   "cell_type": "markdown",
   "id": "d05b1945",
   "metadata": {},
   "source": [
    "матрица | 7 3 |\n",
    "    A=  | 3 -1|  \n",
    "                   LI = L* | 1 0 | = | L 0 |\n",
    "                           | 0 1 |   | 0 L |\n",
    "                   A - LI= | 7 3 | - | L 0 |\n",
    "                           | 3-1 |   | 0 L |\n",
    "                           \n",
    "                          =| 7 - L   3  |\n",
    "                           |   3   -1-L |\n",
    "                           \n",
    "                      det  | 7-L    3 |\n",
    "                           |  3  -1-L |\n",
    "                           \n",
    "                          = (7-L)(-1-L)-(3)(3)\n",
    "                          = -7-7L + L +L**2 -9\n",
    "                          = L**2-6L-16\n",
    "                 L**2-6L-16 = 0  \n",
    "                 (L-8)(L+2)  = 0\n",
    "                 L = 8  ||  L = -2   <---  это наши СОБСТВЕННЫЕ ЗНАЧЕНИЯ\n",
    "                 \n",
    "       ДЛЯ ВЕКТОРОВ:   \n",
    "                   | 7 - L   3  |\n",
    "                   |   3   -1-L |  \n",
    "                   \n",
    "             L = 8:\n",
    "                   | 7 - 8   3  |  =  | -1  3 | -  назовем матрица В\n",
    "                   |   3   -1-8 |     |  3 -9 |\n",
    "                   \n",
    "               Bx = 0\n",
    "                   | -1  3 | | x1 | = | 0 |\n",
    "                   |  3 -9 | | x2 |   | 0 |\n",
    "                   \n",
    "                  [ -1  3 | 0 ]  ->  [ -1  3 | 0 ]    -x1 +3x2 = 0\n",
    "                  [  3 -9 | 0 ]      [  0  0 | 0 ]     3x2 = x1\n",
    "                  3R1+R2 -> R2          x1 x2        let x2 = 1\n",
    "                                                      3(1) = x1 \n",
    "                                                      x1 = 3\n",
    "           \n",
    "           \n",
    "    Собственные значения --> L = 8  ||  L = -2\n",
    "             Вектор      --> | 3 |\n",
    "                             | 1 |\n",
    "                             \n",
    "       Проверка    | 7 3 | | 3 | = 8 | 3 |\n",
    "                   | 3 -1| | 1 |     | 1 |\n",
    "                   \n",
    "                       | 24 |  =  | 24 |\n",
    "                       |  8 |     |  8 |"
   ]
  },
  {
   "cell_type": "code",
   "execution_count": null,
   "id": "1e406144",
   "metadata": {},
   "outputs": [],
   "source": []
  }
 ],
 "metadata": {
  "kernelspec": {
   "display_name": "Python 3",
   "language": "python",
   "name": "python3"
  },
  "language_info": {
   "codemirror_mode": {
    "name": "ipython",
    "version": 3
   },
   "file_extension": ".py",
   "mimetype": "text/x-python",
   "name": "python",
   "nbconvert_exporter": "python",
   "pygments_lexer": "ipython3",
   "version": "3.8.8"
  }
 },
 "nbformat": 4,
 "nbformat_minor": 5
}
