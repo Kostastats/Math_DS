{
 "cells": [
  {
   "cell_type": "markdown",
   "id": "5fa052c4",
   "metadata": {},
   "source": [
    "### Домашнее задание\n",
    "Вычислить значения первой и второй производной функции:\n",
    "\n",
    " f(x) = x^5 + 4sin(2*x)+cos(3*x+3)\n",
    " \n",
    "В точке x = 1.\n",
    "\n",
    "Постройте график функции, первой и второй производной:\n",
    "\n",
    "f(x)=sin^5(2*x+1)\n",
    "\n",
    "На отрезке [-5; 5]"
   ]
  },
  {
   "cell_type": "markdown",
   "id": "fb99eda9",
   "metadata": {},
   "source": [
    "\n",
    "\n",
    "\n",
    "\n",
    "\n",
    "\n",
    "\n",
    "### Решение\n",
    "\n",
    "\n",
    "\n",
    "\n",
    "\n",
    "\n",
    "\n",
    "\n",
    "\n"
   ]
  },
  {
   "cell_type": "markdown",
   "id": "41a0791e",
   "metadata": {},
   "source": [
    "###### Вычислить значения первой и второй производной функции:"
   ]
  },
  {
   "cell_type": "markdown",
   "id": "d6967310",
   "metadata": {},
   "source": [
    "f(x) = x^5 + 4*sin(2*x)+cos(3*x+3)\n",
    "\n",
    " переписал:\n",
    " \n",
    " cos(3x+3)+4sin(2x)+x5"
   ]
  },
  {
   "cell_type": "markdown",
   "id": "409a3bb0",
   "metadata": {},
   "source": [
    "###### первый дериватив"
   ]
  },
  {
   "cell_type": "markdown",
   "id": "b24f4f04",
   "metadata": {},
   "source": [
    "#### f'(x) = −3sin(3x+3)+8cos(2x)+5x4\n",
    "\n",
    "\n",
    "шаги вычисления: \n",
    "\n",
    "[cos(3x+3)+4sin(2x)+x5]\n",
    "\n",
    "=[cos(3x+3)]+4*[sin(2x)]+[x5]\n",
    "\n",
    "=(−sin(3x+3))*[3x+3]+4cos(2x)*[2x]+5x4\n",
    "\n",
    "=−(3*[x]+[3])*sin(3x+3)+4cos(2x)*2*[x]+5x4\n",
    "\n",
    "=−(3⋅1+0)*sin(3x+3)+8cos(2x)*1+5x4\n",
    "\n",
    "=−3sin(3x+3)+8cos(2x)+5x4"
   ]
  },
  {
   "cell_type": "markdown",
   "id": "81c8e8ca",
   "metadata": {},
   "source": [
    "###### второй дериватив"
   ]
  },
  {
   "cell_type": "markdown",
   "id": "79e24db2",
   "metadata": {},
   "source": [
    "#### f''(x) = −9cos(3x+3)−16sin(2x)+20x^3\n",
    "\n",
    "\n",
    "шаги вычисления:\n",
    "\n",
    "[−3sin(3x+3)+8cos(2x)+5x4]\n",
    "\n",
    "=−3*[sin(3x+3)]+8*[cos(2x)]+5*[x4]\n",
    "\n",
    "=−3cos(3x+3)*[3x+3]+8(−sin(2x))*[2x]+5*4x^3\n",
    "\n",
    "=−3cos(3x+3)(3*[x]+[3])−8*2*[x]⋅sin(2x)+20x3\n",
    "\n",
    "=−3cos(3x+3)(3⋅1+0)−16⋅1sin(2x)+20x3\n",
    "\n",
    "=−9cos(3x+3)−16sin(2x)+20x3"
   ]
  },
  {
   "cell_type": "markdown",
   "id": "589c5289",
   "metadata": {},
   "source": [
    "\n",
    "\n",
    "\n",
    "\n"
   ]
  },
  {
   "cell_type": "markdown",
   "id": "4927b322",
   "metadata": {},
   "source": [
    "##### Постройте график функции, первой и второй производной:"
   ]
  },
  {
   "cell_type": "markdown",
   "id": "3aa868b6",
   "metadata": {},
   "source": [
    "f(x)=sin^5(2*x+1)\n",
    "\n",
    "\n",
    "На отрезке [-5; 5]"
   ]
  },
  {
   "cell_type": "markdown",
   "id": "f9b45725",
   "metadata": {},
   "source": [
    "##### первый дериватив"
   ]
  },
  {
   "cell_type": "markdown",
   "id": "ed03990a",
   "metadata": {},
   "source": [
    "f'(x) = 10cos(2x+1)sin^4(2x+1)"
   ]
  },
  {
   "cell_type": "markdown",
   "id": "6eb0e592",
   "metadata": {},
   "source": [
    "######   шаги вычисления\n",
    "\n",
    "[sin5(2x+1)]\n",
    "\n",
    "=5sin^4(2x+1)*[sin(2x+1)]\n",
    "\n",
    "=5sin^4(2x+1)cos(2x+1)*[2x+1]\n",
    "\n",
    "=5sin4(2x+1)cos(2x+1)(2*[x]+[1])\n",
    "\n",
    "=5sin4(2x+1)cos(2x+1)(2⋅1+0)\n",
    "\n",
    "=10cos(2x+1)sin4(2x+1)"
   ]
  },
  {
   "cell_type": "markdown",
   "id": "7b64a13a",
   "metadata": {},
   "source": [
    "#### Второй дериватив"
   ]
  },
  {
   "cell_type": "markdown",
   "id": "baa29c92",
   "metadata": {},
   "source": [
    "f''(x) = 80cos2(2x+1)sin3(2x+1)−20sin5(2x+1)"
   ]
  },
  {
   "cell_type": "markdown",
   "id": "4b92c649",
   "metadata": {},
   "source": [
    "######  шаги вычисления\n",
    "\n",
    "[10cos(2x+1)sin4(2x+1)]\n",
    "\n",
    "=10*[cos(2x+1)sin4(2x+1)]\n",
    "\n",
    "=10([cos(2x+1)]*sin4(2x+1)+cos(2x+1)*[sin4(2x+1)])\n",
    "\n",
    "=10((−sin(2x+1))*[2x+1]⋅sin4(2x+1)+cos(2x+1)*4sin3(2x+1)*[sin(2x+1)])\n",
    "\n",
    "=10(−(2*[x]+[1])sin5(2x+1)+cos(2x+1)cos(2x+1)⋅4sin3(2x+1)*[2x+1])\n",
    "\n",
    "=10(−(2⋅1+0)sin5(2x+1)+4sin3(2x+1)cos2(2x+1)(2*[x]+[1]))\n",
    "\n",
    "=10(4sin3(2x+1)cos2(2x+1)(2⋅1+0)−2sin5(2x+1))\n",
    "\n",
    "=10(8cos2(2x+1)sin3(2x+1)−2sin5(2x+1))\n",
    "\n",
    "упростил:\n",
    "\n",
    "=80cos2(2x+1)sin3(2x+1)−20sin5(2x+1)"
   ]
  },
  {
   "cell_type": "code",
   "execution_count": 1,
   "id": "40cd8000",
   "metadata": {},
   "outputs": [],
   "source": [
    "import numpy as np\n",
    "import matplotlib.pyplot as plt"
   ]
  },
  {
   "cell_type": "code",
   "execution_count": 7,
   "id": "8c3ffd63",
   "metadata": {},
   "outputs": [],
   "source": [
    "def derivative_01(x):\n",
    "    return 10*np.cos(2*x+1)*np.sin(2*x+1)**4\n"
   ]
  },
  {
   "cell_type": "code",
   "execution_count": 11,
   "id": "40eca687",
   "metadata": {},
   "outputs": [],
   "source": [
    "def derivative_02(x):\n",
    "    return 80*np.cos(2*x+1)**2*np.sin(2*x+1)**3-20*np.sin(2*x+1)**5"
   ]
  },
  {
   "cell_type": "code",
   "execution_count": 9,
   "id": "c49892d5",
   "metadata": {},
   "outputs": [],
   "source": [
    "x = np.arange(-5,5)"
   ]
  },
  {
   "cell_type": "code",
   "execution_count": 10,
   "id": "f749b232",
   "metadata": {},
   "outputs": [
    {
     "data": {
      "image/png": "[encoded data removed]",
      "text/plain": [
       "<Figure size 432x288 with 1 Axes>"
      ]
     },
     "metadata": {
      "needs_background": "light"
     },
     "output_type": "display_data"
    }
   ],
   "source": [
    "plt.plot(x,derivative_01(x), label=\"deriv_01\")\n",
    "plt.xlabel('x')\n",
    "plt.ylabel('y')\n",
    "plt.legend()  # label at the bottom\n",
    "plt.title('first derivative')\n",
    "plt.show()"
   ]
  },
  {
   "cell_type": "code",
   "execution_count": 12,
   "id": "9fa25b1c",
   "metadata": {},
   "outputs": [
    {
     "data": {
      "image/png": "[encoded data removed]",
      "text/plain": [
       "<Figure size 432x288 with 1 Axes>"
      ]
     },
     "metadata": {
      "needs_background": "light"
     },
     "output_type": "display_data"
    }
   ],
   "source": [
    "plt.plot(x,derivative_02(x), label=\"deriv_02\")\n",
    "plt.xlabel('x')\n",
    "plt.ylabel('y')\n",
    "plt.legend()  # label at the bottom\n",
    "plt.title('second derivative')\n",
    "plt.show()"
   ]
  }
 ],
 "metadata": {
  "kernelspec": {
   "display_name": "Python 3",
   "language": "python",
   "name": "python3"
  },
  "language_info": {
   "codemirror_mode": {
    "name": "ipython",
    "version": 3
   },
   "file_extension": ".py",
   "mimetype": "text/x-python",
   "name": "python",
   "nbconvert_exporter": "python",
   "pygments_lexer": "ipython3",
   "version": "3.8.8"
  }
 },
 "nbformat": 4,
 "nbformat_minor": 5
}
