{
 "cells": [
  {
   "cell_type": "markdown",
   "id": "822f6cbc",
   "metadata": {},
   "source": [
    "### Задание №1\n",
    "Дан объект в 2d пространстве:\n",
    "import numpy as np\n",
    "import matplotlib.pyplot as plt\n",
    "A = [[-100, -100, 1],\n",
    "[-100, 100, 1],\n",
    "[100, 100, 1],\n",
    "[0, 0, 1],\n",
    "[100, -100, 1],\n",
    "[-100, -100, 1]]\n",
    "A = np.array(A)\n",
    "x = A[:,0]\n",
    "y = A[:,1]\n",
    "plt.plot(x, y)\n",
    "plt.ylim([-200, 200])\n",
    "plt.xlim([-200, 200])\n",
    "\n",
    "При помощи линейных отображений:\n",
    "● Уменьшить объект в два раза\n",
    "● Повернуть на 130 градусов\n",
    "● Отразить объект относительно прямой y=x\n",
    "● Вычислить определитель композиции преобразований\n",
    "(итоговой матрицы реализующей все три отображения\n",
    "\n",
    "\n"
   ]
  },
  {
   "cell_type": "markdown",
   "id": "58068c1f",
   "metadata": {},
   "source": [
    "### Задание №2\n",
    "Решите систему уравнений, используя матричный подход\n",
    "x + z = 2\n",
    "-x + y - 2z + w = -2\n",
    "4x + z - 2w = 0\n",
    "-4x + 4*y + w = 5"
   ]
  },
  {
   "cell_type": "markdown",
   "id": "8f4b5b22",
   "metadata": {},
   "source": [
    "###### Задание №1"
   ]
  },
  {
   "cell_type": "code",
   "execution_count": 1,
   "id": "58a1465f",
   "metadata": {},
   "outputs": [],
   "source": [
    "import numpy as np\n",
    "import matplotlib.pyplot as plt\n",
    "\n"
   ]
  },
  {
   "cell_type": "code",
   "execution_count": 2,
   "id": "6197ee27",
   "metadata": {},
   "outputs": [
    {
     "data": {
      "text/plain": [
       "(-200.0, 200.0)"
      ]
     },
     "execution_count": 2,
     "metadata": {},
     "output_type": "execute_result"
    },
    {
     "data": {
      "image/png": "[encoded data removed]",
      "text/plain": [
       "<Figure size 432x288 with 1 Axes>"
      ]
     },
     "metadata": {
      "needs_background": "light"
     },
     "output_type": "display_data"
    }
   ],
   "source": [
    "A = [[-100, -100, 1],\n",
    "[-100, 100, 1],\n",
    "[100, 100, 1],\n",
    "[0, 0, 1],\n",
    "[100, -100, 1],\n",
    "[-100, -100, 1]]\n",
    "A = np.array(A)\n",
    "x = A[:,0]\n",
    "y = A[:,1]\n",
    "plt.plot(x, y)\n",
    "plt.ylim([-200, 200])\n",
    "plt.xlim([-200, 200])"
   ]
  },
  {
   "cell_type": "markdown",
   "id": "5ae5ce8c",
   "metadata": {},
   "source": [
    "###### Уменьшить объект в два раза"
   ]
  },
  {
   "cell_type": "code",
   "execution_count": 3,
   "id": "d1848d94",
   "metadata": {},
   "outputs": [
    {
     "data": {
      "text/plain": [
       "array([[-100, -100,    1],\n",
       "       [-100,  100,    1],\n",
       "       [ 100,  100,    1],\n",
       "       [   0,    0,    1],\n",
       "       [ 100, -100,    1],\n",
       "       [-100, -100,    1]])"
      ]
     },
     "execution_count": 3,
     "metadata": {},
     "output_type": "execute_result"
    }
   ],
   "source": [
    "A"
   ]
  },
  {
   "cell_type": "code",
   "execution_count": 4,
   "id": "7282c269",
   "metadata": {},
   "outputs": [
    {
     "data": {
      "text/plain": [
       "array([[-100, -100,  100,    0,  100, -100],\n",
       "       [-100,  100,  100,    0, -100, -100],\n",
       "       [   1,    1,    1,    1,    1,    1]])"
      ]
     },
     "execution_count": 4,
     "metadata": {},
     "output_type": "execute_result"
    }
   ],
   "source": [
    "A.transpose()"
   ]
  },
  {
   "cell_type": "code",
   "execution_count": 5,
   "id": "aee69756",
   "metadata": {},
   "outputs": [
    {
     "data": {
      "text/plain": [
       "array([[0.5, 0. , 0. ],\n",
       "       [0. , 0.5, 0. ],\n",
       "       [0. , 0. , 1. ]])"
      ]
     },
     "execution_count": 5,
     "metadata": {},
     "output_type": "execute_result"
    }
   ],
   "source": [
    "B1= np.array([[0.5,0,0],[0,0.5,0], [0,0,1]])\n",
    "B1"
   ]
  },
  {
   "cell_type": "code",
   "execution_count": 6,
   "id": "db01c9f3",
   "metadata": {},
   "outputs": [
    {
     "data": {
      "text/plain": [
       "array([[-50., -50.,  50.,   0.,  50., -50.],\n",
       "       [-50.,  50.,  50.,   0., -50., -50.],\n",
       "       [  1.,   1.,   1.,   1.,   1.,   1.]])"
      ]
     },
     "execution_count": 6,
     "metadata": {},
     "output_type": "execute_result"
    }
   ],
   "source": [
    "A1 = B1@A.transpose()\n",
    "A1"
   ]
  },
  {
   "cell_type": "code",
   "execution_count": 7,
   "id": "8bc71eb3",
   "metadata": {},
   "outputs": [
    {
     "data": {
      "text/plain": [
       "array([[-50., -50.,   1.],\n",
       "       [-50.,  50.,   1.],\n",
       "       [ 50.,  50.,   1.],\n",
       "       [  0.,   0.,   1.],\n",
       "       [ 50., -50.,   1.],\n",
       "       [-50., -50.,   1.]])"
      ]
     },
     "execution_count": 7,
     "metadata": {},
     "output_type": "execute_result"
    }
   ],
   "source": [
    "A1 = A1.transpose()\n",
    "A1"
   ]
  },
  {
   "cell_type": "code",
   "execution_count": 8,
   "id": "1024b438",
   "metadata": {},
   "outputs": [
    {
     "data": {
      "text/plain": [
       "array([[-100, -100,    1],\n",
       "       [-100,  100,    1],\n",
       "       [ 100,  100,    1],\n",
       "       [   0,    0,    1],\n",
       "       [ 100, -100,    1],\n",
       "       [-100, -100,    1]])"
      ]
     },
     "execution_count": 8,
     "metadata": {},
     "output_type": "execute_result"
    }
   ],
   "source": [
    "A"
   ]
  },
  {
   "cell_type": "code",
   "execution_count": 9,
   "id": "a437bb43",
   "metadata": {},
   "outputs": [
    {
     "data": {
      "text/plain": [
       "(-200.0, 200.0)"
      ]
     },
     "execution_count": 9,
     "metadata": {},
     "output_type": "execute_result"
    },
    {
     "data": {
      "image/png": "[encoded data removed]",
      "text/plain": [
       "<Figure size 432x288 with 1 Axes>"
      ]
     },
     "metadata": {
      "needs_background": "light"
     },
     "output_type": "display_data"
    }
   ],
   "source": [
    "# Оригинальная фигура\n",
    "A = [[-100, -100, 1],\n",
    "[-100, 100, 1],\n",
    "[100, 100, 1],\n",
    "[0, 0, 1],\n",
    "[100, -100, 1],\n",
    "[-100, -100, 1]]\n",
    "A = np.array(A)\n",
    "x = A[:,0]\n",
    "y = A[:,1]\n",
    "plt.plot(x, y)\n",
    "plt.ylim([-200, 200])\n",
    "plt.xlim([-200, 200])"
   ]
  },
  {
   "cell_type": "code",
   "execution_count": 10,
   "id": "0fa5b6ef",
   "metadata": {},
   "outputs": [
    {
     "data": {
      "text/plain": [
       "(-200.0, 200.0)"
      ]
     },
     "execution_count": 10,
     "metadata": {},
     "output_type": "execute_result"
    },
    {
     "data": {
      "image/png": "[encoded data removed]",
      "text/plain": [
       "<Figure size 432x288 with 1 Axes>"
      ]
     },
     "metadata": {
      "needs_background": "light"
     },
     "output_type": "display_data"
    }
   ],
   "source": [
    "# В переменной А1 уменьшенный в 2 раза обьект\n",
    "A1 = np.array(A1)\n",
    "x = A1[:,0]\n",
    "y = A1[:,1]\n",
    "plt.plot(x, y)\n",
    "plt.grid()\n",
    "plt.ylim([-200, 200])\n",
    "plt.xlim([-200, 200])"
   ]
  },
  {
   "cell_type": "markdown",
   "id": "b2e99fb7",
   "metadata": {},
   "source": [
    "###### Повернуть на 130 градусов"
   ]
  },
  {
   "cell_type": "code",
   "execution_count": 11,
   "id": "89f306fb",
   "metadata": {},
   "outputs": [
    {
     "name": "stdout",
     "output_type": "stream",
     "text": [
      "rotation matrix:\n",
      "[[-0.64278761 -0.76604444  0.        ]\n",
      " [ 0.76604444 -0.64278761  0.        ]\n",
      " [ 0.          0.          1.        ]]\n"
     ]
    }
   ],
   "source": [
    "# Указываем угол 130 в переменную  theta\n",
    "theta = np.radians(130)\n",
    "\n",
    "r = np.array(( (np.cos(theta), -np.sin(theta), 0),\n",
    "               (np.sin(theta),  np.cos(theta), 0),\n",
    "             (0,0,1)))\n",
    "\n",
    "print('rotation matrix:')\n",
    "print(r)\n",
    "\n",
    "\n",
    "\n",
    "#print('apply the rotation matrix r to v: r*v')\n",
    "#print( r.dot(A1) )"
   ]
  },
  {
   "cell_type": "code",
   "execution_count": 12,
   "id": "8b2ef47e",
   "metadata": {
    "scrolled": true
   },
   "outputs": [
    {
     "data": {
      "text/plain": [
       "array([[ 70.44160264,  -6.16284167, -70.44160264,   0.        ,\n",
       "          6.16284167,  70.44160264],\n",
       "       [ -6.16284167, -70.44160264,   6.16284167,   0.        ,\n",
       "         70.44160264,  -6.16284167],\n",
       "       [  1.        ,   1.        ,   1.        ,   1.        ,\n",
       "          1.        ,   1.        ]])"
      ]
     },
     "execution_count": 12,
     "metadata": {},
     "output_type": "execute_result"
    }
   ],
   "source": [
    "# Нашу 130 градусов матрицу умножаем на уменьшенный в 2 раза обьект в переменной А1, все это сохраняем в переменную А2\n",
    "A2 = r@A1.transpose()\n",
    "A2"
   ]
  },
  {
   "cell_type": "code",
   "execution_count": 13,
   "id": "9fb6cdf8",
   "metadata": {},
   "outputs": [
    {
     "data": {
      "text/plain": [
       "array([[ 70.44160264,  -6.16284167,   1.        ],\n",
       "       [ -6.16284167, -70.44160264,   1.        ],\n",
       "       [-70.44160264,   6.16284167,   1.        ],\n",
       "       [  0.        ,   0.        ,   1.        ],\n",
       "       [  6.16284167,  70.44160264,   1.        ],\n",
       "       [ 70.44160264,  -6.16284167,   1.        ]])"
      ]
     },
     "execution_count": 13,
     "metadata": {},
     "output_type": "execute_result"
    }
   ],
   "source": [
    "# переменную А2 возвращаем в исходную матрицу типа\n",
    "A2 = A2.transpose()\n",
    "A2"
   ]
  },
  {
   "cell_type": "code",
   "execution_count": 14,
   "id": "c0e5a811",
   "metadata": {},
   "outputs": [
    {
     "data": {
      "text/plain": [
       "(-200.0, 200.0)"
      ]
     },
     "execution_count": 14,
     "metadata": {},
     "output_type": "execute_result"
    },
    {
     "data": {
      "image/png": "[encoded data removed]",
      "text/plain": [
       "<Figure size 432x288 with 1 Axes>"
      ]
     },
     "metadata": {
      "needs_background": "light"
     },
     "output_type": "display_data"
    }
   ],
   "source": [
    "# визуализируем поворотом в 130 градусов\n",
    "A2 = np.array(A2)\n",
    "x = A2[:,0]\n",
    "y = A2[:,1]\n",
    "plt.plot(x, y)\n",
    "plt.grid()\n",
    "plt.ylim([-200, 200])\n",
    "plt.xlim([-200, 200])"
   ]
  },
  {
   "cell_type": "markdown",
   "id": "75640b96",
   "metadata": {},
   "source": [
    "###### Отразить объект относительно прямой y=x"
   ]
  },
  {
   "cell_type": "code",
   "execution_count": 57,
   "id": "8ad1e038",
   "metadata": {},
   "outputs": [
    {
     "data": {
      "image/png": "[encoded data removed]",
      "text/plain": [
       "<Figure size 432x288 with 1 Axes>"
      ]
     },
     "metadata": {
      "needs_background": "light"
     },
     "output_type": "display_data"
    }
   ],
   "source": [
    "A2 = np.array(A2)\n",
    "x = A2[:,0]\n",
    "y = A2[:,1]\n",
    "plt.ylim([-200, 200])\n",
    "plt.xlim([-200, 200])\n",
    "plt.plot(x, y)\n",
    "plt.plot(x,-1*x)\n",
    "plt.grid()\n",
    "\n"
   ]
  },
  {
   "cell_type": "markdown",
   "id": "28dffe30",
   "metadata": {},
   "source": [
    "###### Вычислить определитель композиции преобразований (итоговой матрицы реализующей все три отображения"
   ]
  },
  {
   "cell_type": "code",
   "execution_count": 33,
   "id": "95efb4d7",
   "metadata": {},
   "outputs": [
    {
     "data": {
      "text/plain": [
       "array([[ 70.44160264,  -6.16284167,   1.        ],\n",
       "       [ -6.16284167, -70.44160264,   1.        ],\n",
       "       [-70.44160264,   6.16284167,   1.        ],\n",
       "       [  0.        ,   0.        ,   1.        ],\n",
       "       [  6.16284167,  70.44160264,   1.        ],\n",
       "       [ 70.44160264,  -6.16284167,   1.        ]])"
      ]
     },
     "execution_count": 33,
     "metadata": {},
     "output_type": "execute_result"
    }
   ],
   "source": [
    "(A2)"
   ]
  },
  {
   "cell_type": "code",
   "execution_count": 54,
   "id": "a8467194",
   "metadata": {},
   "outputs": [],
   "source": [
    "B2 = ([[70.44160264,  -6.16284167], [-6.16284167, -70.44160264]])"
   ]
  },
  {
   "cell_type": "code",
   "execution_count": 55,
   "id": "9cc6d957",
   "metadata": {},
   "outputs": [
    {
     "data": {
      "text/plain": [
       "-4999.999999941145"
      ]
     },
     "execution_count": 55,
     "metadata": {},
     "output_type": "execute_result"
    }
   ],
   "source": [
    "np.linalg.det(B2)"
   ]
  },
  {
   "cell_type": "markdown",
   "id": "98a78413",
   "metadata": {},
   "source": [
    "### Задание №2\n",
    "Решите систему уравнений, используя матричный подход\n",
    "\n",
    "x + z = 2\n",
    "\n",
    "-x + y - 2z + w = -2\n",
    "\n",
    "4x + z - 2w = 0\n",
    "\n",
    "-4x + 4*y + w = 5"
   ]
  },
  {
   "cell_type": "code",
   "execution_count": 17,
   "id": "32443ea6",
   "metadata": {},
   "outputs": [],
   "source": [
    "# действую по формуле матричного подхода x + z = 2  x,y,z,w == 1,0,1,0\n",
    "e_to_m = np.array([[1, 0, 1, 0],\n",
    "                   [-1, 1, -2, 1],\n",
    "                   [4, 0, 1, -2],\n",
    "                  [-4, 4, 0, 1]])"
   ]
  },
  {
   "cell_type": "code",
   "execution_count": 18,
   "id": "eb39f0e3",
   "metadata": {},
   "outputs": [],
   "source": [
    "B_side = np.array([2, -2, 0, 5])"
   ]
  },
  {
   "cell_type": "code",
   "execution_count": 19,
   "id": "de35636c",
   "metadata": {},
   "outputs": [],
   "source": [
    "from numpy.linalg import inv"
   ]
  },
  {
   "cell_type": "code",
   "execution_count": 20,
   "id": "01dd341b",
   "metadata": {},
   "outputs": [],
   "source": [
    "A_side = inv(np.matrix(e_to_m))"
   ]
  },
  {
   "cell_type": "code",
   "execution_count": 21,
   "id": "c313a7ad",
   "metadata": {},
   "outputs": [
    {
     "data": {
      "text/plain": [
       "matrix([[0., 1., 2., 1.]])"
      ]
     },
     "execution_count": 21,
     "metadata": {},
     "output_type": "execute_result"
    }
   ],
   "source": [
    "x_to_w = A_side@B_side\n",
    "x_to_w"
   ]
  },
  {
   "cell_type": "code",
   "execution_count": 22,
   "id": "c7fadf87",
   "metadata": {},
   "outputs": [],
   "source": [
    "import pandas as pd"
   ]
  },
  {
   "cell_type": "code",
   "execution_count": 23,
   "id": "003955d5",
   "metadata": {},
   "outputs": [
    {
     "name": "stdout",
     "output_type": "stream",
     "text": [
      "x =    0.0\n",
      "y =    1.0\n",
      "z =    2.0\n",
      "w =    1.0\n",
      "Name: 0, dtype: float64\n"
     ]
    }
   ],
   "source": [
    "df = pd.DataFrame(x_to_w)\n",
    "df = df.iloc[0]\n",
    "print(df.rename(index={0: \"x =\", 1: \"y =\", 2: \"z =\", 3: \"w =\"}))"
   ]
  },
  {
   "cell_type": "code",
   "execution_count": 58,
   "id": "78ceb3ee",
   "metadata": {},
   "outputs": [
    {
     "name": "stdout",
     "output_type": "stream",
     "text": [
      "2\n"
     ]
    }
   ],
   "source": [
    "# подставляем\n",
    "#  x + z = 2\n",
    "print(0 + 2)"
   ]
  },
  {
   "cell_type": "code",
   "execution_count": 60,
   "id": "b247b41e",
   "metadata": {},
   "outputs": [
    {
     "name": "stdout",
     "output_type": "stream",
     "text": [
      "-2\n"
     ]
    }
   ],
   "source": [
    "#  -x + y - 2z + w = -2\n",
    "print(-1*0 + 1 -2*2 + 1)"
   ]
  },
  {
   "cell_type": "code",
   "execution_count": 61,
   "id": "41a3ede5",
   "metadata": {},
   "outputs": [
    {
     "name": "stdout",
     "output_type": "stream",
     "text": [
      "0\n"
     ]
    }
   ],
   "source": [
    "# 4x + z - 2w = 0\n",
    "print(4*0 + 2 -2*1)"
   ]
  },
  {
   "cell_type": "code",
   "execution_count": 62,
   "id": "a380ac6f",
   "metadata": {},
   "outputs": [
    {
     "name": "stdout",
     "output_type": "stream",
     "text": [
      "5\n"
     ]
    }
   ],
   "source": [
    "#  -4x + 4*y + w = 5\n",
    "print(-4*0 + 4*1 + 1)"
   ]
  },
  {
   "cell_type": "code",
   "execution_count": null,
   "id": "bdf13019",
   "metadata": {},
   "outputs": [],
   "source": []
  }
 ],
 "metadata": {
  "kernelspec": {
   "display_name": "Python 3",
   "language": "python",
   "name": "python3"
  },
  "language_info": {
   "codemirror_mode": {
    "name": "ipython",
    "version": 3
   },
   "file_extension": ".py",
   "mimetype": "text/x-python",
   "name": "python",
   "nbconvert_exporter": "python",
   "pygments_lexer": "ipython3",
   "version": "3.8.8"
  }
 },
 "nbformat": 4,
 "nbformat_minor": 5
}
